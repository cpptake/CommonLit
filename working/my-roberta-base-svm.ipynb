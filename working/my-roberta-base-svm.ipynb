{
 "cells": [
  {
   "cell_type": "code",
   "execution_count": 1,
   "id": "proprietary-holly",
   "metadata": {
    "_cell_guid": "0370cb58-b86e-4c5e-818e-02d66259e073",
    "_uuid": "15c381cd-2a31-4ed7-8d5c-658a46471a46",
    "collapsed": false,
    "execution": {
     "iopub.execute_input": "2021-08-02T06:20:10.264462Z",
     "iopub.status.busy": "2021-08-02T06:20:10.263509Z",
     "iopub.status.idle": "2021-08-02T06:20:10.265366Z",
     "shell.execute_reply": "2021-08-02T06:20:10.264911Z",
     "shell.execute_reply.started": "2021-07-27T15:08:13.053851Z"
    },
    "jupyter": {
     "outputs_hidden": false
    },
    "papermill": {
     "duration": 0.026968,
     "end_time": "2021-08-02T06:20:10.265508",
     "exception": false,
     "start_time": "2021-08-02T06:20:10.238540",
     "status": "completed"
    },
    "tags": []
   },
   "outputs": [],
   "source": [
    "# !pip uninstall fsspec -y\n",
    "# !pip install --upgrade fsspec\n",
    "# !pip install transformers accelerate datasets"
   ]
  },
  {
   "cell_type": "markdown",
   "id": "consolidated-chance",
   "metadata": {
    "papermill": {
     "duration": 0.01601,
     "end_time": "2021-08-02T06:20:10.298074",
     "exception": false,
     "start_time": "2021-08-02T06:20:10.282064",
     "status": "completed"
    },
    "tags": []
   },
   "source": [
    "# Define"
   ]
  },
  {
   "cell_type": "code",
   "execution_count": 2,
   "id": "favorite-champagne",
   "metadata": {
    "execution": {
     "iopub.execute_input": "2021-08-02T06:20:10.340224Z",
     "iopub.status.busy": "2021-08-02T06:20:10.339589Z",
     "iopub.status.idle": "2021-08-02T06:20:17.714273Z",
     "shell.execute_reply": "2021-08-02T06:20:17.713818Z",
     "shell.execute_reply.started": "2021-08-02T06:15:02.574501Z"
    },
    "papermill": {
     "duration": 7.40011,
     "end_time": "2021-08-02T06:20:17.714433",
     "exception": false,
     "start_time": "2021-08-02T06:20:10.314323",
     "status": "completed"
    },
    "tags": []
   },
   "outputs": [],
   "source": [
    "import os\n",
    "import math\n",
    "import random\n",
    "import time\n",
    "from tqdm import tqdm\n",
    "\n",
    "import numpy as np\n",
    "import pandas as pd\n",
    "\n",
    "import torch\n",
    "import torch.nn as nn\n",
    "from torch.utils.data import Dataset\n",
    "from torch.utils.data import DataLoader\n",
    "\n",
    "from transformers import AdamW\n",
    "from transformers import AutoTokenizer\n",
    "from transformers import AutoModel\n",
    "from transformers import AutoConfig\n",
    "from transformers import get_cosine_schedule_with_warmup\n",
    "\n",
    "from sklearn.svm import SVR\n",
    "from sklearn.linear_model import Lasso\n",
    "from sklearn.linear_model import Ridge\n",
    "from sklearn.metrics import mean_squared_error\n",
    "from sklearn.model_selection import KFold,StratifiedKFold\n",
    "import gc\n",
    "gc.enable()"
   ]
  },
  {
   "cell_type": "code",
   "execution_count": 3,
   "id": "individual-request",
   "metadata": {
    "execution": {
     "iopub.execute_input": "2021-08-02T06:20:17.750874Z",
     "iopub.status.busy": "2021-08-02T06:20:17.750334Z",
     "iopub.status.idle": "2021-08-02T06:20:17.754110Z",
     "shell.execute_reply": "2021-08-02T06:20:17.753711Z",
     "shell.execute_reply.started": "2021-08-02T06:15:12.197232Z"
    },
    "papermill": {
     "duration": 0.022954,
     "end_time": "2021-08-02T06:20:17.754215",
     "exception": false,
     "start_time": "2021-08-02T06:20:17.731261",
     "status": "completed"
    },
    "tags": []
   },
   "outputs": [],
   "source": [
    "# test_df = pd.read_csv(\"../input/commonlitreadabilityprize/test.csv\")\n",
    "# submission_df = pd.read_csv(\"../input/commonlitreadabilityprize/sample_submission.csv\")"
   ]
  },
  {
   "cell_type": "code",
   "execution_count": 4,
   "id": "equipped-evening",
   "metadata": {
    "execution": {
     "iopub.execute_input": "2021-08-02T06:20:17.829940Z",
     "iopub.status.busy": "2021-08-02T06:20:17.829260Z",
     "iopub.status.idle": "2021-08-02T06:20:17.832131Z",
     "shell.execute_reply": "2021-08-02T06:20:17.832802Z",
     "shell.execute_reply.started": "2021-08-02T06:15:12.204757Z"
    },
    "papermill": {
     "duration": 0.062166,
     "end_time": "2021-08-02T06:20:17.832938",
     "exception": false,
     "start_time": "2021-08-02T06:20:17.770772",
     "status": "completed"
    },
    "tags": []
   },
   "outputs": [],
   "source": [
    "NUM_FOLDS = 5\n",
    "NUM_EPOCHS = 3\n",
    "BATCH_SIZE = 16\n",
    "MAX_LEN = 248\n",
    "EVAL_SCHEDULE = [(0.50, 16), (0.49, 8), (0.48, 4), (0.47, 2), (-1., 1)]\n",
    "ROBERTA_PATH = \"../input/clrp-roberta-base/clrp_roberta_base/\"\n",
    "TOKENIZER_PATH = \"../input/clrp-roberta-base/clrp_roberta_base/\"\n",
    "DEVICE = \"cuda\" if torch.cuda.is_available() else \"cpu\""
   ]
  },
  {
   "cell_type": "code",
   "execution_count": 5,
   "id": "alleged-cooler",
   "metadata": {
    "execution": {
     "iopub.execute_input": "2021-08-02T06:20:17.868969Z",
     "iopub.status.busy": "2021-08-02T06:20:17.868488Z",
     "iopub.status.idle": "2021-08-02T06:20:18.092519Z",
     "shell.execute_reply": "2021-08-02T06:20:18.091971Z",
     "shell.execute_reply.started": "2021-08-02T06:15:12.266307Z"
    },
    "papermill": {
     "duration": 0.243301,
     "end_time": "2021-08-02T06:20:18.092720",
     "exception": false,
     "start_time": "2021-08-02T06:20:17.849419",
     "status": "completed"
    },
    "tags": []
   },
   "outputs": [],
   "source": [
    "tokenizer = AutoTokenizer.from_pretrained(TOKENIZER_PATH)"
   ]
  },
  {
   "cell_type": "code",
   "execution_count": 6,
   "id": "coral-software",
   "metadata": {
    "execution": {
     "iopub.execute_input": "2021-08-02T06:20:18.132138Z",
     "iopub.status.busy": "2021-08-02T06:20:18.131450Z",
     "iopub.status.idle": "2021-08-02T06:20:18.134179Z",
     "shell.execute_reply": "2021-08-02T06:20:18.133790Z",
     "shell.execute_reply.started": "2021-08-02T06:15:12.518249Z"
    },
    "papermill": {
     "duration": 0.024663,
     "end_time": "2021-08-02T06:20:18.134285",
     "exception": false,
     "start_time": "2021-08-02T06:20:18.109622",
     "status": "completed"
    },
    "tags": []
   },
   "outputs": [],
   "source": [
    "class CLRPDataset(Dataset):\n",
    "    def __init__(self,df,tokenizer):\n",
    "        self.excerpt = df['excerpt'].to_numpy()\n",
    "        self.tokenizer = tokenizer\n",
    "    \n",
    "    def __getitem__(self,idx):\n",
    "        encode = self.tokenizer(self.excerpt[idx],return_tensors='pt',\n",
    "                                max_length=config['max_len'],\n",
    "                                padding='max_length',truncation=True)\n",
    "        return encode\n",
    "    \n",
    "    def __len__(self):\n",
    "        return len(self.excerpt)"
   ]
  },
  {
   "cell_type": "code",
   "execution_count": 7,
   "id": "written-security",
   "metadata": {
    "execution": {
     "iopub.execute_input": "2021-08-02T06:20:18.174320Z",
     "iopub.status.busy": "2021-08-02T06:20:18.173631Z",
     "iopub.status.idle": "2021-08-02T06:20:18.175917Z",
     "shell.execute_reply": "2021-08-02T06:20:18.176321Z",
     "shell.execute_reply.started": "2021-08-02T06:15:12.530368Z"
    },
    "papermill": {
     "duration": 0.025944,
     "end_time": "2021-08-02T06:20:18.176451",
     "exception": false,
     "start_time": "2021-08-02T06:20:18.150507",
     "status": "completed"
    },
    "tags": []
   },
   "outputs": [],
   "source": [
    "class Model(nn.Module):\n",
    "    def __init__(self):\n",
    "        super().__init__()\n",
    "\n",
    "        config = AutoConfig.from_pretrained(ROBERTA_PATH)\n",
    "        config.update({\"output_hidden_states\":True, \n",
    "                       \"hidden_dropout_prob\": 0.0,\n",
    "                       \"layer_norm_eps\": 1e-7})                       \n",
    "        \n",
    "        self.roberta = AutoModel.from_pretrained(ROBERTA_PATH, config=config)  \n",
    "            \n",
    "        self.attention = nn.Sequential(            \n",
    "            nn.Linear(768, 512),            \n",
    "            nn.Tanh(),                       \n",
    "            nn.Linear(512, 1),\n",
    "            nn.Softmax(dim=1)\n",
    "        )        \n",
    "\n",
    "        self.regressor = nn.Sequential(                        \n",
    "            nn.Linear(768, 1)                        \n",
    "        )\n",
    "        \n",
    "\n",
    "    def forward(self, input_ids, attention_mask):\n",
    "        roberta_output = self.roberta(input_ids=input_ids,\n",
    "                                      attention_mask=attention_mask)        \n",
    "\n",
    "        # There are a total of 13 layers of hidden states.\n",
    "        # 1 for the embedding layer, and 12 for the 12 Roberta layers.\n",
    "        # We take the hidden states from the last Roberta layer.\n",
    "        last_layer_hidden_states = roberta_output.hidden_states[-1]\n",
    "\n",
    "        # The number of cells is MAX_LEN.\n",
    "        # The size of the hidden state of each cell is 768 (for roberta-base).\n",
    "        # In order to condense hidden states of all cells to a context vector,\n",
    "        # we compute a weighted average of the hidden states of all cells.\n",
    "        # We compute the weight of each cell, using the attention neural network.\n",
    "        weights = self.attention(last_layer_hidden_states)\n",
    "                \n",
    "        # weights.shape is BATCH_SIZE x MAX_LEN x 1\n",
    "        # last_layer_hidden_states.shape is BATCH_SIZE x MAX_LEN x 768        \n",
    "        # Now we compute context_vector as the weighted average.\n",
    "        # context_vector.shape is BATCH_SIZE x 768\n",
    "        context_vector = torch.sum(weights * last_layer_hidden_states, dim=1)        \n",
    "        \n",
    "        # Now we reduce the context vector to the prediction score.\n",
    "        return self.regressor(context_vector)"
   ]
  },
  {
   "cell_type": "code",
   "execution_count": 8,
   "id": "confident-banks",
   "metadata": {
    "execution": {
     "iopub.execute_input": "2021-08-02T06:20:18.214789Z",
     "iopub.status.busy": "2021-08-02T06:20:18.214107Z",
     "iopub.status.idle": "2021-08-02T06:20:18.216863Z",
     "shell.execute_reply": "2021-08-02T06:20:18.216475Z",
     "shell.execute_reply.started": "2021-08-02T06:15:12.546451Z"
    },
    "papermill": {
     "duration": 0.024358,
     "end_time": "2021-08-02T06:20:18.216964",
     "exception": false,
     "start_time": "2021-08-02T06:20:18.192606",
     "status": "completed"
    },
    "tags": []
   },
   "outputs": [],
   "source": [
    "def predict(model, data_loader):\n",
    "    \"\"\"Returns an np.array with predictions of the |model| on |data_loader|\"\"\"\n",
    "    model.eval()\n",
    "\n",
    "    result = np.zeros(len(data_loader.dataset))    \n",
    "    index = 0\n",
    "    \n",
    "    with torch.no_grad():\n",
    "        for batch_num, (input_ids, attention_mask) in enumerate(data_loader):\n",
    "            input_ids = input_ids.to(DEVICE)\n",
    "            attention_mask = attention_mask.to(DEVICE)\n",
    "                        \n",
    "            pred = model(input_ids, attention_mask)                        \n",
    "\n",
    "            result[index : index + pred.shape[0]] = pred.flatten().to(\"cpu\")\n",
    "            index += pred.shape[0]\n",
    "\n",
    "    return result"
   ]
  },
  {
   "cell_type": "markdown",
   "id": "legendary-headset",
   "metadata": {
    "papermill": {
     "duration": 0.016066,
     "end_time": "2021-08-02T06:20:18.249194",
     "exception": false,
     "start_time": "2021-08-02T06:20:18.233128",
     "status": "completed"
    },
    "tags": []
   },
   "source": [
    "# Predict and submit"
   ]
  },
  {
   "cell_type": "markdown",
   "id": "statutory-booth",
   "metadata": {
    "papermill": {
     "duration": 0.01623,
     "end_time": "2021-08-02T06:20:18.281701",
     "exception": false,
     "start_time": "2021-08-02T06:20:18.265471",
     "status": "completed"
    },
    "tags": []
   },
   "source": [
    "## old"
   ]
  },
  {
   "cell_type": "code",
   "execution_count": 9,
   "id": "global-sunset",
   "metadata": {
    "execution": {
     "iopub.execute_input": "2021-08-02T06:20:18.318254Z",
     "iopub.status.busy": "2021-08-02T06:20:18.317549Z",
     "iopub.status.idle": "2021-08-02T06:20:18.320212Z",
     "shell.execute_reply": "2021-08-02T06:20:18.319803Z",
     "shell.execute_reply.started": "2021-07-27T15:08:13.379224Z"
    },
    "papermill": {
     "duration": 0.021801,
     "end_time": "2021-08-02T06:20:18.320311",
     "exception": false,
     "start_time": "2021-08-02T06:20:18.298510",
     "status": "completed"
    },
    "tags": []
   },
   "outputs": [],
   "source": [
    "# all_predictions = np.zeros((5, len(test_df)))\n",
    "\n",
    "# test_dataset = LitDataset(test_df, inference_only=True)\n",
    "# test_loader = DataLoader(test_dataset, batch_size=BATCH_SIZE,\n",
    "#                          drop_last=False, shuffle=False, num_workers=2)\n",
    "\n",
    "# for index in range(5):\n",
    "#     #CHANGEME\n",
    "#     model_path = f\"../input/roberta-base-20210711202147-sche/model_{index + 1}.pth\"\n",
    "#     print(f\"\\nUsing {model_path}\")\n",
    "                        \n",
    "#     model = LitModel()\n",
    "#     model.load_state_dict(torch.load(model_path))    \n",
    "#     model.to(DEVICE)\n",
    "    \n",
    "#     all_predictions[index] = predict(model, test_loader)\n",
    "    \n",
    "#     del model\n",
    "#     gc.collect()\n",
    "    \n",
    "# predictions = all_predictions.mean(axis=0)\n",
    "# submission_df.target = predictions\n",
    "# print(submission_df)\n",
    "# submission_df.to_csv(\"submission.csv\", index=False)"
   ]
  },
  {
   "cell_type": "markdown",
   "id": "provincial-phoenix",
   "metadata": {
    "papermill": {
     "duration": 0.016262,
     "end_time": "2021-08-02T06:20:18.352910",
     "exception": false,
     "start_time": "2021-08-02T06:20:18.336648",
     "status": "completed"
    },
    "tags": []
   },
   "source": [
    "## + SVM"
   ]
  },
  {
   "cell_type": "code",
   "execution_count": 10,
   "id": "expired-jungle",
   "metadata": {
    "execution": {
     "iopub.execute_input": "2021-08-02T06:20:18.395013Z",
     "iopub.status.busy": "2021-08-02T06:20:18.394527Z",
     "iopub.status.idle": "2021-08-02T06:20:18.493818Z",
     "shell.execute_reply": "2021-08-02T06:20:18.493184Z",
     "shell.execute_reply.started": "2021-08-02T06:15:12.562132Z"
    },
    "papermill": {
     "duration": 0.124408,
     "end_time": "2021-08-02T06:20:18.493944",
     "exception": false,
     "start_time": "2021-08-02T06:20:18.369536",
     "status": "completed"
    },
    "tags": []
   },
   "outputs": [],
   "source": [
    "train_data = pd.read_csv('../input/commonlitreadabilityprize/train.csv')\n",
    "test_data = pd.read_csv('../input/commonlitreadabilityprize/test.csv')\n",
    "sample = pd.read_csv('../input/commonlitreadabilityprize/sample_submission.csv')\n",
    "\n",
    "\n",
    "num_bins = int(np.floor(1 + np.log2(len(train_data))))\n",
    "train_data.loc[:,'bins'] = pd.cut(train_data['target'],bins=num_bins,labels=False)\n",
    "\n",
    "target = train_data['target'].to_numpy()\n",
    "bins = train_data.bins.to_numpy()\n",
    "\n",
    "\n",
    "def rmse_score(y_true,y_pred):\n",
    "    return np.sqrt(mean_squared_error(y_true,y_pred))\n",
    "\n",
    "config = {\n",
    "    'batch_size': BATCH_SIZE,\n",
    "    'max_len': MAX_LEN,\n",
    "    'nfolds':10,\n",
    "    'seed':42,\n",
    "}\n",
    "\n",
    "def seed_everything(seed=42):\n",
    "    random.seed(seed)\n",
    "    os.environ['PYTHONASSEED'] = str(seed)\n",
    "    np.random.seed(seed)\n",
    "    torch.manual_seed(seed)\n",
    "    torch.cuda.manual_seed(seed)\n",
    "    torch.backends.cudnn.deterministic = True\n",
    "    torch.backends.cudnn.benchmark = True\n",
    "\n",
    "seed_everything(seed=config['seed'])"
   ]
  },
  {
   "cell_type": "code",
   "execution_count": 11,
   "id": "private-kuwait",
   "metadata": {
    "execution": {
     "iopub.execute_input": "2021-08-02T06:20:18.534519Z",
     "iopub.status.busy": "2021-08-02T06:20:18.533822Z",
     "iopub.status.idle": "2021-08-02T06:20:18.536689Z",
     "shell.execute_reply": "2021-08-02T06:20:18.536245Z",
     "shell.execute_reply.started": "2021-08-02T06:15:12.691805Z"
    },
    "papermill": {
     "duration": 0.02638,
     "end_time": "2021-08-02T06:20:18.536796",
     "exception": false,
     "start_time": "2021-08-02T06:20:18.510416",
     "status": "completed"
    },
    "tags": []
   },
   "outputs": [],
   "source": [
    "def get_embeddings(df,path,plot_losses=True, verbose=True):\n",
    "    #cuda使えたら使う構文\n",
    "    device = torch.device(\"cuda\" if torch.cuda.is_available() else \"cpu\")\n",
    "    print(f\"{device} is used\")\n",
    "            \n",
    "    model = Model()\n",
    "    model.load_state_dict(torch.load(path))\n",
    "    model.to(device)\n",
    "    model.eval()\n",
    "    \n",
    "    #tokenizer = AutoTokenizer.from_pretrained('../input/clrp-roberta-base/clrp_roberta_base')\n",
    "    tokenizer = AutoTokenizer.from_pretrained(TOKENIZER_PATH)\n",
    "    \n",
    "    ds = CLRPDataset(df, tokenizer)\n",
    "    dl = DataLoader(ds,\n",
    "                  batch_size = config[\"batch_size\"],\n",
    "                  shuffle=False,\n",
    "                  num_workers = 4,\n",
    "                  pin_memory=True,\n",
    "                  drop_last=False\n",
    "                 )\n",
    "        \n",
    "    #以下でpredictionsを抽出するために使った構文を使ってembeddingsをreturnしている.\n",
    "    #SVMの手法とは、embeddingsの意味は？\n",
    "    embeddings = list()\n",
    "    with torch.no_grad():\n",
    "        for i, inputs in tqdm(enumerate(dl)):\n",
    "            inputs = {key:val.reshape(val.shape[0],-1).to(device) for key,val in inputs.items()}\n",
    "            outputs = model(**inputs)\n",
    "            outputs = outputs.detach().cpu().numpy()\n",
    "            embeddings.extend(outputs)\n",
    "    return np.array(embeddings)"
   ]
  },
  {
   "cell_type": "code",
   "execution_count": 12,
   "id": "through-african",
   "metadata": {
    "execution": {
     "iopub.execute_input": "2021-08-02T06:20:18.575273Z",
     "iopub.status.busy": "2021-08-02T06:20:18.574594Z",
     "iopub.status.idle": "2021-08-02T06:23:42.774448Z",
     "shell.execute_reply": "2021-08-02T06:23:42.774979Z",
     "shell.execute_reply.started": "2021-08-02T06:15:12.706274Z"
    },
    "papermill": {
     "duration": 204.221848,
     "end_time": "2021-08-02T06:23:42.775186",
     "exception": false,
     "start_time": "2021-08-02T06:20:18.553338",
     "status": "completed"
    },
    "tags": []
   },
   "outputs": [
    {
     "name": "stdout",
     "output_type": "stream",
     "text": [
      "cuda is used\n"
     ]
    },
    {
     "name": "stderr",
     "output_type": "stream",
     "text": [
      "Some weights of RobertaModel were not initialized from the model checkpoint at ../input/clrp-roberta-base/clrp_roberta_base/ and are newly initialized: ['roberta.pooler.dense.weight', 'roberta.pooler.dense.bias']\n",
      "You should probably TRAIN this model on a down-stream task to be able to use it for predictions and inference.\n",
      "178it [00:24,  7.25it/s]\n"
     ]
    },
    {
     "name": "stdout",
     "output_type": "stream",
     "text": [
      "cuda is used\n"
     ]
    },
    {
     "name": "stderr",
     "output_type": "stream",
     "text": [
      "Some weights of RobertaModel were not initialized from the model checkpoint at ../input/clrp-roberta-base/clrp_roberta_base/ and are newly initialized: ['roberta.pooler.dense.weight', 'roberta.pooler.dense.bias']\n",
      "You should probably TRAIN this model on a down-stream task to be able to use it for predictions and inference.\n",
      "1it [00:00,  6.05it/s]\n"
     ]
    },
    {
     "name": "stdout",
     "output_type": "stream",
     "text": [
      "cuda is used\n"
     ]
    },
    {
     "name": "stderr",
     "output_type": "stream",
     "text": [
      "Some weights of RobertaModel were not initialized from the model checkpoint at ../input/clrp-roberta-base/clrp_roberta_base/ and are newly initialized: ['roberta.pooler.dense.weight', 'roberta.pooler.dense.bias']\n",
      "You should probably TRAIN this model on a down-stream task to be able to use it for predictions and inference.\n",
      "178it [00:23,  7.50it/s]\n"
     ]
    },
    {
     "name": "stdout",
     "output_type": "stream",
     "text": [
      "cuda is used\n"
     ]
    },
    {
     "name": "stderr",
     "output_type": "stream",
     "text": [
      "Some weights of RobertaModel were not initialized from the model checkpoint at ../input/clrp-roberta-base/clrp_roberta_base/ and are newly initialized: ['roberta.pooler.dense.weight', 'roberta.pooler.dense.bias']\n",
      "You should probably TRAIN this model on a down-stream task to be able to use it for predictions and inference.\n",
      "1it [00:00,  5.37it/s]\n"
     ]
    },
    {
     "name": "stdout",
     "output_type": "stream",
     "text": [
      "cuda is used\n"
     ]
    },
    {
     "name": "stderr",
     "output_type": "stream",
     "text": [
      "Some weights of RobertaModel were not initialized from the model checkpoint at ../input/clrp-roberta-base/clrp_roberta_base/ and are newly initialized: ['roberta.pooler.dense.weight', 'roberta.pooler.dense.bias']\n",
      "You should probably TRAIN this model on a down-stream task to be able to use it for predictions and inference.\n",
      "178it [00:23,  7.52it/s]\n"
     ]
    },
    {
     "name": "stdout",
     "output_type": "stream",
     "text": [
      "cuda is used\n"
     ]
    },
    {
     "name": "stderr",
     "output_type": "stream",
     "text": [
      "Some weights of RobertaModel were not initialized from the model checkpoint at ../input/clrp-roberta-base/clrp_roberta_base/ and are newly initialized: ['roberta.pooler.dense.weight', 'roberta.pooler.dense.bias']\n",
      "You should probably TRAIN this model on a down-stream task to be able to use it for predictions and inference.\n",
      "1it [00:00,  5.35it/s]\n"
     ]
    },
    {
     "name": "stdout",
     "output_type": "stream",
     "text": [
      "cuda is used\n"
     ]
    },
    {
     "name": "stderr",
     "output_type": "stream",
     "text": [
      "Some weights of RobertaModel were not initialized from the model checkpoint at ../input/clrp-roberta-base/clrp_roberta_base/ and are newly initialized: ['roberta.pooler.dense.weight', 'roberta.pooler.dense.bias']\n",
      "You should probably TRAIN this model on a down-stream task to be able to use it for predictions and inference.\n",
      "178it [00:23,  7.53it/s]\n"
     ]
    },
    {
     "name": "stdout",
     "output_type": "stream",
     "text": [
      "cuda is used\n"
     ]
    },
    {
     "name": "stderr",
     "output_type": "stream",
     "text": [
      "Some weights of RobertaModel were not initialized from the model checkpoint at ../input/clrp-roberta-base/clrp_roberta_base/ and are newly initialized: ['roberta.pooler.dense.weight', 'roberta.pooler.dense.bias']\n",
      "You should probably TRAIN this model on a down-stream task to be able to use it for predictions and inference.\n",
      "1it [00:00,  4.95it/s]\n"
     ]
    },
    {
     "name": "stdout",
     "output_type": "stream",
     "text": [
      "cuda is used\n"
     ]
    },
    {
     "name": "stderr",
     "output_type": "stream",
     "text": [
      "Some weights of RobertaModel were not initialized from the model checkpoint at ../input/clrp-roberta-base/clrp_roberta_base/ and are newly initialized: ['roberta.pooler.dense.weight', 'roberta.pooler.dense.bias']\n",
      "You should probably TRAIN this model on a down-stream task to be able to use it for predictions and inference.\n",
      "178it [00:23,  7.51it/s]\n"
     ]
    },
    {
     "name": "stdout",
     "output_type": "stream",
     "text": [
      "cuda is used\n"
     ]
    },
    {
     "name": "stderr",
     "output_type": "stream",
     "text": [
      "Some weights of RobertaModel were not initialized from the model checkpoint at ../input/clrp-roberta-base/clrp_roberta_base/ and are newly initialized: ['roberta.pooler.dense.weight', 'roberta.pooler.dense.bias']\n",
      "You should probably TRAIN this model on a down-stream task to be able to use it for predictions and inference.\n",
      "1it [00:00,  5.39it/s]\n"
     ]
    }
   ],
   "source": [
    "#train/testでembeddingsを取得している\n",
    "train_embeddings1 =  get_embeddings(train_data,'../input/roberta-base-20210711202147-sche/model_1.pth')\n",
    "test_embeddings1 = get_embeddings(test_data,'../input/roberta-base-20210711202147-sche/model_1.pth')\n",
    "\n",
    "train_embeddings2 =  get_embeddings(train_data,'../input/roberta-base-20210711202147-sche/model_2.pth')\n",
    "test_embeddings2 = get_embeddings(test_data,'../input/roberta-base-20210711202147-sche/model_2.pth')\n",
    "\n",
    "train_embeddings3 =  get_embeddings(train_data,'../input/roberta-base-20210711202147-sche/model_3.pth')\n",
    "test_embeddings3 = get_embeddings(test_data,'../input/roberta-base-20210711202147-sche/model_3.pth')\n",
    "\n",
    "train_embeddings4 =  get_embeddings(train_data,'../input/roberta-base-20210711202147-sche/model_4.pth')\n",
    "test_embeddings4 = get_embeddings(test_data,'../input/roberta-base-20210711202147-sche/model_4.pth')\n",
    "\n",
    "train_embeddings5 =  get_embeddings(train_data,'../input/roberta-base-20210711202147-sche/model_5.pth')\n",
    "test_embeddings5 = get_embeddings(test_data,'../input/roberta-base-20210711202147-sche/model_5.pth')"
   ]
  },
  {
   "cell_type": "markdown",
   "id": "computational-louis",
   "metadata": {
    "papermill": {
     "duration": 0.246298,
     "end_time": "2021-08-02T06:23:43.268633",
     "exception": false,
     "start_time": "2021-08-02T06:23:43.022335",
     "status": "completed"
    },
    "tags": []
   },
   "source": []
  },
  {
   "cell_type": "code",
   "execution_count": 13,
   "id": "revised-intermediate",
   "metadata": {
    "execution": {
     "iopub.execute_input": "2021-08-02T06:23:43.768721Z",
     "iopub.status.busy": "2021-08-02T06:23:43.768068Z",
     "iopub.status.idle": "2021-08-02T06:23:43.772577Z",
     "shell.execute_reply": "2021-08-02T06:23:43.772978Z",
     "shell.execute_reply.started": "2021-08-02T06:18:43.646864Z"
    },
    "papermill": {
     "duration": 0.257288,
     "end_time": "2021-08-02T06:23:43.773110",
     "exception": false,
     "start_time": "2021-08-02T06:23:43.515822",
     "status": "completed"
    },
    "tags": []
   },
   "outputs": [
    {
     "data": {
      "text/plain": [
       "2834"
      ]
     },
     "execution_count": 13,
     "metadata": {},
     "output_type": "execute_result"
    }
   ],
   "source": [
    "len(target)"
   ]
  },
  {
   "cell_type": "code",
   "execution_count": 14,
   "id": "suited-astronomy",
   "metadata": {
    "execution": {
     "iopub.execute_input": "2021-08-02T06:23:44.273499Z",
     "iopub.status.busy": "2021-08-02T06:23:44.272887Z",
     "iopub.status.idle": "2021-08-02T06:23:44.275519Z",
     "shell.execute_reply": "2021-08-02T06:23:44.275911Z",
     "shell.execute_reply.started": "2021-08-02T06:18:43.660332Z"
    },
    "papermill": {
     "duration": 0.2553,
     "end_time": "2021-08-02T06:23:44.276039",
     "exception": false,
     "start_time": "2021-08-02T06:23:44.020739",
     "status": "completed"
    },
    "tags": []
   },
   "outputs": [
    {
     "data": {
      "text/plain": [
       "2834"
      ]
     },
     "execution_count": 14,
     "metadata": {},
     "output_type": "execute_result"
    }
   ],
   "source": [
    "len(train_embeddings1)"
   ]
  },
  {
   "cell_type": "code",
   "execution_count": 15,
   "id": "acquired-sessions",
   "metadata": {
    "execution": {
     "iopub.execute_input": "2021-08-02T06:23:44.778613Z",
     "iopub.status.busy": "2021-08-02T06:23:44.777906Z",
     "iopub.status.idle": "2021-08-02T06:23:44.780877Z",
     "shell.execute_reply": "2021-08-02T06:23:44.781342Z",
     "shell.execute_reply.started": "2021-08-02T06:18:43.674418Z"
    },
    "papermill": {
     "duration": 0.257207,
     "end_time": "2021-08-02T06:23:44.781511",
     "exception": false,
     "start_time": "2021-08-02T06:23:44.524304",
     "status": "completed"
    },
    "tags": []
   },
   "outputs": [
    {
     "data": {
      "text/plain": [
       "7"
      ]
     },
     "execution_count": 15,
     "metadata": {},
     "output_type": "execute_result"
    }
   ],
   "source": [
    "len(test_embeddings1)"
   ]
  },
  {
   "cell_type": "code",
   "execution_count": 16,
   "id": "framed-bridges",
   "metadata": {
    "execution": {
     "iopub.execute_input": "2021-08-02T06:23:45.291748Z",
     "iopub.status.busy": "2021-08-02T06:23:45.290913Z",
     "iopub.status.idle": "2021-08-02T06:23:45.293346Z",
     "shell.execute_reply": "2021-08-02T06:23:45.293733Z",
     "shell.execute_reply.started": "2021-08-02T06:18:43.687308Z"
    },
    "papermill": {
     "duration": 0.260858,
     "end_time": "2021-08-02T06:23:45.293868",
     "exception": false,
     "start_time": "2021-08-02T06:23:45.033010",
     "status": "completed"
    },
    "tags": []
   },
   "outputs": [],
   "source": [
    "#SVMをアンサンブル処理している\n",
    "def get_preds_svm(X,y,X_test,bins=bins,nfolds=10,C=10,kernel='rbf'):\n",
    "    scores = list()\n",
    "    preds = np.zeros((X_test.shape[0]))\n",
    "    preds_ridge = np.zeros((X_test.shape[0]))\n",
    "    preds_lasso = np.zeros((X_test.shape[0]))\n",
    "    \n",
    "    kfold = StratifiedKFold(n_splits=config['nfolds'],shuffle=True,random_state=config['seed'])\n",
    "    for k, (train_idx,valid_idx) in enumerate(kfold.split(X,bins)):\n",
    "        model = SVR(C=5,kernel=kernel,gamma='auto')\n",
    "        model_ridge = Ridge(alpha=20)\n",
    "        model_lasso = Lasso(alpha=0.05)\n",
    "        #print(train_idx)\n",
    "        #print(valid_idx)\n",
    "        X_train,y_train = X[train_idx], y[train_idx]\n",
    "        X_valid,y_valid = X[valid_idx], y[valid_idx]\n",
    "        \n",
    "        model.fit(X_train,y_train)\n",
    "        model_ridge.fit(X_train, y_train)\n",
    "        model_lasso.fit(X_train,y_train)\n",
    "        \n",
    "        prediction = model.predict(X_valid)\n",
    "        pred_ridge = model_ridge.predict(X_valid)\n",
    "        pred_lasso = model_lasso.predict(X_valid)\n",
    "        \n",
    "        pred_mean = (prediction + pred_ridge + pred_lasso)/3\n",
    "        \n",
    "        #score = rmse_score(prediction,y_valid)\n",
    "        score = rmse_score(y_valid, pred_mean)\n",
    "        print(f'Fold {k} , rmse score: {score}')\n",
    "        \n",
    "        scores.append(score)\n",
    "        preds += model.predict(X_test)\n",
    "        preds_ridge += model_ridge.predict(X_test)\n",
    "        preds_lasso += model_lasso.predict(X_test)\n",
    "        \n",
    "    print(\"mean rmse\",np.mean(scores))\n",
    "    return (np.array(preds)/nfolds + np.array(preds_ridge)/nfolds + np.array(preds_lasso)/nfolds)/3\n",
    "#     return (np.array(preds)/nfolds + np.array(preds_ridge)/nfolds)/2"
   ]
  },
  {
   "cell_type": "code",
   "execution_count": 17,
   "id": "qualified-genre",
   "metadata": {
    "execution": {
     "iopub.execute_input": "2021-08-02T06:23:45.825164Z",
     "iopub.status.busy": "2021-08-02T06:23:45.824655Z",
     "iopub.status.idle": "2021-08-02T06:24:15.676967Z",
     "shell.execute_reply": "2021-08-02T06:24:15.677543Z",
     "shell.execute_reply.started": "2021-08-02T06:18:43.754430Z"
    },
    "papermill": {
     "duration": 30.117742,
     "end_time": "2021-08-02T06:24:15.677747",
     "exception": false,
     "start_time": "2021-08-02T06:23:45.560005",
     "status": "completed"
    },
    "tags": []
   },
   "outputs": [
    {
     "name": "stdout",
     "output_type": "stream",
     "text": [
      "Fold 0 , rmse score: 0.3285651438956938\n",
      "Fold 1 , rmse score: 0.3029792457327855\n",
      "Fold 2 , rmse score: 0.35447089363498874\n",
      "Fold 3 , rmse score: 0.3362108589664572\n",
      "Fold 4 , rmse score: 0.32410958774096893\n",
      "Fold 5 , rmse score: 0.3297230391591488\n",
      "Fold 6 , rmse score: 0.3185978833156834\n",
      "Fold 7 , rmse score: 0.3017912288240006\n",
      "Fold 8 , rmse score: 0.35286312766052275\n",
      "Fold 9 , rmse score: 0.3464304850294086\n",
      "mean rmse 0.3295741493959658\n",
      "Fold 0 , rmse score: 0.3200832028531208\n",
      "Fold 1 , rmse score: 0.3082577203255921\n",
      "Fold 2 , rmse score: 0.3279085728218055\n",
      "Fold 3 , rmse score: 0.2924494066072712\n",
      "Fold 4 , rmse score: 0.2901116618653528\n",
      "Fold 5 , rmse score: 0.29874962004491723\n",
      "Fold 6 , rmse score: 0.2936847318402417\n",
      "Fold 7 , rmse score: 0.29110866731537965\n",
      "Fold 8 , rmse score: 0.3187259015387141\n",
      "Fold 9 , rmse score: 0.29699939829499905\n",
      "mean rmse 0.30380788835073946\n",
      "Fold 0 , rmse score: 0.30625173941414546\n",
      "Fold 1 , rmse score: 0.2764677547304623\n",
      "Fold 2 , rmse score: 0.3296070676539521\n",
      "Fold 3 , rmse score: 0.3248877941314945\n",
      "Fold 4 , rmse score: 0.3059917144209343\n",
      "Fold 5 , rmse score: 0.3292239181609203\n",
      "Fold 6 , rmse score: 0.30259503454889186\n",
      "Fold 7 , rmse score: 0.31590276711969373\n",
      "Fold 8 , rmse score: 0.32905449005123594\n",
      "Fold 9 , rmse score: 0.3359579498053728\n",
      "mean rmse 0.3155940230037103\n",
      "Fold 0 , rmse score: 0.345476914820575\n",
      "Fold 1 , rmse score: 0.3013113230772375\n",
      "Fold 2 , rmse score: 0.3431785740318679\n",
      "Fold 3 , rmse score: 0.34822230865858256\n",
      "Fold 4 , rmse score: 0.32393141103261475\n",
      "Fold 5 , rmse score: 0.3243427117785357\n",
      "Fold 6 , rmse score: 0.2904564098278581\n",
      "Fold 7 , rmse score: 0.31916150199668164\n",
      "Fold 8 , rmse score: 0.29833555790540417\n",
      "Fold 9 , rmse score: 0.33904231357907666\n",
      "mean rmse 0.3233459026708434\n",
      "Fold 0 , rmse score: 0.32442797732432616\n",
      "Fold 1 , rmse score: 0.3052283745868069\n",
      "Fold 2 , rmse score: 0.3293610497181813\n",
      "Fold 3 , rmse score: 0.3274323403775782\n",
      "Fold 4 , rmse score: 0.2838114791286307\n",
      "Fold 5 , rmse score: 0.30369076529999317\n",
      "Fold 6 , rmse score: 0.2821282493027108\n",
      "Fold 7 , rmse score: 0.28044766315674563\n",
      "Fold 8 , rmse score: 0.3017662665671533\n",
      "Fold 9 , rmse score: 0.31721648707841366\n",
      "mean rmse 0.305551065254054\n"
     ]
    }
   ],
   "source": [
    "\n",
    "\n",
    "svm_preds1 = get_preds_svm(train_embeddings1,target,test_embeddings1)\n",
    "svm_preds2 = get_preds_svm(train_embeddings2,target,test_embeddings2)\n",
    "svm_preds3 = get_preds_svm(train_embeddings3,target,test_embeddings3)\n",
    "svm_preds4 = get_preds_svm(train_embeddings4,target,test_embeddings4)\n",
    "svm_preds5 = get_preds_svm(train_embeddings5,target,test_embeddings5)"
   ]
  },
  {
   "cell_type": "code",
   "execution_count": 18,
   "id": "allied-livestock",
   "metadata": {
    "execution": {
     "iopub.execute_input": "2021-08-02T06:24:16.213680Z",
     "iopub.status.busy": "2021-08-02T06:24:16.213123Z",
     "iopub.status.idle": "2021-08-02T06:24:16.216966Z",
     "shell.execute_reply": "2021-08-02T06:24:16.216573Z",
     "shell.execute_reply.started": "2021-08-02T06:19:12.238229Z"
    },
    "papermill": {
     "duration": 0.269789,
     "end_time": "2021-08-02T06:24:16.217075",
     "exception": false,
     "start_time": "2021-08-02T06:24:15.947286",
     "status": "completed"
    },
    "tags": []
   },
   "outputs": [],
   "source": [
    "svm_preds = (svm_preds1 + svm_preds2 + svm_preds3 + svm_preds4 + svm_preds5)/5"
   ]
  },
  {
   "cell_type": "code",
   "execution_count": 19,
   "id": "fatal-crest",
   "metadata": {
    "execution": {
     "iopub.execute_input": "2021-08-02T06:24:16.783818Z",
     "iopub.status.busy": "2021-08-02T06:24:16.783241Z",
     "iopub.status.idle": "2021-08-02T06:24:16.918317Z",
     "shell.execute_reply": "2021-08-02T06:24:16.917847Z",
     "shell.execute_reply.started": "2021-08-02T06:19:12.256616Z"
    },
    "papermill": {
     "duration": 0.399186,
     "end_time": "2021-08-02T06:24:16.918465",
     "exception": false,
     "start_time": "2021-08-02T06:24:16.519279",
     "status": "completed"
    },
    "tags": []
   },
   "outputs": [],
   "source": [
    "sample.target = svm_preds\n",
    "sample.to_csv('submission.csv',index=False)"
   ]
  },
  {
   "cell_type": "code",
   "execution_count": 20,
   "id": "expanded-american",
   "metadata": {
    "execution": {
     "iopub.execute_input": "2021-08-02T06:24:17.451523Z",
     "iopub.status.busy": "2021-08-02T06:24:17.450665Z",
     "iopub.status.idle": "2021-08-02T06:24:17.457818Z",
     "shell.execute_reply": "2021-08-02T06:24:17.458258Z",
     "shell.execute_reply.started": "2021-08-02T06:19:12.611138Z"
    },
    "papermill": {
     "duration": 0.27622,
     "end_time": "2021-08-02T06:24:17.458404",
     "exception": false,
     "start_time": "2021-08-02T06:24:17.182184",
     "status": "completed"
    },
    "tags": []
   },
   "outputs": [
    {
     "data": {
      "text/html": [
       "<div>\n",
       "<style scoped>\n",
       "    .dataframe tbody tr th:only-of-type {\n",
       "        vertical-align: middle;\n",
       "    }\n",
       "\n",
       "    .dataframe tbody tr th {\n",
       "        vertical-align: top;\n",
       "    }\n",
       "\n",
       "    .dataframe thead th {\n",
       "        text-align: right;\n",
       "    }\n",
       "</style>\n",
       "<table border=\"1\" class=\"dataframe\">\n",
       "  <thead>\n",
       "    <tr style=\"text-align: right;\">\n",
       "      <th></th>\n",
       "      <th>id</th>\n",
       "      <th>target</th>\n",
       "    </tr>\n",
       "  </thead>\n",
       "  <tbody>\n",
       "    <tr>\n",
       "      <th>0</th>\n",
       "      <td>c0f722661</td>\n",
       "      <td>-0.519064</td>\n",
       "    </tr>\n",
       "    <tr>\n",
       "      <th>1</th>\n",
       "      <td>f0953f0a5</td>\n",
       "      <td>-0.655383</td>\n",
       "    </tr>\n",
       "    <tr>\n",
       "      <th>2</th>\n",
       "      <td>0df072751</td>\n",
       "      <td>-0.423620</td>\n",
       "    </tr>\n",
       "    <tr>\n",
       "      <th>3</th>\n",
       "      <td>04caf4e0c</td>\n",
       "      <td>-2.476178</td>\n",
       "    </tr>\n",
       "    <tr>\n",
       "      <th>4</th>\n",
       "      <td>0e63f8bea</td>\n",
       "      <td>-1.737170</td>\n",
       "    </tr>\n",
       "    <tr>\n",
       "      <th>5</th>\n",
       "      <td>12537fe78</td>\n",
       "      <td>-1.366135</td>\n",
       "    </tr>\n",
       "    <tr>\n",
       "      <th>6</th>\n",
       "      <td>965e592c0</td>\n",
       "      <td>0.046722</td>\n",
       "    </tr>\n",
       "  </tbody>\n",
       "</table>\n",
       "</div>"
      ],
      "text/plain": [
       "          id    target\n",
       "0  c0f722661 -0.519064\n",
       "1  f0953f0a5 -0.655383\n",
       "2  0df072751 -0.423620\n",
       "3  04caf4e0c -2.476178\n",
       "4  0e63f8bea -1.737170\n",
       "5  12537fe78 -1.366135\n",
       "6  965e592c0  0.046722"
      ]
     },
     "execution_count": 20,
     "metadata": {},
     "output_type": "execute_result"
    }
   ],
   "source": [
    "sample"
   ]
  },
  {
   "cell_type": "markdown",
   "id": "responsible-desert",
   "metadata": {
    "papermill": {
     "duration": 0.262861,
     "end_time": "2021-08-02T06:24:17.992717",
     "exception": false,
     "start_time": "2021-08-02T06:24:17.729856",
     "status": "completed"
    },
    "tags": []
   },
   "source": []
  }
 ],
 "metadata": {
  "kernelspec": {
   "display_name": "Python 3",
   "language": "python",
   "name": "python3"
  },
  "language_info": {
   "codemirror_mode": {
    "name": "ipython",
    "version": 3
   },
   "file_extension": ".py",
   "mimetype": "text/x-python",
   "name": "python",
   "nbconvert_exporter": "python",
   "pygments_lexer": "ipython3",
   "version": "3.7.10"
  },
  "papermill": {
   "default_parameters": {},
   "duration": 257.835529,
   "end_time": "2021-08-02T06:24:21.069936",
   "environment_variables": {},
   "exception": null,
   "input_path": "__notebook__.ipynb",
   "output_path": "__notebook__.ipynb",
   "parameters": {},
   "start_time": "2021-08-02T06:20:03.234407",
   "version": "2.3.3"
  }
 },
 "nbformat": 4,
 "nbformat_minor": 5
}
