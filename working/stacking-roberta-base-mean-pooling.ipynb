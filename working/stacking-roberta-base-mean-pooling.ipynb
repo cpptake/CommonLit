{
 "cells": [
  {
   "cell_type": "code",
   "execution_count": 1,
   "id": "artistic-deficit",
   "metadata": {
    "_cell_guid": "0370cb58-b86e-4c5e-818e-02d66259e073",
    "_uuid": "15c381cd-2a31-4ed7-8d5c-658a46471a46",
    "collapsed": false,
    "execution": {
     "iopub.execute_input": "2021-07-26T13:32:37.828230Z",
     "iopub.status.busy": "2021-07-26T13:32:37.826791Z",
     "iopub.status.idle": "2021-07-26T13:32:37.829178Z",
     "shell.execute_reply": "2021-07-26T13:32:37.828675Z",
     "shell.execute_reply.started": "2021-07-02T15:53:52.038569Z"
    },
    "jupyter": {
     "outputs_hidden": false
    },
    "papermill": {
     "duration": 0.022055,
     "end_time": "2021-07-26T13:32:37.829297",
     "exception": false,
     "start_time": "2021-07-26T13:32:37.807242",
     "status": "completed"
    },
    "tags": []
   },
   "outputs": [],
   "source": [
    "# !pip uninstall fsspec -y\n",
    "# !pip install --upgrade fsspec\n",
    "# !pip install transformers accelerate datasets"
   ]
  },
  {
   "cell_type": "markdown",
   "id": "material-alloy",
   "metadata": {
    "papermill": {
     "duration": 0.012676,
     "end_time": "2021-07-26T13:32:37.855237",
     "exception": false,
     "start_time": "2021-07-26T13:32:37.842561",
     "status": "completed"
    },
    "tags": []
   },
   "source": [
    "# Define"
   ]
  },
  {
   "cell_type": "code",
   "execution_count": 2,
   "id": "incredible-cassette",
   "metadata": {
    "execution": {
     "iopub.execute_input": "2021-07-26T13:32:37.890782Z",
     "iopub.status.busy": "2021-07-26T13:32:37.890178Z",
     "iopub.status.idle": "2021-07-26T13:32:45.152129Z",
     "shell.execute_reply": "2021-07-26T13:32:45.151214Z",
     "shell.execute_reply.started": "2021-07-26T13:16:07.592156Z"
    },
    "papermill": {
     "duration": 7.283654,
     "end_time": "2021-07-26T13:32:45.152272",
     "exception": false,
     "start_time": "2021-07-26T13:32:37.868618",
     "status": "completed"
    },
    "tags": []
   },
   "outputs": [],
   "source": [
    "import os\n",
    "import math\n",
    "import random\n",
    "import time\n",
    "\n",
    "import numpy as np\n",
    "import pandas as pd\n",
    "\n",
    "import torch\n",
    "import torch.nn as nn\n",
    "from torch.utils.data import Dataset\n",
    "from torch.utils.data import DataLoader\n",
    "\n",
    "from transformers import AdamW\n",
    "from transformers import AutoTokenizer\n",
    "from transformers import AutoModel\n",
    "from transformers import AutoConfig\n",
    "from transformers import get_cosine_schedule_with_warmup\n",
    "\n",
    "from sklearn.model_selection import KFold\n",
    "\n",
    "import gc\n",
    "gc.enable()"
   ]
  },
  {
   "cell_type": "code",
   "execution_count": 3,
   "id": "threatened-young",
   "metadata": {
    "execution": {
     "iopub.execute_input": "2021-07-26T13:32:45.184389Z",
     "iopub.status.busy": "2021-07-26T13:32:45.183859Z",
     "iopub.status.idle": "2021-07-26T13:32:45.201240Z",
     "shell.execute_reply": "2021-07-26T13:32:45.200811Z",
     "shell.execute_reply.started": "2021-07-26T13:16:08.884014Z"
    },
    "papermill": {
     "duration": 0.035775,
     "end_time": "2021-07-26T13:32:45.201351",
     "exception": false,
     "start_time": "2021-07-26T13:32:45.165576",
     "status": "completed"
    },
    "tags": []
   },
   "outputs": [],
   "source": [
    "test_df = pd.read_csv(\"../input/commonlitreadabilityprize/test.csv\")\n",
    "submission_df = pd.read_csv(\"../input/commonlitreadabilityprize/sample_submission.csv\")"
   ]
  },
  {
   "cell_type": "code",
   "execution_count": 4,
   "id": "peripheral-lyric",
   "metadata": {
    "execution": {
     "iopub.execute_input": "2021-07-26T13:32:45.272871Z",
     "iopub.status.busy": "2021-07-26T13:32:45.272044Z",
     "iopub.status.idle": "2021-07-26T13:32:45.274071Z",
     "shell.execute_reply": "2021-07-26T13:32:45.274665Z",
     "shell.execute_reply.started": "2021-07-26T13:16:09.172353Z"
    },
    "papermill": {
     "duration": 0.060239,
     "end_time": "2021-07-26T13:32:45.274813",
     "exception": false,
     "start_time": "2021-07-26T13:32:45.214574",
     "status": "completed"
    },
    "tags": []
   },
   "outputs": [],
   "source": [
    "NUM_FOLDS = 5\n",
    "NUM_EPOCHS = 3\n",
    "BATCH_SIZE = 16\n",
    "MAX_LEN = 248\n",
    "EVAL_SCHEDULE = [(0.50, 16), (0.49, 8), (0.48, 4), (0.47, 2), (-1., 1)]\n",
    "ROBERTA_PATH = \"../input/clrp-roberta-base/clrp_roberta_base/\"\n",
    "TOKENIZER_PATH = \"../input/clrp-roberta-base/clrp_roberta_base/\"\n",
    "DEVICE = \"cuda\" if torch.cuda.is_available() else \"cpu\""
   ]
  },
  {
   "cell_type": "code",
   "execution_count": 5,
   "id": "inclusive-usage",
   "metadata": {
    "execution": {
     "iopub.execute_input": "2021-07-26T13:32:45.309342Z",
     "iopub.status.busy": "2021-07-26T13:32:45.308844Z",
     "iopub.status.idle": "2021-07-26T13:32:45.412653Z",
     "shell.execute_reply": "2021-07-26T13:32:45.412244Z",
     "shell.execute_reply.started": "2021-07-26T13:16:09.487749Z"
    },
    "papermill": {
     "duration": 0.124855,
     "end_time": "2021-07-26T13:32:45.412794",
     "exception": false,
     "start_time": "2021-07-26T13:32:45.287939",
     "status": "completed"
    },
    "tags": []
   },
   "outputs": [
    {
     "name": "stdout",
     "output_type": "stream",
     "text": [
      "******** 0 ********\n",
      "******** 1 ********\n",
      "******** 2 ********\n",
      "******** 3 ********\n",
      "******** 4 ********\n"
     ]
    },
    {
     "data": {
      "text/html": [
       "<div>\n",
       "<style scoped>\n",
       "    .dataframe tbody tr th:only-of-type {\n",
       "        vertical-align: middle;\n",
       "    }\n",
       "\n",
       "    .dataframe tbody tr th {\n",
       "        vertical-align: top;\n",
       "    }\n",
       "\n",
       "    .dataframe thead th {\n",
       "        text-align: right;\n",
       "    }\n",
       "</style>\n",
       "<table border=\"1\" class=\"dataframe\">\n",
       "  <thead>\n",
       "    <tr style=\"text-align: right;\">\n",
       "      <th></th>\n",
       "      <th>id</th>\n",
       "      <th>url_legal</th>\n",
       "      <th>license</th>\n",
       "      <th>excerpt</th>\n",
       "      <th>target</th>\n",
       "      <th>standard_error</th>\n",
       "      <th>fold</th>\n",
       "    </tr>\n",
       "  </thead>\n",
       "  <tbody>\n",
       "    <tr>\n",
       "      <th>0</th>\n",
       "      <td>c12129c31</td>\n",
       "      <td>NaN</td>\n",
       "      <td>NaN</td>\n",
       "      <td>When the young people returned to the ballroom...</td>\n",
       "      <td>-0.340259</td>\n",
       "      <td>0.464009</td>\n",
       "      <td>3.0</td>\n",
       "    </tr>\n",
       "    <tr>\n",
       "      <th>1</th>\n",
       "      <td>85aa80a4c</td>\n",
       "      <td>NaN</td>\n",
       "      <td>NaN</td>\n",
       "      <td>All through dinner time, Mrs. Fayre was somewh...</td>\n",
       "      <td>-0.315372</td>\n",
       "      <td>0.480805</td>\n",
       "      <td>1.0</td>\n",
       "    </tr>\n",
       "    <tr>\n",
       "      <th>2</th>\n",
       "      <td>b69ac6792</td>\n",
       "      <td>NaN</td>\n",
       "      <td>NaN</td>\n",
       "      <td>As Roger had predicted, the snow departed as q...</td>\n",
       "      <td>-0.580118</td>\n",
       "      <td>0.476676</td>\n",
       "      <td>4.0</td>\n",
       "    </tr>\n",
       "    <tr>\n",
       "      <th>3</th>\n",
       "      <td>dd1000b26</td>\n",
       "      <td>NaN</td>\n",
       "      <td>NaN</td>\n",
       "      <td>And outside before the palace a great garden w...</td>\n",
       "      <td>-1.054013</td>\n",
       "      <td>0.450007</td>\n",
       "      <td>0.0</td>\n",
       "    </tr>\n",
       "    <tr>\n",
       "      <th>4</th>\n",
       "      <td>37c1b32fb</td>\n",
       "      <td>NaN</td>\n",
       "      <td>NaN</td>\n",
       "      <td>Once upon a time there were Three Bears who li...</td>\n",
       "      <td>0.247197</td>\n",
       "      <td>0.510845</td>\n",
       "      <td>0.0</td>\n",
       "    </tr>\n",
       "    <tr>\n",
       "      <th>...</th>\n",
       "      <td>...</td>\n",
       "      <td>...</td>\n",
       "      <td>...</td>\n",
       "      <td>...</td>\n",
       "      <td>...</td>\n",
       "      <td>...</td>\n",
       "      <td>...</td>\n",
       "    </tr>\n",
       "    <tr>\n",
       "      <th>2828</th>\n",
       "      <td>25ca8f498</td>\n",
       "      <td>https://sites.ehe.osu.edu/beyondpenguins/files...</td>\n",
       "      <td>CC BY-SA 3.0</td>\n",
       "      <td>When you think of dinosaurs and where they liv...</td>\n",
       "      <td>1.711390</td>\n",
       "      <td>0.646900</td>\n",
       "      <td>2.0</td>\n",
       "    </tr>\n",
       "    <tr>\n",
       "      <th>2829</th>\n",
       "      <td>2c26db523</td>\n",
       "      <td>https://en.wikibooks.org/wiki/Wikijunior:The_E...</td>\n",
       "      <td>CC BY-SA 3.0</td>\n",
       "      <td>So what is a solid? Solids are usually hard be...</td>\n",
       "      <td>0.189476</td>\n",
       "      <td>0.535648</td>\n",
       "      <td>4.0</td>\n",
       "    </tr>\n",
       "    <tr>\n",
       "      <th>2830</th>\n",
       "      <td>cd19e2350</td>\n",
       "      <td>https://en.wikibooks.org/wiki/Wikijunior:The_E...</td>\n",
       "      <td>CC BY-SA 3.0</td>\n",
       "      <td>The second state of matter we will discuss is ...</td>\n",
       "      <td>0.255209</td>\n",
       "      <td>0.483866</td>\n",
       "      <td>3.0</td>\n",
       "    </tr>\n",
       "    <tr>\n",
       "      <th>2831</th>\n",
       "      <td>15e2e9e7a</td>\n",
       "      <td>https://en.wikibooks.org/wiki/Geometry_for_Ele...</td>\n",
       "      <td>CC BY-SA 3.0</td>\n",
       "      <td>Solids are shapes that you can actually touch....</td>\n",
       "      <td>-0.215279</td>\n",
       "      <td>0.514128</td>\n",
       "      <td>1.0</td>\n",
       "    </tr>\n",
       "    <tr>\n",
       "      <th>2832</th>\n",
       "      <td>5b990ba77</td>\n",
       "      <td>https://en.wikibooks.org/wiki/Wikijunior:Biolo...</td>\n",
       "      <td>CC BY-SA 3.0</td>\n",
       "      <td>Animals are made of many cells. They eat thing...</td>\n",
       "      <td>0.300779</td>\n",
       "      <td>0.512379</td>\n",
       "      <td>4.0</td>\n",
       "    </tr>\n",
       "  </tbody>\n",
       "</table>\n",
       "<p>2833 rows × 7 columns</p>\n",
       "</div>"
      ],
      "text/plain": [
       "             id                                          url_legal  \\\n",
       "0     c12129c31                                                NaN   \n",
       "1     85aa80a4c                                                NaN   \n",
       "2     b69ac6792                                                NaN   \n",
       "3     dd1000b26                                                NaN   \n",
       "4     37c1b32fb                                                NaN   \n",
       "...         ...                                                ...   \n",
       "2828  25ca8f498  https://sites.ehe.osu.edu/beyondpenguins/files...   \n",
       "2829  2c26db523  https://en.wikibooks.org/wiki/Wikijunior:The_E...   \n",
       "2830  cd19e2350  https://en.wikibooks.org/wiki/Wikijunior:The_E...   \n",
       "2831  15e2e9e7a  https://en.wikibooks.org/wiki/Geometry_for_Ele...   \n",
       "2832  5b990ba77  https://en.wikibooks.org/wiki/Wikijunior:Biolo...   \n",
       "\n",
       "           license                                            excerpt  \\\n",
       "0              NaN  When the young people returned to the ballroom...   \n",
       "1              NaN  All through dinner time, Mrs. Fayre was somewh...   \n",
       "2              NaN  As Roger had predicted, the snow departed as q...   \n",
       "3              NaN  And outside before the palace a great garden w...   \n",
       "4              NaN  Once upon a time there were Three Bears who li...   \n",
       "...            ...                                                ...   \n",
       "2828  CC BY-SA 3.0  When you think of dinosaurs and where they liv...   \n",
       "2829  CC BY-SA 3.0  So what is a solid? Solids are usually hard be...   \n",
       "2830  CC BY-SA 3.0  The second state of matter we will discuss is ...   \n",
       "2831  CC BY-SA 3.0  Solids are shapes that you can actually touch....   \n",
       "2832  CC BY-SA 3.0  Animals are made of many cells. They eat thing...   \n",
       "\n",
       "        target  standard_error  fold  \n",
       "0    -0.340259        0.464009   3.0  \n",
       "1    -0.315372        0.480805   1.0  \n",
       "2    -0.580118        0.476676   4.0  \n",
       "3    -1.054013        0.450007   0.0  \n",
       "4     0.247197        0.510845   0.0  \n",
       "...        ...             ...   ...  \n",
       "2828  1.711390        0.646900   2.0  \n",
       "2829  0.189476        0.535648   4.0  \n",
       "2830  0.255209        0.483866   3.0  \n",
       "2831 -0.215279        0.514128   1.0  \n",
       "2832  0.300779        0.512379   4.0  \n",
       "\n",
       "[2833 rows x 7 columns]"
      ]
     },
     "execution_count": 5,
     "metadata": {},
     "output_type": "execute_result"
    }
   ],
   "source": [
    "data = pd.read_csv(\"../input/commonlitreadabilityprize/train.csv\")\n",
    "\n",
    "data.drop(data[(data.target == 0) & (data.standard_error == 0)].index,\n",
    "              inplace=True)\n",
    "data.reset_index(drop=True, inplace=True)\n",
    "\n",
    "NUM_FOLDS = 5\n",
    "NUM_EPOCHS = 3\n",
    "BATCH_SIZE = 16\n",
    "MAX_LEN = 248\n",
    "SEED = 1000\n",
    "\n",
    "\n",
    "kfold = KFold(n_splits=NUM_FOLDS, random_state=SEED, shuffle=True)\n",
    "\n",
    "for fold, (train_indices, val_indices) in enumerate(kfold.split(data)): \n",
    "    \n",
    "    print(\"********\",fold,\"********\")\n",
    "    data.loc[val_indices, 'fold'] = fold\n",
    "    # traindf1,val_df1 = train_df.iloc[train_indices],train_df.iloc[val_indices]\n",
    "\n",
    "data"
   ]
  },
  {
   "cell_type": "code",
   "execution_count": 6,
   "id": "american-blame",
   "metadata": {
    "execution": {
     "iopub.execute_input": "2021-07-26T13:32:45.444354Z",
     "iopub.status.busy": "2021-07-26T13:32:45.443861Z",
     "iopub.status.idle": "2021-07-26T13:32:45.654163Z",
     "shell.execute_reply": "2021-07-26T13:32:45.653260Z",
     "shell.execute_reply.started": "2021-07-26T13:16:09.877184Z"
    },
    "papermill": {
     "duration": 0.227131,
     "end_time": "2021-07-26T13:32:45.654323",
     "exception": false,
     "start_time": "2021-07-26T13:32:45.427192",
     "status": "completed"
    },
    "tags": []
   },
   "outputs": [],
   "source": [
    "tokenizer = AutoTokenizer.from_pretrained(TOKENIZER_PATH)"
   ]
  },
  {
   "cell_type": "code",
   "execution_count": 7,
   "id": "imposed-imperial",
   "metadata": {
    "execution": {
     "iopub.execute_input": "2021-07-26T13:32:45.690802Z",
     "iopub.status.busy": "2021-07-26T13:32:45.689488Z",
     "iopub.status.idle": "2021-07-26T13:32:45.691780Z",
     "shell.execute_reply": "2021-07-26T13:32:45.692183Z",
     "shell.execute_reply.started": "2021-07-26T13:16:10.155751Z"
    },
    "papermill": {
     "duration": 0.023724,
     "end_time": "2021-07-26T13:32:45.692305",
     "exception": false,
     "start_time": "2021-07-26T13:32:45.668581",
     "status": "completed"
    },
    "tags": []
   },
   "outputs": [],
   "source": [
    "class LitDataset(Dataset):\n",
    "    def __init__(self, df, inference_only=False):\n",
    "        super().__init__()\n",
    "\n",
    "        self.df = df        \n",
    "        self.inference_only = inference_only\n",
    "        self.text = df.excerpt.tolist()\n",
    "        #self.text = [text.replace(\"\\n\", \" \") for text in self.text]\n",
    "        \n",
    "        if not self.inference_only:\n",
    "            self.target = torch.tensor(df.target.values, dtype=torch.float32)        \n",
    "    \n",
    "        self.encoded = tokenizer.batch_encode_plus(\n",
    "            self.text,\n",
    "            padding = 'max_length',            \n",
    "            max_length = MAX_LEN,\n",
    "            truncation = True,\n",
    "            return_attention_mask=True\n",
    "        )        \n",
    " \n",
    "\n",
    "    def __len__(self):\n",
    "        return len(self.df)\n",
    "\n",
    "    \n",
    "    def __getitem__(self, index):        \n",
    "        input_ids = torch.tensor(self.encoded['input_ids'][index])\n",
    "        attention_mask = torch.tensor(self.encoded['attention_mask'][index])\n",
    "        \n",
    "        if self.inference_only:\n",
    "            return (input_ids, attention_mask)            \n",
    "        else:\n",
    "            target = self.target[index]\n",
    "            return (input_ids, attention_mask, target)"
   ]
  },
  {
   "cell_type": "code",
   "execution_count": 8,
   "id": "equivalent-dress",
   "metadata": {
    "execution": {
     "iopub.execute_input": "2021-07-26T13:32:45.727283Z",
     "iopub.status.busy": "2021-07-26T13:32:45.726551Z",
     "iopub.status.idle": "2021-07-26T13:32:45.729246Z",
     "shell.execute_reply": "2021-07-26T13:32:45.728739Z",
     "shell.execute_reply.started": "2021-07-26T13:16:10.755088Z"
    },
    "papermill": {
     "duration": 0.02333,
     "end_time": "2021-07-26T13:32:45.729347",
     "exception": false,
     "start_time": "2021-07-26T13:32:45.706017",
     "status": "completed"
    },
    "tags": []
   },
   "outputs": [],
   "source": [
    "class LitModel(nn.Module):\n",
    "    def __init__(self):\n",
    "        super().__init__()\n",
    "\n",
    "        config = AutoConfig.from_pretrained(ROBERTA_PATH)\n",
    "        config.update({\"output_hidden_states\":True, \n",
    "                       \"hidden_dropout_prob\": 0.0,\n",
    "                       \"layer_norm_eps\": 1e-7})                       \n",
    "        \n",
    "        self.roberta = AutoModel.from_pretrained(ROBERTA_PATH, config=config)  \n",
    "            \n",
    "        self.attention = nn.Sequential(            \n",
    "            nn.Linear(768, 512),            \n",
    "            nn.Tanh(),                       \n",
    "            nn.Linear(512, 1),\n",
    "            nn.Softmax(dim=1)\n",
    "        )        \n",
    "\n",
    "        self.regressor = nn.Sequential(                        \n",
    "            nn.Linear(768, 1)                        \n",
    "        )\n",
    "        \n",
    "\n",
    "    def forward(self, input_ids, attention_mask):\n",
    "        roberta_output = self.roberta(input_ids=input_ids,\n",
    "                                      attention_mask=attention_mask)        \n",
    "\n",
    "        # There are a total of 13 layers of hidden states.\n",
    "        # 1 for the embedding layer, and 12 for the 12 Roberta layers.\n",
    "        # We take the hidden states from the last Roberta layer.\n",
    "        last_layer_hidden_states = roberta_output.hidden_states[-1]\n",
    "\n",
    "        # The number of cells is MAX_LEN.\n",
    "        # The size of the hidden state of each cell is 768 (for roberta-base).\n",
    "        # In order to condense hidden states of all cells to a context vector,\n",
    "        # we compute a weighted average of the hidden states of all cells.\n",
    "        # We compute the weight of each cell, using the attention neural network.\n",
    "        weights = self.attention(last_layer_hidden_states)\n",
    "                \n",
    "        # weights.shape is BATCH_SIZE x MAX_LEN x 1\n",
    "        # last_layer_hidden_states.shape is BATCH_SIZE x MAX_LEN x 768        \n",
    "        # Now we compute context_vector as the weighted average.\n",
    "        # context_vector.shape is BATCH_SIZE x 768\n",
    "        context_vector = torch.sum(weights * last_layer_hidden_states, dim=1)        \n",
    "        \n",
    "        # Now we reduce the context vector to the prediction score.\n",
    "        return self.regressor(context_vector)"
   ]
  },
  {
   "cell_type": "code",
   "execution_count": 9,
   "id": "charming-graphic",
   "metadata": {
    "execution": {
     "iopub.execute_input": "2021-07-26T13:32:45.762584Z",
     "iopub.status.busy": "2021-07-26T13:32:45.761943Z",
     "iopub.status.idle": "2021-07-26T13:32:45.764550Z",
     "shell.execute_reply": "2021-07-26T13:32:45.764168Z",
     "shell.execute_reply.started": "2021-07-26T13:16:11.284680Z"
    },
    "papermill": {
     "duration": 0.021637,
     "end_time": "2021-07-26T13:32:45.764651",
     "exception": false,
     "start_time": "2021-07-26T13:32:45.743014",
     "status": "completed"
    },
    "tags": []
   },
   "outputs": [],
   "source": [
    "def predict(model, data_loader):\n",
    "    \"\"\"Returns an np.array with predictions of the |model| on |data_loader|\"\"\"\n",
    "    model.eval()\n",
    "\n",
    "    result = np.zeros(len(data_loader.dataset))    \n",
    "    index = 0\n",
    "    \n",
    "    with torch.no_grad():\n",
    "        for batch_num, (input_ids, attention_mask) in enumerate(data_loader):\n",
    "            input_ids = input_ids.to(DEVICE)\n",
    "            attention_mask = attention_mask.to(DEVICE)\n",
    "                        \n",
    "            pred = model(input_ids, attention_mask)                        \n",
    "\n",
    "            result[index : index + pred.shape[0]] = pred.flatten().to(\"cpu\")\n",
    "            index += pred.shape[0]\n",
    "\n",
    "    return result"
   ]
  },
  {
   "cell_type": "markdown",
   "id": "dying-houston",
   "metadata": {
    "papermill": {
     "duration": 0.013507,
     "end_time": "2021-07-26T13:32:45.791755",
     "exception": false,
     "start_time": "2021-07-26T13:32:45.778248",
     "status": "completed"
    },
    "tags": []
   },
   "source": [
    "# stacking"
   ]
  },
  {
   "cell_type": "code",
   "execution_count": 10,
   "id": "formal-nitrogen",
   "metadata": {
    "execution": {
     "iopub.execute_input": "2021-07-26T13:32:45.831943Z",
     "iopub.status.busy": "2021-07-26T13:32:45.831122Z",
     "iopub.status.idle": "2021-07-26T13:34:11.760479Z",
     "shell.execute_reply": "2021-07-26T13:34:11.759364Z",
     "shell.execute_reply.started": "2021-07-26T13:19:10.303508Z"
    },
    "papermill": {
     "duration": 85.954839,
     "end_time": "2021-07-26T13:34:11.760663",
     "exception": false,
     "start_time": "2021-07-26T13:32:45.805824",
     "status": "completed"
    },
    "tags": []
   },
   "outputs": [
    {
     "name": "stdout",
     "output_type": "stream",
     "text": [
      "*** fold = 0 ***\n",
      "\n",
      "Using ../input/roberta-base-20210711202147-sche/model_1.pth\n"
     ]
    },
    {
     "name": "stderr",
     "output_type": "stream",
     "text": [
      "Some weights of RobertaModel were not initialized from the model checkpoint at ../input/clrp-roberta-base/clrp_roberta_base/ and are newly initialized: ['roberta.pooler.dense.weight', 'roberta.pooler.dense.bias']\n",
      "You should probably TRAIN this model on a down-stream task to be able to use it for predictions and inference.\n"
     ]
    },
    {
     "name": "stdout",
     "output_type": "stream",
     "text": [
      "pred0 len :  567\n",
      "*** fold = 1 ***\n",
      "\n",
      "Using ../input/roberta-base-20210711202147-sche/model_2.pth\n"
     ]
    },
    {
     "name": "stderr",
     "output_type": "stream",
     "text": [
      "Some weights of RobertaModel were not initialized from the model checkpoint at ../input/clrp-roberta-base/clrp_roberta_base/ and are newly initialized: ['roberta.pooler.dense.weight', 'roberta.pooler.dense.bias']\n",
      "You should probably TRAIN this model on a down-stream task to be able to use it for predictions and inference.\n"
     ]
    },
    {
     "name": "stdout",
     "output_type": "stream",
     "text": [
      "pred1 len :  567\n",
      "*** fold = 2 ***\n",
      "\n",
      "Using ../input/roberta-base-20210711202147-sche/model_3.pth\n"
     ]
    },
    {
     "name": "stderr",
     "output_type": "stream",
     "text": [
      "Some weights of RobertaModel were not initialized from the model checkpoint at ../input/clrp-roberta-base/clrp_roberta_base/ and are newly initialized: ['roberta.pooler.dense.weight', 'roberta.pooler.dense.bias']\n",
      "You should probably TRAIN this model on a down-stream task to be able to use it for predictions and inference.\n"
     ]
    },
    {
     "name": "stdout",
     "output_type": "stream",
     "text": [
      "pred2 len :  567\n",
      "*** fold = 3 ***\n",
      "\n",
      "Using ../input/roberta-base-20210711202147-sche/model_4.pth\n"
     ]
    },
    {
     "name": "stderr",
     "output_type": "stream",
     "text": [
      "Some weights of RobertaModel were not initialized from the model checkpoint at ../input/clrp-roberta-base/clrp_roberta_base/ and are newly initialized: ['roberta.pooler.dense.weight', 'roberta.pooler.dense.bias']\n",
      "You should probably TRAIN this model on a down-stream task to be able to use it for predictions and inference.\n"
     ]
    },
    {
     "name": "stdout",
     "output_type": "stream",
     "text": [
      "pred3 len :  566\n",
      "*** fold = 4 ***\n",
      "\n",
      "Using ../input/roberta-base-20210711202147-sche/model_5.pth\n"
     ]
    },
    {
     "name": "stderr",
     "output_type": "stream",
     "text": [
      "Some weights of RobertaModel were not initialized from the model checkpoint at ../input/clrp-roberta-base/clrp_roberta_base/ and are newly initialized: ['roberta.pooler.dense.weight', 'roberta.pooler.dense.bias']\n",
      "You should probably TRAIN this model on a down-stream task to be able to use it for predictions and inference.\n"
     ]
    },
    {
     "name": "stdout",
     "output_type": "stream",
     "text": [
      "pred4 len :  566\n"
     ]
    }
   ],
   "source": [
    "\n",
    "pred = []\n",
    "pred0 = []\n",
    "pred1 = []\n",
    "pred2 = []\n",
    "pred3 = []\n",
    "pred4 = []\n",
    "\n",
    "FOLDS = 5\n",
    "EPOCHS = 3\n",
    "BATCH = 8\n",
    "MAX_LEN = 248\n",
    "# TOKENIZER_PATH = \"../input/roberta-large-20210712191259-mlm/clrp_roberta_large\"\n",
    "\n",
    "# all_predictions = np.zeros((5, len(x_val)))\n",
    "\n",
    "# tokenizer = AutoTokenizer.from_pretrained(TOKENIZER_PATH)\n",
    "\n",
    "for fold in range(FOLDS):\n",
    "\n",
    "    x_train = data.loc[data.fold != fold, 'excerpt'].tolist()\n",
    "    y_train = data.loc[data.fold != fold, 'target'].values\n",
    "    # x_val = data.loc[data.fold == fold, 'excerpt'].tolist()\n",
    "    # x_val = data.loc[data.fold == fold, 'excerpt']\n",
    "    x_val = data[['id','excerpt']].loc[data.fold == fold]\n",
    "    y_val = data.loc[data.fold == fold, 'target'].values\n",
    "\n",
    "    \n",
    "\n",
    "    test_dataset = LitDataset(x_val, inference_only=True)\n",
    "    test_loader = DataLoader(test_dataset, batch_size=BATCH,\n",
    "                         drop_last=False, shuffle=False, num_workers=2)\n",
    "\n",
    "    print(f'*** fold = {fold} ***')\n",
    "\n",
    "    #CHANGEME\n",
    "    model_path = f\"../input/roberta-base-20210711202147-sche/model_{fold + 1}.pth\"\n",
    "    print(f\"\\nUsing {model_path}\")\n",
    "    \n",
    "    model = LitModel()\n",
    "#     model = MeanPoolingModel(MODEL_NAME)\n",
    "    model.load_state_dict(torch.load(model_path))  \n",
    "    model.to(DEVICE)\n",
    "    \n",
    "    if fold == 0:\n",
    "        pred0 = predict(model, test_loader)\n",
    "        x_fold0 = x_val.copy()\n",
    "        x_fold0['meanpooling pred'] = pred0\n",
    "        print(f\"pred{fold} len : \",len(pred0))\n",
    "\n",
    "    elif fold == 1:\n",
    "        \n",
    "        pred1 = predict(model, test_loader)\n",
    "        x_fold1 = x_val.copy()\n",
    "        x_fold1['meanpooling pred'] = pred1\n",
    "        print(f\"pred{fold} len : \",len(pred1))\n",
    "\n",
    "    elif fold == 2:\n",
    "        \n",
    "        pred2 = predict(model, test_loader)\n",
    "        x_fold2 = x_val.copy()\n",
    "        x_fold2['meanpooling pred'] = pred2\n",
    "        print(f\"pred{fold} len : \",len(pred2))\n",
    "\n",
    "    elif fold == 3:\n",
    "        \n",
    "        pred3 = predict(model, test_loader)\n",
    "        x_fold3 = x_val.copy()\n",
    "        x_fold3['meanpooling pred'] = pred3\n",
    "        print(f\"pred{fold} len : \",len(pred3))\n",
    "\n",
    "    elif fold == 4:\n",
    "        \n",
    "        pred4 = predict(model, test_loader)\n",
    "        x_fold4 = x_val.copy()\n",
    "        x_fold4['meanpooling pred'] = pred4\n",
    "        print(f\"pred{fold} len : \",len(pred4))\n",
    "\n",
    "    # pred = predict(model, test_loader)\n",
    "    # x_val['pred'] = pred\n",
    "    \n",
    "    del model\n",
    "    gc.collect()"
   ]
  },
  {
   "cell_type": "code",
   "execution_count": 11,
   "id": "professional-gentleman",
   "metadata": {
    "execution": {
     "iopub.execute_input": "2021-07-26T13:34:11.807965Z",
     "iopub.status.busy": "2021-07-26T13:34:11.804655Z",
     "iopub.status.idle": "2021-07-26T13:34:11.826174Z",
     "shell.execute_reply": "2021-07-26T13:34:11.826593Z",
     "shell.execute_reply.started": "2021-07-26T13:29:54.501269Z"
    },
    "papermill": {
     "duration": 0.047682,
     "end_time": "2021-07-26T13:34:11.826718",
     "exception": false,
     "start_time": "2021-07-26T13:34:11.779036",
     "status": "completed"
    },
    "tags": []
   },
   "outputs": [
    {
     "data": {
      "text/html": [
       "<div>\n",
       "<style scoped>\n",
       "    .dataframe tbody tr th:only-of-type {\n",
       "        vertical-align: middle;\n",
       "    }\n",
       "\n",
       "    .dataframe tbody tr th {\n",
       "        vertical-align: top;\n",
       "    }\n",
       "\n",
       "    .dataframe thead th {\n",
       "        text-align: right;\n",
       "    }\n",
       "</style>\n",
       "<table border=\"1\" class=\"dataframe\">\n",
       "  <thead>\n",
       "    <tr style=\"text-align: right;\">\n",
       "      <th></th>\n",
       "      <th>id</th>\n",
       "      <th>excerpt</th>\n",
       "      <th>target</th>\n",
       "      <th>meanpooling pred</th>\n",
       "    </tr>\n",
       "  </thead>\n",
       "  <tbody>\n",
       "    <tr>\n",
       "      <th>0</th>\n",
       "      <td>c12129c31</td>\n",
       "      <td>When the young people returned to the ballroom...</td>\n",
       "      <td>-0.340259</td>\n",
       "      <td>-0.174074</td>\n",
       "    </tr>\n",
       "    <tr>\n",
       "      <th>1</th>\n",
       "      <td>85aa80a4c</td>\n",
       "      <td>All through dinner time, Mrs. Fayre was somewh...</td>\n",
       "      <td>-0.315372</td>\n",
       "      <td>-0.026004</td>\n",
       "    </tr>\n",
       "    <tr>\n",
       "      <th>2</th>\n",
       "      <td>b69ac6792</td>\n",
       "      <td>As Roger had predicted, the snow departed as q...</td>\n",
       "      <td>-0.580118</td>\n",
       "      <td>-0.616102</td>\n",
       "    </tr>\n",
       "    <tr>\n",
       "      <th>3</th>\n",
       "      <td>dd1000b26</td>\n",
       "      <td>And outside before the palace a great garden w...</td>\n",
       "      <td>-1.054013</td>\n",
       "      <td>-1.494341</td>\n",
       "    </tr>\n",
       "    <tr>\n",
       "      <th>4</th>\n",
       "      <td>37c1b32fb</td>\n",
       "      <td>Once upon a time there were Three Bears who li...</td>\n",
       "      <td>0.247197</td>\n",
       "      <td>0.164479</td>\n",
       "    </tr>\n",
       "    <tr>\n",
       "      <th>...</th>\n",
       "      <td>...</td>\n",
       "      <td>...</td>\n",
       "      <td>...</td>\n",
       "      <td>...</td>\n",
       "    </tr>\n",
       "    <tr>\n",
       "      <th>2828</th>\n",
       "      <td>25ca8f498</td>\n",
       "      <td>When you think of dinosaurs and where they liv...</td>\n",
       "      <td>1.711390</td>\n",
       "      <td>0.654203</td>\n",
       "    </tr>\n",
       "    <tr>\n",
       "      <th>2829</th>\n",
       "      <td>2c26db523</td>\n",
       "      <td>So what is a solid? Solids are usually hard be...</td>\n",
       "      <td>0.189476</td>\n",
       "      <td>0.266975</td>\n",
       "    </tr>\n",
       "    <tr>\n",
       "      <th>2830</th>\n",
       "      <td>cd19e2350</td>\n",
       "      <td>The second state of matter we will discuss is ...</td>\n",
       "      <td>0.255209</td>\n",
       "      <td>-0.428472</td>\n",
       "    </tr>\n",
       "    <tr>\n",
       "      <th>2831</th>\n",
       "      <td>15e2e9e7a</td>\n",
       "      <td>Solids are shapes that you can actually touch....</td>\n",
       "      <td>-0.215279</td>\n",
       "      <td>-1.022609</td>\n",
       "    </tr>\n",
       "    <tr>\n",
       "      <th>2832</th>\n",
       "      <td>5b990ba77</td>\n",
       "      <td>Animals are made of many cells. They eat thing...</td>\n",
       "      <td>0.300779</td>\n",
       "      <td>0.245541</td>\n",
       "    </tr>\n",
       "  </tbody>\n",
       "</table>\n",
       "<p>2833 rows × 4 columns</p>\n",
       "</div>"
      ],
      "text/plain": [
       "             id                                            excerpt    target  \\\n",
       "0     c12129c31  When the young people returned to the ballroom... -0.340259   \n",
       "1     85aa80a4c  All through dinner time, Mrs. Fayre was somewh... -0.315372   \n",
       "2     b69ac6792  As Roger had predicted, the snow departed as q... -0.580118   \n",
       "3     dd1000b26  And outside before the palace a great garden w... -1.054013   \n",
       "4     37c1b32fb  Once upon a time there were Three Bears who li...  0.247197   \n",
       "...         ...                                                ...       ...   \n",
       "2828  25ca8f498  When you think of dinosaurs and where they liv...  1.711390   \n",
       "2829  2c26db523  So what is a solid? Solids are usually hard be...  0.189476   \n",
       "2830  cd19e2350  The second state of matter we will discuss is ...  0.255209   \n",
       "2831  15e2e9e7a  Solids are shapes that you can actually touch.... -0.215279   \n",
       "2832  5b990ba77  Animals are made of many cells. They eat thing...  0.300779   \n",
       "\n",
       "      meanpooling pred  \n",
       "0            -0.174074  \n",
       "1            -0.026004  \n",
       "2            -0.616102  \n",
       "3            -1.494341  \n",
       "4             0.164479  \n",
       "...                ...  \n",
       "2828          0.654203  \n",
       "2829          0.266975  \n",
       "2830         -0.428472  \n",
       "2831         -1.022609  \n",
       "2832          0.245541  \n",
       "\n",
       "[2833 rows x 4 columns]"
      ]
     },
     "execution_count": 11,
     "metadata": {},
     "output_type": "execute_result"
    }
   ],
   "source": [
    "df_concat = pd.concat([x_fold0, x_fold1, x_fold2, x_fold3, x_fold4])\n",
    "df_meanpooling = pd.merge(data, df_concat, on='id')\n",
    "\n",
    "df_meanpooling = df_meanpooling.drop(['url_legal','license','standard_error','fold','excerpt_y'],axis = 1).rename({'excerpt_x':'excerpt'},axis=1)\n",
    "df_meanpooling"
   ]
  },
  {
   "cell_type": "code",
   "execution_count": 12,
   "id": "sublime-hughes",
   "metadata": {
    "execution": {
     "iopub.execute_input": "2021-07-26T13:34:11.866127Z",
     "iopub.status.busy": "2021-07-26T13:34:11.865587Z",
     "iopub.status.idle": "2021-07-26T13:34:12.083136Z",
     "shell.execute_reply": "2021-07-26T13:34:12.083507Z",
     "shell.execute_reply.started": "2021-07-26T13:30:01.770871Z"
    },
    "papermill": {
     "duration": 0.239022,
     "end_time": "2021-07-26T13:34:12.083648",
     "exception": false,
     "start_time": "2021-07-26T13:34:11.844626",
     "status": "completed"
    },
    "tags": []
   },
   "outputs": [
    {
     "data": {
      "text/plain": [
       "<AxesSubplot:xlabel='meanpooling pred', ylabel='target'>"
      ]
     },
     "execution_count": 12,
     "metadata": {},
     "output_type": "execute_result"
    },
    {
     "data": {
      "image/png": "[encoded data removed]",
      "text/plain": [
       "<Figure size 432x288 with 1 Axes>"
      ]
     },
     "metadata": {
      "needs_background": "light"
     },
     "output_type": "display_data"
    }
   ],
   "source": [
    "import seaborn as sns\n",
    "\n",
    "sns.scatterplot(data=df_meanpooling, x='meanpooling pred', y='target')"
   ]
  },
  {
   "cell_type": "code",
   "execution_count": 13,
   "id": "grave-magnet",
   "metadata": {
    "execution": {
     "iopub.execute_input": "2021-07-26T13:34:12.127950Z",
     "iopub.status.busy": "2021-07-26T13:34:12.127433Z",
     "iopub.status.idle": "2021-07-26T13:34:12.358849Z",
     "shell.execute_reply": "2021-07-26T13:34:12.358043Z",
     "shell.execute_reply.started": "2021-07-26T13:32:11.442757Z"
    },
    "papermill": {
     "duration": 0.254615,
     "end_time": "2021-07-26T13:34:12.358967",
     "exception": false,
     "start_time": "2021-07-26T13:34:12.104352",
     "status": "completed"
    },
    "tags": []
   },
   "outputs": [],
   "source": [
    "df_meanpooling.to_csv('nishipy_roberta_stacking.csv',index=False)"
   ]
  },
  {
   "cell_type": "code",
   "execution_count": null,
   "id": "heavy-glory",
   "metadata": {
    "papermill": {
     "duration": 0.019682,
     "end_time": "2021-07-26T13:34:12.398755",
     "exception": false,
     "start_time": "2021-07-26T13:34:12.379073",
     "status": "completed"
    },
    "tags": []
   },
   "outputs": [],
   "source": []
  },
  {
   "cell_type": "markdown",
   "id": "ranging-artist",
   "metadata": {
    "papermill": {
     "duration": 0.019727,
     "end_time": "2021-07-26T13:34:12.438506",
     "exception": false,
     "start_time": "2021-07-26T13:34:12.418779",
     "status": "completed"
    },
    "tags": []
   },
   "source": [
    "# Predict and submit"
   ]
  },
  {
   "cell_type": "code",
   "execution_count": 14,
   "id": "cheap-folder",
   "metadata": {
    "execution": {
     "iopub.execute_input": "2021-07-26T13:34:12.482556Z",
     "iopub.status.busy": "2021-07-26T13:34:12.481326Z",
     "iopub.status.idle": "2021-07-26T13:34:12.484188Z",
     "shell.execute_reply": "2021-07-26T13:34:12.483660Z",
     "shell.execute_reply.started": "2021-07-02T15:55:29.45361Z"
    },
    "papermill": {
     "duration": 0.026011,
     "end_time": "2021-07-26T13:34:12.484288",
     "exception": false,
     "start_time": "2021-07-26T13:34:12.458277",
     "status": "completed"
    },
    "tags": []
   },
   "outputs": [],
   "source": [
    "# all_predictions = np.zeros((5, len(test_df)))\n",
    "\n",
    "# test_dataset = LitDataset(test_df, inference_only=True)\n",
    "# test_loader = DataLoader(test_dataset, batch_size=BATCH_SIZE,\n",
    "#                          drop_last=False, shuffle=False, num_workers=2)\n",
    "\n",
    "# for index in range(5):\n",
    "#     #CHANGEME\n",
    "#     model_path = f\"../input/roberta-base-20210711202147-sche/model_{index + 1}.pth\"\n",
    "#     print(f\"\\nUsing {model_path}\")\n",
    "                        \n",
    "#     model = LitModel()\n",
    "#     model.load_state_dict(torch.load(model_path))    \n",
    "#     model.to(DEVICE)\n",
    "    \n",
    "#     all_predictions[index] = predict(model, test_loader)\n",
    "    \n",
    "#     del model\n",
    "#     gc.collect()"
   ]
  },
  {
   "cell_type": "code",
   "execution_count": 15,
   "id": "variable-december",
   "metadata": {
    "execution": {
     "iopub.execute_input": "2021-07-26T13:34:12.526965Z",
     "iopub.status.busy": "2021-07-26T13:34:12.526448Z",
     "iopub.status.idle": "2021-07-26T13:34:12.530230Z",
     "shell.execute_reply": "2021-07-26T13:34:12.529823Z",
     "shell.execute_reply.started": "2021-07-02T15:56:10.25579Z"
    },
    "papermill": {
     "duration": 0.026196,
     "end_time": "2021-07-26T13:34:12.530333",
     "exception": false,
     "start_time": "2021-07-26T13:34:12.504137",
     "status": "completed"
    },
    "tags": []
   },
   "outputs": [],
   "source": [
    "# predictions = all_predictions.mean(axis=0)\n",
    "# submission_df.target = predictions\n",
    "# print(submission_df)\n",
    "# submission_df.to_csv(\"submission.csv\", index=False)"
   ]
  },
  {
   "cell_type": "markdown",
   "id": "dominican-understanding",
   "metadata": {
    "papermill": {
     "duration": 0.019733,
     "end_time": "2021-07-26T13:34:12.570007",
     "exception": false,
     "start_time": "2021-07-26T13:34:12.550274",
     "status": "completed"
    },
    "tags": []
   },
   "source": []
  }
 ],
 "metadata": {
  "kernelspec": {
   "display_name": "Python 3",
   "language": "python",
   "name": "python3"
  },
  "language_info": {
   "codemirror_mode": {
    "name": "ipython",
    "version": 3
   },
   "file_extension": ".py",
   "mimetype": "text/x-python",
   "name": "python",
   "nbconvert_exporter": "python",
   "pygments_lexer": "ipython3",
   "version": "3.7.10"
  },
  "papermill": {
   "default_parameters": {},
   "duration": 103.671371,
   "end_time": "2021-07-26T13:34:15.135344",
   "environment_variables": {},
   "exception": null,
   "input_path": "__notebook__.ipynb",
   "output_path": "__notebook__.ipynb",
   "parameters": {},
   "start_time": "2021-07-26T13:32:31.463973",
   "version": "2.3.3"
  }
 },
 "nbformat": 4,
 "nbformat_minor": 5
}
