{
 "cells": [
  {
   "cell_type": "markdown",
   "id": "c1e205be",
   "metadata": {
    "id": "ZxIPKE9nUde9",
    "papermill": {
     "duration": 0.020621,
     "end_time": "2021-07-26T15:43:35.265049",
     "exception": false,
     "start_time": "2021-07-26T15:43:35.244428",
     "status": "completed"
    },
    "tags": []
   },
   "source": [
    "# mean pooling modelを使ってstackingを実装する\n",
    "\n",
    "## Mean Pooling model LB:0.468\n",
    "\n",
    "元Note：https://www.kaggle.com/jcesquiveld/roberta-large-5-fold-single-model-meanpooling\n",
    "<br>https://www.kaggle.com/jcesquiveld/best-transformer-representations"
   ]
  },
  {
   "cell_type": "markdown",
   "id": "c6f1449c",
   "metadata": {
    "id": "PpuqqHJqWwyX",
    "papermill": {
     "duration": 0.018879,
     "end_time": "2021-07-26T15:43:35.302773",
     "exception": false,
     "start_time": "2021-07-26T15:43:35.283894",
     "status": "completed"
    },
    "tags": []
   },
   "source": [
    "# Import"
   ]
  },
  {
   "cell_type": "code",
   "execution_count": 1,
   "id": "5248b77f",
   "metadata": {
    "execution": {
     "iopub.execute_input": "2021-07-26T15:43:35.347887Z",
     "iopub.status.busy": "2021-07-26T15:43:35.346224Z",
     "iopub.status.idle": "2021-07-26T15:43:35.348918Z",
     "shell.execute_reply": "2021-07-26T15:43:35.349291Z",
     "shell.execute_reply.started": "2021-07-26T15:34:20.661252Z"
    },
    "id": "xuI6NlAVUde_",
    "outputId": "a5d176d2-51a8-4f7b-f32e-0e51b36403f0",
    "papermill": {
     "duration": 0.027697,
     "end_time": "2021-07-26T15:43:35.349491",
     "exception": false,
     "start_time": "2021-07-26T15:43:35.321794",
     "status": "completed"
    },
    "tags": []
   },
   "outputs": [],
   "source": [
    "# !pip install transformers accelerate datasets"
   ]
  },
  {
   "cell_type": "code",
   "execution_count": 2,
   "id": "370bd9d0",
   "metadata": {
    "execution": {
     "iopub.execute_input": "2021-07-26T15:43:35.475831Z",
     "iopub.status.busy": "2021-07-26T15:43:35.475102Z",
     "iopub.status.idle": "2021-07-26T15:43:42.487299Z",
     "shell.execute_reply": "2021-07-26T15:43:42.486782Z",
     "shell.execute_reply.started": "2021-07-26T15:34:20.683484Z"
    },
    "id": "XJPSBmaaUdfA",
    "papermill": {
     "duration": 7.118282,
     "end_time": "2021-07-26T15:43:42.487424",
     "exception": false,
     "start_time": "2021-07-26T15:43:35.369142",
     "status": "completed"
    },
    "tags": []
   },
   "outputs": [],
   "source": [
    "# Imports\n",
    "\n",
    "import os\n",
    "import numpy as np\n",
    "import pandas as pd\n",
    "import random\n",
    "\n",
    "from transformers import AutoConfig, AutoModel, AutoTokenizer, AdamW, get_linear_schedule_with_warmup, logging\n",
    "logging.set_verbosity_error()\n",
    "\n",
    "import torch\n",
    "import torch.nn as nn\n",
    "import torch.nn.functional as F\n",
    "from torch.utils.data import TensorDataset, SequentialSampler, RandomSampler, DataLoader\n",
    "\n",
    "from tqdm.notebook import tqdm\n",
    "\n",
    "import gc; gc.enable()\n",
    "from IPython.display import clear_output\n",
    "\n",
    "from sklearn.model_selection import StratifiedKFold\n",
    "import matplotlib.pyplot as plt\n",
    "import seaborn as sns\n",
    "\n",
    "sns.set_style('whitegrid')\n"
   ]
  },
  {
   "cell_type": "code",
   "execution_count": 3,
   "id": "3990ca38",
   "metadata": {
    "execution": {
     "iopub.execute_input": "2021-07-26T15:43:42.587846Z",
     "iopub.status.busy": "2021-07-26T15:43:42.586911Z",
     "iopub.status.idle": "2021-07-26T15:43:42.589697Z",
     "shell.execute_reply": "2021-07-26T15:43:42.589258Z",
     "shell.execute_reply.started": "2021-07-26T15:34:27.481098Z"
    },
    "id": "vn13dEfxUdfA",
    "papermill": {
     "duration": 0.083189,
     "end_time": "2021-07-26T15:43:42.589819",
     "exception": false,
     "start_time": "2021-07-26T15:43:42.506630",
     "status": "completed"
    },
    "tags": []
   },
   "outputs": [],
   "source": [
    "# Definitions\n",
    "\n",
    "# INPUT_DIR = '/content/drive/MyDrive/CommonLit/input/commonlitreadabilityprize'\n",
    "INPUT_DIR = '../input/commonlitreadabilityprize'\n",
    "MODEL_NAME = 'roberta-large'\n",
    "\n",
    "HIDDEN_SIZE = 1024\n",
    "NUM_HIDDEN_LAYERS = 24\n",
    "LAYER_START = 4   # for WeightedLayerPoolingModel\n",
    "\n",
    "HIDDEN_DIM_FC = 128    # for AttentionPooling\n",
    "\n",
    "MAX_LENGTH = 300\n",
    "LR = 2e-5\n",
    "EPS = 1e-8\n",
    "\n",
    "SEED = 42\n",
    "\n",
    "NUM_FOLDS = 5\n",
    "SEEDS = [113, 71, 17, 43, 37]\n",
    "\n",
    "EPOCHS = 1#5\n",
    "TRAIN_BATCH_SIZE = 8\n",
    "VAL_BATCH_SIZE = 1#32\n",
    "\n",
    "DEVICE = torch.device('cuda' if torch.cuda.is_available() else 'cpu')"
   ]
  },
  {
   "cell_type": "code",
   "execution_count": 4,
   "id": "cef8ab1d",
   "metadata": {
    "execution": {
     "iopub.execute_input": "2021-07-26T15:43:42.638560Z",
     "iopub.status.busy": "2021-07-26T15:43:42.637849Z",
     "iopub.status.idle": "2021-07-26T15:43:42.640719Z",
     "shell.execute_reply": "2021-07-26T15:43:42.640254Z",
     "shell.execute_reply.started": "2021-07-26T15:34:27.529815Z"
    },
    "id": "b5mzMPHuUdfB",
    "papermill": {
     "duration": 0.032164,
     "end_time": "2021-07-26T15:43:42.640823",
     "exception": false,
     "start_time": "2021-07-26T15:43:42.608659",
     "status": "completed"
    },
    "tags": []
   },
   "outputs": [],
   "source": [
    "# Utilities\n",
    "\n",
    "# Utility classes and functions\n",
    "\n",
    "class ContinuousStratifiedKFold(StratifiedKFold):\n",
    "    def split(selfself, x, y, groups=None):\n",
    "        num_bins = int(np.floor(1 + np.log2(len(y))))\n",
    "        bins = pd.cut(y, bins=num_bins, labels=False)\n",
    "        return super().split(x, bins, groups)\n",
    "    \n",
    "def seed_everything(seed):\n",
    "    random.seed(seed)\n",
    "    np.random.seed(seed)\n",
    "    torch.manual_seed(seed)\n",
    "    torch.cuda.manual_seed_all(seed)\n",
    "    torch.backends.cudnn.deterministic = True\n",
    "    torch.backends.cudnn.benchmark = True\n",
    "    \n",
    "def get_data_loaders(data, fold):\n",
    "    \n",
    "    x_train = data.loc[data.fold != fold, 'excerpt'].tolist()\n",
    "    y_train = data.loc[data.fold != fold, 'target'].values\n",
    "    x_val = data.loc[data.fold == fold, 'excerpt'].tolist()\n",
    "    y_val = data.loc[data.fold == fold, 'target'].values\n",
    "    \n",
    "    tokenizer = AutoTokenizer.from_pretrained(MODEL_NAME)\n",
    "    \n",
    "    encoded_train = tokenizer.batch_encode_plus(\n",
    "        x_train, \n",
    "        add_special_tokens=True, \n",
    "        return_attention_mask=True, \n",
    "        padding='max_length', \n",
    "        truncation=True,\n",
    "        max_length=MAX_LENGTH, \n",
    "        return_tensors='pt'\n",
    "    )\n",
    "    \n",
    "    encoded_val = tokenizer.batch_encode_plus(\n",
    "        x_val, \n",
    "        add_special_tokens=True, \n",
    "        return_attention_mask=True, \n",
    "        padding='max_length', \n",
    "        truncation=True,\n",
    "        max_length=MAX_LENGTH, \n",
    "        return_tensors='pt'\n",
    "    )\n",
    "    \n",
    "    dataset_train = TensorDataset(\n",
    "        encoded_train['input_ids'],\n",
    "        encoded_train['attention_mask'],\n",
    "        torch.tensor(y_train)\n",
    "    )\n",
    "    dataset_val = TensorDataset(\n",
    "        encoded_val['input_ids'],\n",
    "        encoded_val['attention_mask'],\n",
    "        torch.tensor(y_val)\n",
    "    )\n",
    "    \n",
    "    dataloader_train = DataLoader(\n",
    "        dataset_train,\n",
    "        sampler = RandomSampler(dataset_train),\n",
    "        batch_size=TRAIN_BATCH_SIZE\n",
    "    )\n",
    "\n",
    "    dataloader_val = DataLoader(\n",
    "        dataset_val,\n",
    "        sampler = SequentialSampler(dataset_val),\n",
    "        batch_size=VAL_BATCH_SIZE\n",
    "    )\n",
    "\n",
    "    return dataloader_train, dataloader_val"
   ]
  },
  {
   "cell_type": "markdown",
   "id": "f28ee70c",
   "metadata": {
    "id": "jNSfBGfcUdfC",
    "papermill": {
     "duration": 0.018078,
     "end_time": "2021-07-26T15:43:42.677249",
     "exception": false,
     "start_time": "2021-07-26T15:43:42.659171",
     "status": "completed"
    },
    "tags": []
   },
   "source": [
    "<h2>Model definitions</h2>"
   ]
  },
  {
   "cell_type": "code",
   "execution_count": 5,
   "id": "87690a7b",
   "metadata": {
    "execution": {
     "iopub.execute_input": "2021-07-26T15:43:42.722822Z",
     "iopub.status.busy": "2021-07-26T15:43:42.722146Z",
     "iopub.status.idle": "2021-07-26T15:43:42.724869Z",
     "shell.execute_reply": "2021-07-26T15:43:42.724458Z",
     "shell.execute_reply.started": "2021-07-26T15:34:27.547630Z"
    },
    "id": "qvPxO-89UdfC",
    "papermill": {
     "duration": 0.028488,
     "end_time": "2021-07-26T15:43:42.724984",
     "exception": false,
     "start_time": "2021-07-26T15:43:42.696496",
     "status": "completed"
    },
    "tags": []
   },
   "outputs": [],
   "source": [
    "      \n",
    "        \n",
    "class MeanPoolingModel(nn.Module):\n",
    "    \n",
    "    def __init__(self, model_name):\n",
    "        super().__init__()\n",
    "        \n",
    "        config = AutoConfig.from_pretrained(model_name)\n",
    "        self.model = AutoModel.from_pretrained(model_name, config=config)\n",
    "        self.linear = nn.Linear(HIDDEN_SIZE, 1)\n",
    "        self.loss = nn.MSELoss()\n",
    "        \n",
    "    def forward(self, input_ids, attention_mask, labels=None):\n",
    "        \n",
    "        outputs = self.model(input_ids, attention_mask)\n",
    "        last_hidden_state = outputs[0]\n",
    "        input_mask_expanded = attention_mask.unsqueeze(-1).expand(last_hidden_state.size()).float()\n",
    "        sum_embeddings = torch.sum(last_hidden_state * input_mask_expanded, 1)\n",
    "        sum_mask = input_mask_expanded.sum(1)\n",
    "        sum_mask = torch.clamp(sum_mask, min=1e-9)\n",
    "        mean_embeddings = sum_embeddings / sum_mask\n",
    "        logits = self.linear(mean_embeddings)\n",
    "        \n",
    "        preds = logits.squeeze(-1).squeeze(-1)\n",
    "        \n",
    "        if labels is not None:\n",
    "            loss = self.loss(preds.view(-1).float(), labels.view(-1).float())\n",
    "            return loss\n",
    "        else:\n",
    "            return preds\n",
    "     "
   ]
  },
  {
   "cell_type": "code",
   "execution_count": null,
   "id": "96ec2b51",
   "metadata": {
    "id": "Elts33SgUdfE",
    "papermill": {
     "duration": 0.018138,
     "end_time": "2021-07-26T15:43:42.761338",
     "exception": false,
     "start_time": "2021-07-26T15:43:42.743200",
     "status": "completed"
    },
    "tags": []
   },
   "outputs": [],
   "source": []
  },
  {
   "cell_type": "markdown",
   "id": "39363828",
   "metadata": {
    "id": "xm9BS_XPUdfE",
    "papermill": {
     "duration": 0.018124,
     "end_time": "2021-07-26T15:43:42.798680",
     "exception": false,
     "start_time": "2021-07-26T15:43:42.780556",
     "status": "completed"
    },
    "tags": []
   },
   "source": [
    "# 評価関数"
   ]
  },
  {
   "cell_type": "code",
   "execution_count": 6,
   "id": "26e26ec6",
   "metadata": {
    "execution": {
     "iopub.execute_input": "2021-07-26T15:43:42.841337Z",
     "iopub.status.busy": "2021-07-26T15:43:42.840648Z",
     "iopub.status.idle": "2021-07-26T15:43:42.843415Z",
     "shell.execute_reply": "2021-07-26T15:43:42.843020Z",
     "shell.execute_reply.started": "2021-07-26T15:34:27.561618Z"
    },
    "id": "G61OBJkUUdfF",
    "papermill": {
     "duration": 0.026549,
     "end_time": "2021-07-26T15:43:42.843518",
     "exception": false,
     "start_time": "2021-07-26T15:43:42.816969",
     "status": "completed"
    },
    "tags": []
   },
   "outputs": [],
   "source": [
    "def eval_mse(model, data_loader):\n",
    "    \"\"\"Evaluates the mean squared error of the |model| on |data_loader|\"\"\"\n",
    "    model.eval()            \n",
    "    mse_sum = 0\n",
    "\n",
    "    with torch.no_grad():\n",
    "        for batch_num, (input_ids, attention_mask, target) in enumerate(data_loader):\n",
    "            input_ids = input_ids.to(DEVICE)\n",
    "            attention_mask = attention_mask.to(DEVICE)                        \n",
    "            target = target.to(DEVICE)           \n",
    "            \n",
    "            pred = model(input_ids, attention_mask)                       \n",
    "\n",
    "            mse_sum += nn.MSELoss(reduction=\"sum\")(pred.flatten(), target).item()\n",
    "                \n",
    "\n",
    "    return mse_sum / len(data_loader.dataset)"
   ]
  },
  {
   "cell_type": "markdown",
   "id": "0c5c3ab0",
   "metadata": {
    "id": "OReWHvHgUdfG",
    "papermill": {
     "duration": 0.018087,
     "end_time": "2021-07-26T15:43:42.880005",
     "exception": false,
     "start_time": "2021-07-26T15:43:42.861918",
     "status": "completed"
    },
    "tags": []
   },
   "source": [
    "<h2>Read data and create folds</h2>\n",
    "\n",
    "For the results to be reproducible, I create the same folds I'm using in the competition."
   ]
  },
  {
   "cell_type": "code",
   "execution_count": 7,
   "id": "b7ef3ae9",
   "metadata": {
    "execution": {
     "iopub.execute_input": "2021-07-26T15:43:42.922017Z",
     "iopub.status.busy": "2021-07-26T15:43:42.921448Z",
     "iopub.status.idle": "2021-07-26T15:43:43.052435Z",
     "shell.execute_reply": "2021-07-26T15:43:43.051969Z",
     "shell.execute_reply.started": "2021-07-26T15:34:27.574507Z"
    },
    "id": "LStyle0sUdfG",
    "papermill": {
     "duration": 0.153947,
     "end_time": "2021-07-26T15:43:43.052560",
     "exception": false,
     "start_time": "2021-07-26T15:43:42.898613",
     "status": "completed"
    },
    "tags": []
   },
   "outputs": [],
   "source": [
    "# Read competition data\n",
    "data = pd.read_csv(os.path.join(INPUT_DIR, 'train.csv'))\n",
    "\n",
    "# Create stratified folds\n",
    "kf = ContinuousStratifiedKFold(n_splits=5, shuffle=True, random_state=SEED)\n",
    "for f, (t_, v_) in enumerate(kf.split(data, data.target)):\n",
    "    data.loc[v_, 'fold'] = f\n",
    "data['fold'] = data['fold'].astype(int)\n"
   ]
  },
  {
   "cell_type": "code",
   "execution_count": 8,
   "id": "fc49859a",
   "metadata": {
    "execution": {
     "iopub.execute_input": "2021-07-26T15:43:43.094614Z",
     "iopub.status.busy": "2021-07-26T15:43:43.093847Z",
     "iopub.status.idle": "2021-07-26T15:43:43.112206Z",
     "shell.execute_reply": "2021-07-26T15:43:43.111773Z",
     "shell.execute_reply.started": "2021-07-26T15:34:27.690743Z"
    },
    "papermill": {
     "duration": 0.041285,
     "end_time": "2021-07-26T15:43:43.112310",
     "exception": false,
     "start_time": "2021-07-26T15:43:43.071025",
     "status": "completed"
    },
    "tags": []
   },
   "outputs": [],
   "source": [
    "### nishipyに合わせてtarget and std = 0を消す\n",
    "data.drop(data[(data.target == 0) & (data.standard_error == 0)].index,\n",
    "              inplace=True)\n",
    "data.reset_index(drop=True, inplace=True)"
   ]
  },
  {
   "cell_type": "markdown",
   "id": "8269b6a7",
   "metadata": {
    "id": "BFKJGYqcUdfG",
    "papermill": {
     "duration": 0.0181,
     "end_time": "2021-07-26T15:43:43.148651",
     "exception": false,
     "start_time": "2021-07-26T15:43:43.130551",
     "status": "completed"
    },
    "tags": []
   },
   "source": [
    "<h2>Training and evaluation</h2>"
   ]
  },
  {
   "cell_type": "code",
   "execution_count": 9,
   "id": "f149ab05",
   "metadata": {
    "execution": {
     "iopub.execute_input": "2021-07-26T15:43:43.188966Z",
     "iopub.status.busy": "2021-07-26T15:43:43.188296Z",
     "iopub.status.idle": "2021-07-26T15:43:43.190784Z",
     "shell.execute_reply": "2021-07-26T15:43:43.191158Z",
     "shell.execute_reply.started": "2021-07-26T15:34:27.716890Z"
    },
    "id": "0l5WS2MgyAq8",
    "outputId": "1342ffec-f554-4349-a724-9a972ce7e0ec",
    "papermill": {
     "duration": 0.023883,
     "end_time": "2021-07-26T15:43:43.191278",
     "exception": false,
     "start_time": "2021-07-26T15:43:43.167395",
     "status": "completed"
    },
    "tags": []
   },
   "outputs": [],
   "source": [
    "# !mkdir /content/drive/MyDrive/CommonLit/output/stacking"
   ]
  },
  {
   "cell_type": "code",
   "execution_count": 10,
   "id": "9b581a48",
   "metadata": {
    "execution": {
     "iopub.execute_input": "2021-07-26T15:43:43.240761Z",
     "iopub.status.busy": "2021-07-26T15:43:43.240009Z",
     "iopub.status.idle": "2021-07-26T15:43:43.242296Z",
     "shell.execute_reply": "2021-07-26T15:43:43.242783Z",
     "shell.execute_reply.started": "2021-07-26T15:34:27.726877Z"
    },
    "id": "GXSclbOOUdfG",
    "papermill": {
     "duration": 0.03313,
     "end_time": "2021-07-26T15:43:43.242899",
     "exception": false,
     "start_time": "2021-07-26T15:43:43.209769",
     "status": "completed"
    },
    "tags": []
   },
   "outputs": [],
   "source": [
    "def evaluate(model, val_dataloader):\n",
    "\n",
    "    model.eval()\n",
    "    \n",
    "    loss_val_total = 0\n",
    "    \n",
    "    for batch in val_dataloader:\n",
    "        \n",
    "        batch = tuple(b.to(DEVICE) for b in batch)\n",
    "        \n",
    "        inputs = {'input_ids':      batch[0],\n",
    "                  'attention_mask': batch[1],\n",
    "                  'labels':         batch[2],\n",
    "                 }\n",
    "\n",
    "        with torch.no_grad():        \n",
    "            loss = model(**inputs)\n",
    "            \n",
    "        loss_val_total += loss.item()\n",
    "\n",
    "    loss_val_avg = loss_val_total/len(val_dataloader) \n",
    "            \n",
    "    return loss_val_avg\n",
    "\n",
    "\n",
    "def train(model, train_dataloader, val_dataloader):\n",
    "    \n",
    "    optimizer = AdamW(model.parameters(), lr = LR, eps = EPS)\n",
    "\n",
    "    print(\"len(train_dataloader) = \",len(train_dataloader))\n",
    "    \n",
    "    scheduler = get_linear_schedule_with_warmup(optimizer, num_warmup_steps=0, \n",
    "                                                num_training_steps=len(train_dataloader) * EPOCHS)\n",
    "    best_val_loss = 1\n",
    "    best_rmse = 10\n",
    "    model.train()\n",
    "                                                \n",
    "    for epoch in range(EPOCHS):\n",
    "    \n",
    "        loss_train_total = 0\n",
    "        for batch in tqdm(train_dataloader):\n",
    "    \n",
    "            model.zero_grad()\n",
    "            batch = tuple(b.to(DEVICE) for b in batch)\n",
    "            inputs = {\n",
    "                'input_ids': batch[0],\n",
    "                'attention_mask': batch[1],\n",
    "                'labels': batch[2]\n",
    "            }\n",
    "        \n",
    "            loss = model(**inputs)\n",
    "            # print('loss  ',loss)\n",
    "            loss_train_total += loss.item()\n",
    "        \n",
    "            loss.backward()\n",
    "            optimizer.step()\n",
    "            scheduler.step()\n",
    "        \n",
    "        loss_train_avg = loss_train_total / len(train_dataloader)\n",
    "        \n",
    "        val_rmse = math.sqrt(eval_mse(model, val_dataloader))\n",
    "        loss_val_avg = evaluate(model, val_dataloader)\n",
    "        print(f'epoch:{epoch+1}/{EPOCHS} train loss={loss_train_avg}  val loss={loss_val_avg}  val rmse = {val_rmse}')\n",
    "\n",
    "        if val_rmse < best_rmse:\n",
    "            print(\"best rmse is Updated! \",best_rmse , \" to \", val_rmse)\n",
    "            best_rmse = val_rmse\n",
    "            torch.save(model.state_dict(),f\"./model_fold{fold}.pth\")\n",
    "#             torch.save(model.state_dict(),f\"/content/drive/MyDrive/CommonLit/output/stacking/model_fold{fold}.pth\")\n",
    "   \n",
    "        # if loss_val_avg < best_val_loss:\n",
    "        #     print(\"best val loss is Updated! \",best_val_loss , \" to \", loss_val_avg)\n",
    "        #     best_val_loss = loss_val_avg\n",
    "        #     torch.save(model.state_dict(),f\"model_fold{fold}.pth\")\n",
    "            \n",
    "    return best_val_loss"
   ]
  },
  {
   "cell_type": "code",
   "execution_count": null,
   "id": "d9aaaebe",
   "metadata": {
    "id": "BV4nmoRSAFKY",
    "papermill": {
     "duration": 0.018196,
     "end_time": "2021-07-26T15:43:43.279493",
     "exception": false,
     "start_time": "2021-07-26T15:43:43.261297",
     "status": "completed"
    },
    "tags": []
   },
   "outputs": [],
   "source": []
  },
  {
   "cell_type": "code",
   "execution_count": null,
   "id": "99665cef",
   "metadata": {
    "papermill": {
     "duration": 0.018683,
     "end_time": "2021-07-26T15:43:43.316678",
     "exception": false,
     "start_time": "2021-07-26T15:43:43.297995",
     "status": "completed"
    },
    "tags": []
   },
   "outputs": [],
   "source": []
  },
  {
   "cell_type": "markdown",
   "id": "564780d4",
   "metadata": {
    "id": "M1JgpOChLkDS",
    "papermill": {
     "duration": 0.018093,
     "end_time": "2021-07-26T15:43:43.353085",
     "exception": false,
     "start_time": "2021-07-26T15:43:43.334992",
     "status": "completed"
    },
    "tags": []
   },
   "source": [
    "## Dataset\n"
   ]
  },
  {
   "cell_type": "code",
   "execution_count": 11,
   "id": "504881c1",
   "metadata": {
    "execution": {
     "iopub.execute_input": "2021-07-26T15:43:43.400558Z",
     "iopub.status.busy": "2021-07-26T15:43:43.399773Z",
     "iopub.status.idle": "2021-07-26T15:43:43.401952Z",
     "shell.execute_reply": "2021-07-26T15:43:43.402398Z",
     "shell.execute_reply.started": "2021-07-26T15:34:27.744001Z"
    },
    "id": "PBdS4snQpwDb",
    "papermill": {
     "duration": 0.031058,
     "end_time": "2021-07-26T15:43:43.402512",
     "exception": false,
     "start_time": "2021-07-26T15:43:43.371454",
     "status": "completed"
    },
    "tags": []
   },
   "outputs": [],
   "source": [
    "\n",
    "from torch.utils.data import DataLoader\n",
    "from torch.utils.data import Dataset\n",
    "\n",
    "\n",
    "def predict(model, data_loader):\n",
    "    \"\"\"Returns an np.array with predictions of the |model| on |data_loader|\"\"\"\n",
    "    model.eval()\n",
    "\n",
    "    result = np.zeros(len(data_loader.dataset))    \n",
    "    index = 0\n",
    "    \n",
    "    with torch.no_grad():\n",
    "        for batch_num, (input_ids, attention_mask) in enumerate(data_loader):\n",
    "            input_ids = input_ids.to(DEVICE)\n",
    "            attention_mask = attention_mask.to(DEVICE)\n",
    "                        \n",
    "            pred = model(input_ids, attention_mask)                        \n",
    "\n",
    "            result[index : index + pred.shape[0]] = pred.flatten().to(\"cpu\")\n",
    "            index += pred.shape[0]\n",
    "\n",
    "    return result\n",
    "\n",
    "\n",
    "class LitDataset(Dataset):\n",
    "    def __init__(self, df, inference_only=False):\n",
    "        super().__init__()\n",
    "\n",
    "        self.df = df        \n",
    "        self.inference_only = inference_only\n",
    "        self.text = df.excerpt.tolist()\n",
    "        #self.text = [text.replace(\"\\n\", \" \") for text in self.text]\n",
    "        \n",
    "        if not self.inference_only:\n",
    "            self.target = torch.tensor(df.target.values, dtype=torch.float32)        \n",
    "    \n",
    "        self.encoded = tokenizer.batch_encode_plus(\n",
    "            self.text,\n",
    "            padding = 'max_length',            \n",
    "            max_length = MAX_LEN,\n",
    "            truncation = True,\n",
    "            return_attention_mask=True\n",
    "        )        \n",
    " \n",
    "\n",
    "    def __len__(self):\n",
    "        return len(self.df)\n",
    "\n",
    "    \n",
    "    def __getitem__(self, index):        \n",
    "        input_ids = torch.tensor(self.encoded['input_ids'][index])\n",
    "        attention_mask = torch.tensor(self.encoded['attention_mask'][index])\n",
    "        \n",
    "        if self.inference_only:\n",
    "            return (input_ids, attention_mask)            \n",
    "        else:\n",
    "            target = self.target[index]\n",
    "            return (input_ids, attention_mask, target)"
   ]
  },
  {
   "cell_type": "markdown",
   "id": "517dc9b6",
   "metadata": {
    "id": "eMB-PHkIMKdE",
    "papermill": {
     "duration": 0.018488,
     "end_time": "2021-07-26T15:43:43.439643",
     "exception": false,
     "start_time": "2021-07-26T15:43:43.421155",
     "status": "completed"
    },
    "tags": []
   },
   "source": [
    "# Stacking実装パート\n",
    "## Fold毎の予測結果を出力"
   ]
  },
  {
   "cell_type": "code",
   "execution_count": 12,
   "id": "f820ff5d",
   "metadata": {
    "execution": {
     "iopub.execute_input": "2021-07-26T15:43:43.488693Z",
     "iopub.status.busy": "2021-07-26T15:43:43.488158Z",
     "iopub.status.idle": "2021-07-26T15:49:29.721265Z",
     "shell.execute_reply": "2021-07-26T15:49:29.721886Z",
     "shell.execute_reply.started": "2021-07-26T15:34:27.761049Z"
    },
    "id": "_quMYL8UMJpU",
    "outputId": "ad9113c7-6d16-4177-ec3d-fe01589a4c65",
    "papermill": {
     "duration": 346.264142,
     "end_time": "2021-07-26T15:49:29.722101",
     "exception": false,
     "start_time": "2021-07-26T15:43:43.457959",
     "status": "completed"
    },
    "tags": []
   },
   "outputs": [
    {
     "name": "stdout",
     "output_type": "stream",
     "text": [
      "*** fold = 0 ***\n",
      "\n",
      "Using ../input/robertalargemeanpooling/model_fold0.pth\n"
     ]
    },
    {
     "data": {
      "application/vnd.jupyter.widget-view+json": {
       "model_id": "d8d3e80099884153a867782e6d46633f",
       "version_major": 2,
       "version_minor": 0
      },
      "text/plain": [
       "Downloading:   0%|          | 0.00/482 [00:00<?, ?B/s]"
      ]
     },
     "metadata": {},
     "output_type": "display_data"
    },
    {
     "data": {
      "application/vnd.jupyter.widget-view+json": {
       "model_id": "9533c207018049a9af77c8e830a3e58c",
       "version_major": 2,
       "version_minor": 0
      },
      "text/plain": [
       "Downloading:   0%|          | 0.00/1.43G [00:00<?, ?B/s]"
      ]
     },
     "metadata": {},
     "output_type": "display_data"
    },
    {
     "name": "stdout",
     "output_type": "stream",
     "text": [
      "pred0 len :  567\n",
      "*** fold = 1 ***\n",
      "\n",
      "Using ../input/robertalargemeanpooling/model_fold1.pth\n",
      "pred1 len :  567\n",
      "*** fold = 2 ***\n",
      "\n",
      "Using ../input/robertalargemeanpooling/model_fold2.pth\n",
      "pred2 len :  567\n",
      "*** fold = 3 ***\n",
      "\n",
      "Using ../input/robertalargemeanpooling/model_fold3.pth\n",
      "pred3 len :  566\n",
      "*** fold = 4 ***\n",
      "\n",
      "Using ../input/robertalargemeanpooling/model_fold4.pth\n",
      "pred4 len :  566\n"
     ]
    }
   ],
   "source": [
    "# test_dataset = LitDataset(test_df, inference_only=True)\n",
    "# test_loader = DataLoader(test_dataset, batch_size=BATCH_SIZE,\n",
    "#                          drop_last=False, shuffle=False, num_workers=2)\n",
    "\n",
    "pred = []\n",
    "pred0 = []\n",
    "pred1 = []\n",
    "pred2 = []\n",
    "pred3 = []\n",
    "pred4 = []\n",
    "\n",
    "FOLDS = 5\n",
    "EPOCHS = 3\n",
    "BATCH = 8\n",
    "MAX_LEN = 248\n",
    "TOKENIZER_PATH = \"../input/roberta-large-20210712191259-mlm/clrp_roberta_large\"\n",
    "\n",
    "# all_predictions = np.zeros((5, len(x_val)))\n",
    "\n",
    "tokenizer = AutoTokenizer.from_pretrained(TOKENIZER_PATH)\n",
    "\n",
    "for fold in range(FOLDS):\n",
    "\n",
    "    x_train = data.loc[data.fold != fold, 'excerpt'].tolist()\n",
    "    y_train = data.loc[data.fold != fold, 'target'].values\n",
    "    # x_val = data.loc[data.fold == fold, 'excerpt'].tolist()\n",
    "    # x_val = data.loc[data.fold == fold, 'excerpt']\n",
    "    x_val = data[['id','excerpt']].loc[data.fold == fold]\n",
    "    y_val = data.loc[data.fold == fold, 'target'].values\n",
    "\n",
    "    \n",
    "\n",
    "    test_dataset = LitDataset(x_val, inference_only=True)\n",
    "    test_loader = DataLoader(test_dataset, batch_size=BATCH,\n",
    "                         drop_last=False, shuffle=False, num_workers=2)\n",
    "\n",
    "    print(f'*** fold = {fold} ***')\n",
    "\n",
    "    #CHANGEME\n",
    "    model_path = f\"../input/robertalargemeanpooling/model_fold{fold}.pth\"\n",
    "    print(f\"\\nUsing {model_path}\")\n",
    "    \n",
    "    # model = LitModel()\n",
    "    model = MeanPoolingModel(MODEL_NAME)\n",
    "    model.load_state_dict(torch.load(model_path))  \n",
    "    model.to(DEVICE)\n",
    "    \n",
    "    if fold == 0:\n",
    "        pred0 = predict(model, test_loader)\n",
    "        x_fold0 = x_val.copy()\n",
    "        x_fold0['meanpooling pred'] = pred0\n",
    "        print(f\"pred{fold} len : \",len(pred0))\n",
    "\n",
    "    elif fold == 1:\n",
    "        \n",
    "        pred1 = predict(model, test_loader)\n",
    "        x_fold1 = x_val.copy()\n",
    "        x_fold1['meanpooling pred'] = pred1\n",
    "        print(f\"pred{fold} len : \",len(pred1))\n",
    "\n",
    "    elif fold == 2:\n",
    "        \n",
    "        pred2 = predict(model, test_loader)\n",
    "        x_fold2 = x_val.copy()\n",
    "        x_fold2['meanpooling pred'] = pred2\n",
    "        print(f\"pred{fold} len : \",len(pred2))\n",
    "\n",
    "    elif fold == 3:\n",
    "        \n",
    "        pred3 = predict(model, test_loader)\n",
    "        x_fold3 = x_val.copy()\n",
    "        x_fold3['meanpooling pred'] = pred3\n",
    "        print(f\"pred{fold} len : \",len(pred3))\n",
    "\n",
    "    elif fold == 4:\n",
    "        \n",
    "        pred4 = predict(model, test_loader)\n",
    "        x_fold4 = x_val.copy()\n",
    "        x_fold4['meanpooling pred'] = pred4\n",
    "        print(f\"pred{fold} len : \",len(pred4))\n",
    "\n",
    "    # pred = predict(model, test_loader)\n",
    "    # x_val['pred'] = pred\n",
    "    \n",
    "    del model\n",
    "    gc.collect()\n"
   ]
  },
  {
   "cell_type": "markdown",
   "id": "fbf2774d",
   "metadata": {
    "papermill": {
     "duration": 0.02485,
     "end_time": "2021-07-26T15:49:29.770465",
     "exception": false,
     "start_time": "2021-07-26T15:49:29.745615",
     "status": "completed"
    },
    "tags": []
   },
   "source": [
    "# 元データにmerge"
   ]
  },
  {
   "cell_type": "code",
   "execution_count": 13,
   "id": "0471409f",
   "metadata": {
    "execution": {
     "iopub.execute_input": "2021-07-26T15:49:29.832304Z",
     "iopub.status.busy": "2021-07-26T15:49:29.830234Z",
     "iopub.status.idle": "2021-07-26T15:49:29.866010Z",
     "shell.execute_reply": "2021-07-26T15:49:29.866539Z",
     "shell.execute_reply.started": "2021-07-26T15:38:09.142566Z"
    },
    "id": "PKytJ6MKUdfH",
    "outputId": "a871da9f-f9b3-4287-a3e3-d96c4bc3f2f8",
    "papermill": {
     "duration": 0.071417,
     "end_time": "2021-07-26T15:49:29.866746",
     "exception": false,
     "start_time": "2021-07-26T15:49:29.795329",
     "status": "completed"
    },
    "tags": []
   },
   "outputs": [
    {
     "data": {
      "text/html": [
       "<div>\n",
       "<style scoped>\n",
       "    .dataframe tbody tr th:only-of-type {\n",
       "        vertical-align: middle;\n",
       "    }\n",
       "\n",
       "    .dataframe tbody tr th {\n",
       "        vertical-align: top;\n",
       "    }\n",
       "\n",
       "    .dataframe thead th {\n",
       "        text-align: right;\n",
       "    }\n",
       "</style>\n",
       "<table border=\"1\" class=\"dataframe\">\n",
       "  <thead>\n",
       "    <tr style=\"text-align: right;\">\n",
       "      <th></th>\n",
       "      <th>id</th>\n",
       "      <th>excerpt</th>\n",
       "      <th>target</th>\n",
       "      <th>meanpooling pred</th>\n",
       "    </tr>\n",
       "  </thead>\n",
       "  <tbody>\n",
       "    <tr>\n",
       "      <th>0</th>\n",
       "      <td>c12129c31</td>\n",
       "      <td>When the young people returned to the ballroom...</td>\n",
       "      <td>-0.340259</td>\n",
       "      <td>-0.207184</td>\n",
       "    </tr>\n",
       "    <tr>\n",
       "      <th>1</th>\n",
       "      <td>85aa80a4c</td>\n",
       "      <td>All through dinner time, Mrs. Fayre was somewh...</td>\n",
       "      <td>-0.315372</td>\n",
       "      <td>-0.272321</td>\n",
       "    </tr>\n",
       "    <tr>\n",
       "      <th>2</th>\n",
       "      <td>b69ac6792</td>\n",
       "      <td>As Roger had predicted, the snow departed as q...</td>\n",
       "      <td>-0.580118</td>\n",
       "      <td>-0.543892</td>\n",
       "    </tr>\n",
       "    <tr>\n",
       "      <th>3</th>\n",
       "      <td>dd1000b26</td>\n",
       "      <td>And outside before the palace a great garden w...</td>\n",
       "      <td>-1.054013</td>\n",
       "      <td>-1.566886</td>\n",
       "    </tr>\n",
       "    <tr>\n",
       "      <th>4</th>\n",
       "      <td>37c1b32fb</td>\n",
       "      <td>Once upon a time there were Three Bears who li...</td>\n",
       "      <td>0.247197</td>\n",
       "      <td>-0.133207</td>\n",
       "    </tr>\n",
       "    <tr>\n",
       "      <th>...</th>\n",
       "      <td>...</td>\n",
       "      <td>...</td>\n",
       "      <td>...</td>\n",
       "      <td>...</td>\n",
       "    </tr>\n",
       "    <tr>\n",
       "      <th>2828</th>\n",
       "      <td>25ca8f498</td>\n",
       "      <td>When you think of dinosaurs and where they liv...</td>\n",
       "      <td>1.711390</td>\n",
       "      <td>0.639129</td>\n",
       "    </tr>\n",
       "    <tr>\n",
       "      <th>2829</th>\n",
       "      <td>2c26db523</td>\n",
       "      <td>So what is a solid? Solids are usually hard be...</td>\n",
       "      <td>0.189476</td>\n",
       "      <td>0.250395</td>\n",
       "    </tr>\n",
       "    <tr>\n",
       "      <th>2830</th>\n",
       "      <td>cd19e2350</td>\n",
       "      <td>The second state of matter we will discuss is ...</td>\n",
       "      <td>0.255209</td>\n",
       "      <td>-0.384784</td>\n",
       "    </tr>\n",
       "    <tr>\n",
       "      <th>2831</th>\n",
       "      <td>15e2e9e7a</td>\n",
       "      <td>Solids are shapes that you can actually touch....</td>\n",
       "      <td>-0.215279</td>\n",
       "      <td>-1.254781</td>\n",
       "    </tr>\n",
       "    <tr>\n",
       "      <th>2832</th>\n",
       "      <td>5b990ba77</td>\n",
       "      <td>Animals are made of many cells. They eat thing...</td>\n",
       "      <td>0.300779</td>\n",
       "      <td>0.146168</td>\n",
       "    </tr>\n",
       "  </tbody>\n",
       "</table>\n",
       "<p>2833 rows × 4 columns</p>\n",
       "</div>"
      ],
      "text/plain": [
       "             id                                            excerpt    target  \\\n",
       "0     c12129c31  When the young people returned to the ballroom... -0.340259   \n",
       "1     85aa80a4c  All through dinner time, Mrs. Fayre was somewh... -0.315372   \n",
       "2     b69ac6792  As Roger had predicted, the snow departed as q... -0.580118   \n",
       "3     dd1000b26  And outside before the palace a great garden w... -1.054013   \n",
       "4     37c1b32fb  Once upon a time there were Three Bears who li...  0.247197   \n",
       "...         ...                                                ...       ...   \n",
       "2828  25ca8f498  When you think of dinosaurs and where they liv...  1.711390   \n",
       "2829  2c26db523  So what is a solid? Solids are usually hard be...  0.189476   \n",
       "2830  cd19e2350  The second state of matter we will discuss is ...  0.255209   \n",
       "2831  15e2e9e7a  Solids are shapes that you can actually touch.... -0.215279   \n",
       "2832  5b990ba77  Animals are made of many cells. They eat thing...  0.300779   \n",
       "\n",
       "      meanpooling pred  \n",
       "0            -0.207184  \n",
       "1            -0.272321  \n",
       "2            -0.543892  \n",
       "3            -1.566886  \n",
       "4            -0.133207  \n",
       "...                ...  \n",
       "2828          0.639129  \n",
       "2829          0.250395  \n",
       "2830         -0.384784  \n",
       "2831         -1.254781  \n",
       "2832          0.146168  \n",
       "\n",
       "[2833 rows x 4 columns]"
      ]
     },
     "execution_count": 13,
     "metadata": {},
     "output_type": "execute_result"
    }
   ],
   "source": [
    "df_concat = pd.concat([x_fold0, x_fold1, x_fold2, x_fold3, x_fold4])\n",
    "df_meanpooling = pd.merge(data, df_concat, on='id')\n",
    "\n",
    "df_meanpooling = df_meanpooling.drop(['url_legal','license','standard_error','fold','excerpt_y'],axis = 1).rename({'excerpt_x':'excerpt'},axis=1)\n",
    "df_meanpooling"
   ]
  },
  {
   "cell_type": "markdown",
   "id": "e0cab467",
   "metadata": {
    "papermill": {
     "duration": 0.022548,
     "end_time": "2021-07-26T15:49:29.919151",
     "exception": false,
     "start_time": "2021-07-26T15:49:29.896603",
     "status": "completed"
    },
    "tags": []
   },
   "source": [
    "# pred と targetの相関を図示"
   ]
  },
  {
   "cell_type": "code",
   "execution_count": 14,
   "id": "5da9766a",
   "metadata": {
    "execution": {
     "iopub.execute_input": "2021-07-26T15:49:29.973883Z",
     "iopub.status.busy": "2021-07-26T15:49:29.972991Z",
     "iopub.status.idle": "2021-07-26T15:49:30.240927Z",
     "shell.execute_reply": "2021-07-26T15:49:30.241340Z",
     "shell.execute_reply.started": "2021-07-26T15:38:09.185690Z"
    },
    "papermill": {
     "duration": 0.298916,
     "end_time": "2021-07-26T15:49:30.241484",
     "exception": false,
     "start_time": "2021-07-26T15:49:29.942568",
     "status": "completed"
    },
    "tags": []
   },
   "outputs": [
    {
     "data": {
      "text/plain": [
       "<AxesSubplot:xlabel='meanpooling pred', ylabel='target'>"
      ]
     },
     "execution_count": 14,
     "metadata": {},
     "output_type": "execute_result"
    },
    {
     "data": {
      "image/png": "[encoded data removed]",
      "text/plain": [
       "<Figure size 432x288 with 1 Axes>"
      ]
     },
     "metadata": {},
     "output_type": "display_data"
    }
   ],
   "source": [
    "import seaborn as sns\n",
    "\n",
    "sns.scatterplot(data=df_meanpooling, x='meanpooling pred', y='target')"
   ]
  },
  {
   "cell_type": "markdown",
   "id": "7b8d8f9c",
   "metadata": {
    "papermill": {
     "duration": 0.025584,
     "end_time": "2021-07-26T15:49:30.293142",
     "exception": false,
     "start_time": "2021-07-26T15:49:30.267558",
     "status": "completed"
    },
    "tags": []
   },
   "source": [
    "まぁまぁきれいな相関"
   ]
  },
  {
   "cell_type": "markdown",
   "id": "f4d31c5e",
   "metadata": {
    "papermill": {
     "duration": 0.025502,
     "end_time": "2021-07-26T15:49:30.347768",
     "exception": false,
     "start_time": "2021-07-26T15:49:30.322266",
     "status": "completed"
    },
    "tags": []
   },
   "source": [
    "# csv出力"
   ]
  },
  {
   "cell_type": "code",
   "execution_count": 15,
   "id": "086ac0fb",
   "metadata": {
    "execution": {
     "iopub.execute_input": "2021-07-26T15:49:30.406620Z",
     "iopub.status.busy": "2021-07-26T15:49:30.405721Z",
     "iopub.status.idle": "2021-07-26T15:49:30.532741Z",
     "shell.execute_reply": "2021-07-26T15:49:30.532171Z",
     "shell.execute_reply.started": "2021-07-26T15:38:09.459187Z"
    },
    "papermill": {
     "duration": 0.159724,
     "end_time": "2021-07-26T15:49:30.532899",
     "exception": false,
     "start_time": "2021-07-26T15:49:30.373175",
     "status": "completed"
    },
    "tags": []
   },
   "outputs": [],
   "source": [
    "df_meanpooling.to_csv('meanpooling_stackingdata.csv',index=False)"
   ]
  },
  {
   "cell_type": "code",
   "execution_count": null,
   "id": "74881ef6",
   "metadata": {
    "id": "u9f8kckWIH30",
    "papermill": {
     "duration": 0.025437,
     "end_time": "2021-07-26T15:49:30.585247",
     "exception": false,
     "start_time": "2021-07-26T15:49:30.559810",
     "status": "completed"
    },
    "tags": []
   },
   "outputs": [],
   "source": []
  },
  {
   "cell_type": "code",
   "execution_count": null,
   "id": "b585ec69",
   "metadata": {
    "id": "YYSzL847IH1U",
    "papermill": {
     "duration": 0.02799,
     "end_time": "2021-07-26T15:49:30.638057",
     "exception": false,
     "start_time": "2021-07-26T15:49:30.610067",
     "status": "completed"
    },
    "tags": []
   },
   "outputs": [],
   "source": []
  }
 ],
 "metadata": {
  "kernelspec": {
   "display_name": "Python 3",
   "language": "python",
   "name": "python3"
  },
  "language_info": {
   "codemirror_mode": {
    "name": "ipython",
    "version": 3
   },
   "file_extension": ".py",
   "mimetype": "text/x-python",
   "name": "python",
   "nbconvert_exporter": "python",
   "pygments_lexer": "ipython3",
   "version": "3.7.10"
  },
  "papermill": {
   "default_parameters": {},
   "duration": 365.72354,
   "end_time": "2021-07-26T15:49:33.403390",
   "environment_variables": {},
   "exception": null,
   "input_path": "__notebook__.ipynb",
   "output_path": "__notebook__.ipynb",
   "parameters": {},
   "start_time": "2021-07-26T15:43:27.679850",
   "version": "2.3.3"
  },
  "widgets": {
   "application/vnd.jupyter.widget-state+json": {
    "state": {
     "1a6c510ce04240b298376019b3e9b9ab": {
      "model_module": "@jupyter-widgets/controls",
      "model_module_version": "1.5.0",
      "model_name": "HTMLModel",
      "state": {
       "_dom_classes": [],
       "_model_module": "@jupyter-widgets/controls",
       "_model_module_version": "1.5.0",
       "_model_name": "HTMLModel",
       "_view_count": null,
       "_view_module": "@jupyter-widgets/controls",
       "_view_module_version": "1.5.0",
       "_view_name": "HTMLView",
       "description": "",
       "description_tooltip": null,
       "layout": "IPY_MODEL_538d5e788ed644b085d1f6e3252ea6bd",
       "placeholder": "​",
       "style": "IPY_MODEL_38e7c793ec234b79815bdb12d26a709a",
       "value": " 482/482 [00:00&lt;00:00, 16.9kB/s]"
      }
     },
     "21eb69c9f0c046b181eff0bbe9bc153a": {
      "model_module": "@jupyter-widgets/base",
      "model_module_version": "1.2.0",
      "model_name": "LayoutModel",
      "state": {
       "_model_module": "@jupyter-widgets/base",
       "_model_module_version": "1.2.0",
       "_model_name": "LayoutModel",
       "_view_count": null,
       "_view_module": "@jupyter-widgets/base",
       "_view_module_version": "1.2.0",
       "_view_name": "LayoutView",
       "align_content": null,
       "align_items": null,
       "align_self": null,
       "border": null,
       "bottom": null,
       "display": null,
       "flex": null,
       "flex_flow": null,
       "grid_area": null,
       "grid_auto_columns": null,
       "grid_auto_flow": null,
       "grid_auto_rows": null,
       "grid_column": null,
       "grid_gap": null,
       "grid_row": null,
       "grid_template_areas": null,
       "grid_template_columns": null,
       "grid_template_rows": null,
       "height": null,
       "justify_content": null,
       "justify_items": null,
       "left": null,
       "margin": null,
       "max_height": null,
       "max_width": null,
       "min_height": null,
       "min_width": null,
       "object_fit": null,
       "object_position": null,
       "order": null,
       "overflow": null,
       "overflow_x": null,
       "overflow_y": null,
       "padding": null,
       "right": null,
       "top": null,
       "visibility": null,
       "width": null
      }
     },
     "22ac438f106043218cfe90ad27544bb5": {
      "model_module": "@jupyter-widgets/base",
      "model_module_version": "1.2.0",
      "model_name": "LayoutModel",
      "state": {
       "_model_module": "@jupyter-widgets/base",
       "_model_module_version": "1.2.0",
       "_model_name": "LayoutModel",
       "_view_count": null,
       "_view_module": "@jupyter-widgets/base",
       "_view_module_version": "1.2.0",
       "_view_name": "LayoutView",
       "align_content": null,
       "align_items": null,
       "align_self": null,
       "border": null,
       "bottom": null,
       "display": null,
       "flex": null,
       "flex_flow": null,
       "grid_area": null,
       "grid_auto_columns": null,
       "grid_auto_flow": null,
       "grid_auto_rows": null,
       "grid_column": null,
       "grid_gap": null,
       "grid_row": null,
       "grid_template_areas": null,
       "grid_template_columns": null,
       "grid_template_rows": null,
       "height": null,
       "justify_content": null,
       "justify_items": null,
       "left": null,
       "margin": null,
       "max_height": null,
       "max_width": null,
       "min_height": null,
       "min_width": null,
       "object_fit": null,
       "object_position": null,
       "order": null,
       "overflow": null,
       "overflow_x": null,
       "overflow_y": null,
       "padding": null,
       "right": null,
       "top": null,
       "visibility": null,
       "width": null
      }
     },
     "2374ce1024d64df79e99370878655dbd": {
      "model_module": "@jupyter-widgets/controls",
      "model_module_version": "1.5.0",
      "model_name": "HTMLModel",
      "state": {
       "_dom_classes": [],
       "_model_module": "@jupyter-widgets/controls",
       "_model_module_version": "1.5.0",
       "_model_name": "HTMLModel",
       "_view_count": null,
       "_view_module": "@jupyter-widgets/controls",
       "_view_module_version": "1.5.0",
       "_view_name": "HTMLView",
       "description": "",
       "description_tooltip": null,
       "layout": "IPY_MODEL_2c92be9587a54bb1b3b732959503d7ab",
       "placeholder": "​",
       "style": "IPY_MODEL_42bd2540fa0f4963a7d76224489a2793",
       "value": " 1.43G/1.43G [02:02&lt;00:00, 12.3MB/s]"
      }
     },
     "243e8fff2032405883b5a4b1fa778efc": {
      "model_module": "@jupyter-widgets/controls",
      "model_module_version": "1.5.0",
      "model_name": "ProgressStyleModel",
      "state": {
       "_model_module": "@jupyter-widgets/controls",
       "_model_module_version": "1.5.0",
       "_model_name": "ProgressStyleModel",
       "_view_count": null,
       "_view_module": "@jupyter-widgets/base",
       "_view_module_version": "1.2.0",
       "_view_name": "StyleView",
       "bar_color": null,
       "description_width": ""
      }
     },
     "2c92be9587a54bb1b3b732959503d7ab": {
      "model_module": "@jupyter-widgets/base",
      "model_module_version": "1.2.0",
      "model_name": "LayoutModel",
      "state": {
       "_model_module": "@jupyter-widgets/base",
       "_model_module_version": "1.2.0",
       "_model_name": "LayoutModel",
       "_view_count": null,
       "_view_module": "@jupyter-widgets/base",
       "_view_module_version": "1.2.0",
       "_view_name": "LayoutView",
       "align_content": null,
       "align_items": null,
       "align_self": null,
       "border": null,
       "bottom": null,
       "display": null,
       "flex": null,
       "flex_flow": null,
       "grid_area": null,
       "grid_auto_columns": null,
       "grid_auto_flow": null,
       "grid_auto_rows": null,
       "grid_column": null,
       "grid_gap": null,
       "grid_row": null,
       "grid_template_areas": null,
       "grid_template_columns": null,
       "grid_template_rows": null,
       "height": null,
       "justify_content": null,
       "justify_items": null,
       "left": null,
       "margin": null,
       "max_height": null,
       "max_width": null,
       "min_height": null,
       "min_width": null,
       "object_fit": null,
       "object_position": null,
       "order": null,
       "overflow": null,
       "overflow_x": null,
       "overflow_y": null,
       "padding": null,
       "right": null,
       "top": null,
       "visibility": null,
       "width": null
      }
     },
     "316846b741a84c1284f57ba75867d508": {
      "model_module": "@jupyter-widgets/base",
      "model_module_version": "1.2.0",
      "model_name": "LayoutModel",
      "state": {
       "_model_module": "@jupyter-widgets/base",
       "_model_module_version": "1.2.0",
       "_model_name": "LayoutModel",
       "_view_count": null,
       "_view_module": "@jupyter-widgets/base",
       "_view_module_version": "1.2.0",
       "_view_name": "LayoutView",
       "align_content": null,
       "align_items": null,
       "align_self": null,
       "border": null,
       "bottom": null,
       "display": null,
       "flex": null,
       "flex_flow": null,
       "grid_area": null,
       "grid_auto_columns": null,
       "grid_auto_flow": null,
       "grid_auto_rows": null,
       "grid_column": null,
       "grid_gap": null,
       "grid_row": null,
       "grid_template_areas": null,
       "grid_template_columns": null,
       "grid_template_rows": null,
       "height": null,
       "justify_content": null,
       "justify_items": null,
       "left": null,
       "margin": null,
       "max_height": null,
       "max_width": null,
       "min_height": null,
       "min_width": null,
       "object_fit": null,
       "object_position": null,
       "order": null,
       "overflow": null,
       "overflow_x": null,
       "overflow_y": null,
       "padding": null,
       "right": null,
       "top": null,
       "visibility": null,
       "width": null
      }
     },
     "38e7c793ec234b79815bdb12d26a709a": {
      "model_module": "@jupyter-widgets/controls",
      "model_module_version": "1.5.0",
      "model_name": "DescriptionStyleModel",
      "state": {
       "_model_module": "@jupyter-widgets/controls",
       "_model_module_version": "1.5.0",
       "_model_name": "DescriptionStyleModel",
       "_view_count": null,
       "_view_module": "@jupyter-widgets/base",
       "_view_module_version": "1.2.0",
       "_view_name": "StyleView",
       "description_width": ""
      }
     },
     "42bd2540fa0f4963a7d76224489a2793": {
      "model_module": "@jupyter-widgets/controls",
      "model_module_version": "1.5.0",
      "model_name": "DescriptionStyleModel",
      "state": {
       "_model_module": "@jupyter-widgets/controls",
       "_model_module_version": "1.5.0",
       "_model_name": "DescriptionStyleModel",
       "_view_count": null,
       "_view_module": "@jupyter-widgets/base",
       "_view_module_version": "1.2.0",
       "_view_name": "StyleView",
       "description_width": ""
      }
     },
     "4fca0799f6a649bbb66268bd7da08978": {
      "model_module": "@jupyter-widgets/controls",
      "model_module_version": "1.5.0",
      "model_name": "FloatProgressModel",
      "state": {
       "_dom_classes": [],
       "_model_module": "@jupyter-widgets/controls",
       "_model_module_version": "1.5.0",
       "_model_name": "FloatProgressModel",
       "_view_count": null,
       "_view_module": "@jupyter-widgets/controls",
       "_view_module_version": "1.5.0",
       "_view_name": "ProgressView",
       "bar_style": "success",
       "description": "",
       "description_tooltip": null,
       "layout": "IPY_MODEL_22ac438f106043218cfe90ad27544bb5",
       "max": 482.0,
       "min": 0.0,
       "orientation": "horizontal",
       "style": "IPY_MODEL_e97bf1446ef64016b0bbff84e54a14e1",
       "value": 482.0
      }
     },
     "538d5e788ed644b085d1f6e3252ea6bd": {
      "model_module": "@jupyter-widgets/base",
      "model_module_version": "1.2.0",
      "model_name": "LayoutModel",
      "state": {
       "_model_module": "@jupyter-widgets/base",
       "_model_module_version": "1.2.0",
       "_model_name": "LayoutModel",
       "_view_count": null,
       "_view_module": "@jupyter-widgets/base",
       "_view_module_version": "1.2.0",
       "_view_name": "LayoutView",
       "align_content": null,
       "align_items": null,
       "align_self": null,
       "border": null,
       "bottom": null,
       "display": null,
       "flex": null,
       "flex_flow": null,
       "grid_area": null,
       "grid_auto_columns": null,
       "grid_auto_flow": null,
       "grid_auto_rows": null,
       "grid_column": null,
       "grid_gap": null,
       "grid_row": null,
       "grid_template_areas": null,
       "grid_template_columns": null,
       "grid_template_rows": null,
       "height": null,
       "justify_content": null,
       "justify_items": null,
       "left": null,
       "margin": null,
       "max_height": null,
       "max_width": null,
       "min_height": null,
       "min_width": null,
       "object_fit": null,
       "object_position": null,
       "order": null,
       "overflow": null,
       "overflow_x": null,
       "overflow_y": null,
       "padding": null,
       "right": null,
       "top": null,
       "visibility": null,
       "width": null
      }
     },
     "59f765b85a8f48ba87d3f469a1b0bb8a": {
      "model_module": "@jupyter-widgets/controls",
      "model_module_version": "1.5.0",
      "model_name": "HTMLModel",
      "state": {
       "_dom_classes": [],
       "_model_module": "@jupyter-widgets/controls",
       "_model_module_version": "1.5.0",
       "_model_name": "HTMLModel",
       "_view_count": null,
       "_view_module": "@jupyter-widgets/controls",
       "_view_module_version": "1.5.0",
       "_view_name": "HTMLView",
       "description": "",
       "description_tooltip": null,
       "layout": "IPY_MODEL_c6d126350e234a768deb5d0a6ef56263",
       "placeholder": "​",
       "style": "IPY_MODEL_83466588732347e4bb2ffed6e164f2fe",
       "value": "Downloading: 100%"
      }
     },
     "72a18dc7b0ee4499856accb16888a0d7": {
      "model_module": "@jupyter-widgets/controls",
      "model_module_version": "1.5.0",
      "model_name": "FloatProgressModel",
      "state": {
       "_dom_classes": [],
       "_model_module": "@jupyter-widgets/controls",
       "_model_module_version": "1.5.0",
       "_model_name": "FloatProgressModel",
       "_view_count": null,
       "_view_module": "@jupyter-widgets/controls",
       "_view_module_version": "1.5.0",
       "_view_name": "ProgressView",
       "bar_style": "success",
       "description": "",
       "description_tooltip": null,
       "layout": "IPY_MODEL_759963205dcc4be792a6d288f1825e84",
       "max": 1425941629.0,
       "min": 0.0,
       "orientation": "horizontal",
       "style": "IPY_MODEL_243e8fff2032405883b5a4b1fa778efc",
       "value": 1425941629.0
      }
     },
     "759963205dcc4be792a6d288f1825e84": {
      "model_module": "@jupyter-widgets/base",
      "model_module_version": "1.2.0",
      "model_name": "LayoutModel",
      "state": {
       "_model_module": "@jupyter-widgets/base",
       "_model_module_version": "1.2.0",
       "_model_name": "LayoutModel",
       "_view_count": null,
       "_view_module": "@jupyter-widgets/base",
       "_view_module_version": "1.2.0",
       "_view_name": "LayoutView",
       "align_content": null,
       "align_items": null,
       "align_self": null,
       "border": null,
       "bottom": null,
       "display": null,
       "flex": null,
       "flex_flow": null,
       "grid_area": null,
       "grid_auto_columns": null,
       "grid_auto_flow": null,
       "grid_auto_rows": null,
       "grid_column": null,
       "grid_gap": null,
       "grid_row": null,
       "grid_template_areas": null,
       "grid_template_columns": null,
       "grid_template_rows": null,
       "height": null,
       "justify_content": null,
       "justify_items": null,
       "left": null,
       "margin": null,
       "max_height": null,
       "max_width": null,
       "min_height": null,
       "min_width": null,
       "object_fit": null,
       "object_position": null,
       "order": null,
       "overflow": null,
       "overflow_x": null,
       "overflow_y": null,
       "padding": null,
       "right": null,
       "top": null,
       "visibility": null,
       "width": null
      }
     },
     "7cd0c7b99da0424389d2afcac200af81": {
      "model_module": "@jupyter-widgets/controls",
      "model_module_version": "1.5.0",
      "model_name": "DescriptionStyleModel",
      "state": {
       "_model_module": "@jupyter-widgets/controls",
       "_model_module_version": "1.5.0",
       "_model_name": "DescriptionStyleModel",
       "_view_count": null,
       "_view_module": "@jupyter-widgets/base",
       "_view_module_version": "1.2.0",
       "_view_name": "StyleView",
       "description_width": ""
      }
     },
     "83466588732347e4bb2ffed6e164f2fe": {
      "model_module": "@jupyter-widgets/controls",
      "model_module_version": "1.5.0",
      "model_name": "DescriptionStyleModel",
      "state": {
       "_model_module": "@jupyter-widgets/controls",
       "_model_module_version": "1.5.0",
       "_model_name": "DescriptionStyleModel",
       "_view_count": null,
       "_view_module": "@jupyter-widgets/base",
       "_view_module_version": "1.2.0",
       "_view_name": "StyleView",
       "description_width": ""
      }
     },
     "9533c207018049a9af77c8e830a3e58c": {
      "model_module": "@jupyter-widgets/controls",
      "model_module_version": "1.5.0",
      "model_name": "HBoxModel",
      "state": {
       "_dom_classes": [],
       "_model_module": "@jupyter-widgets/controls",
       "_model_module_version": "1.5.0",
       "_model_name": "HBoxModel",
       "_view_count": null,
       "_view_module": "@jupyter-widgets/controls",
       "_view_module_version": "1.5.0",
       "_view_name": "HBoxView",
       "box_style": "",
       "children": [
        "IPY_MODEL_59f765b85a8f48ba87d3f469a1b0bb8a",
        "IPY_MODEL_72a18dc7b0ee4499856accb16888a0d7",
        "IPY_MODEL_2374ce1024d64df79e99370878655dbd"
       ],
       "layout": "IPY_MODEL_21eb69c9f0c046b181eff0bbe9bc153a"
      }
     },
     "c340397dd9594c0883a0190ac47e27d8": {
      "model_module": "@jupyter-widgets/controls",
      "model_module_version": "1.5.0",
      "model_name": "HTMLModel",
      "state": {
       "_dom_classes": [],
       "_model_module": "@jupyter-widgets/controls",
       "_model_module_version": "1.5.0",
       "_model_name": "HTMLModel",
       "_view_count": null,
       "_view_module": "@jupyter-widgets/controls",
       "_view_module_version": "1.5.0",
       "_view_name": "HTMLView",
       "description": "",
       "description_tooltip": null,
       "layout": "IPY_MODEL_df2b0f294e6e414f819caa0671d8aca7",
       "placeholder": "​",
       "style": "IPY_MODEL_7cd0c7b99da0424389d2afcac200af81",
       "value": "Downloading: 100%"
      }
     },
     "c6d126350e234a768deb5d0a6ef56263": {
      "model_module": "@jupyter-widgets/base",
      "model_module_version": "1.2.0",
      "model_name": "LayoutModel",
      "state": {
       "_model_module": "@jupyter-widgets/base",
       "_model_module_version": "1.2.0",
       "_model_name": "LayoutModel",
       "_view_count": null,
       "_view_module": "@jupyter-widgets/base",
       "_view_module_version": "1.2.0",
       "_view_name": "LayoutView",
       "align_content": null,
       "align_items": null,
       "align_self": null,
       "border": null,
       "bottom": null,
       "display": null,
       "flex": null,
       "flex_flow": null,
       "grid_area": null,
       "grid_auto_columns": null,
       "grid_auto_flow": null,
       "grid_auto_rows": null,
       "grid_column": null,
       "grid_gap": null,
       "grid_row": null,
       "grid_template_areas": null,
       "grid_template_columns": null,
       "grid_template_rows": null,
       "height": null,
       "justify_content": null,
       "justify_items": null,
       "left": null,
       "margin": null,
       "max_height": null,
       "max_width": null,
       "min_height": null,
       "min_width": null,
       "object_fit": null,
       "object_position": null,
       "order": null,
       "overflow": null,
       "overflow_x": null,
       "overflow_y": null,
       "padding": null,
       "right": null,
       "top": null,
       "visibility": null,
       "width": null
      }
     },
     "d8d3e80099884153a867782e6d46633f": {
      "model_module": "@jupyter-widgets/controls",
      "model_module_version": "1.5.0",
      "model_name": "HBoxModel",
      "state": {
       "_dom_classes": [],
       "_model_module": "@jupyter-widgets/controls",
       "_model_module_version": "1.5.0",
       "_model_name": "HBoxModel",
       "_view_count": null,
       "_view_module": "@jupyter-widgets/controls",
       "_view_module_version": "1.5.0",
       "_view_name": "HBoxView",
       "box_style": "",
       "children": [
        "IPY_MODEL_c340397dd9594c0883a0190ac47e27d8",
        "IPY_MODEL_4fca0799f6a649bbb66268bd7da08978",
        "IPY_MODEL_1a6c510ce04240b298376019b3e9b9ab"
       ],
       "layout": "IPY_MODEL_316846b741a84c1284f57ba75867d508"
      }
     },
     "df2b0f294e6e414f819caa0671d8aca7": {
      "model_module": "@jupyter-widgets/base",
      "model_module_version": "1.2.0",
      "model_name": "LayoutModel",
      "state": {
       "_model_module": "@jupyter-widgets/base",
       "_model_module_version": "1.2.0",
       "_model_name": "LayoutModel",
       "_view_count": null,
       "_view_module": "@jupyter-widgets/base",
       "_view_module_version": "1.2.0",
       "_view_name": "LayoutView",
       "align_content": null,
       "align_items": null,
       "align_self": null,
       "border": null,
       "bottom": null,
       "display": null,
       "flex": null,
       "flex_flow": null,
       "grid_area": null,
       "grid_auto_columns": null,
       "grid_auto_flow": null,
       "grid_auto_rows": null,
       "grid_column": null,
       "grid_gap": null,
       "grid_row": null,
       "grid_template_areas": null,
       "grid_template_columns": null,
       "grid_template_rows": null,
       "height": null,
       "justify_content": null,
       "justify_items": null,
       "left": null,
       "margin": null,
       "max_height": null,
       "max_width": null,
       "min_height": null,
       "min_width": null,
       "object_fit": null,
       "object_position": null,
       "order": null,
       "overflow": null,
       "overflow_x": null,
       "overflow_y": null,
       "padding": null,
       "right": null,
       "top": null,
       "visibility": null,
       "width": null
      }
     },
     "e97bf1446ef64016b0bbff84e54a14e1": {
      "model_module": "@jupyter-widgets/controls",
      "model_module_version": "1.5.0",
      "model_name": "ProgressStyleModel",
      "state": {
       "_model_module": "@jupyter-widgets/controls",
       "_model_module_version": "1.5.0",
       "_model_name": "ProgressStyleModel",
       "_view_count": null,
       "_view_module": "@jupyter-widgets/base",
       "_view_module_version": "1.2.0",
       "_view_name": "StyleView",
       "bar_color": null,
       "description_width": ""
      }
     }
    },
    "version_major": 2,
    "version_minor": 0
   }
  }
 },
 "nbformat": 4,
 "nbformat_minor": 5
}
