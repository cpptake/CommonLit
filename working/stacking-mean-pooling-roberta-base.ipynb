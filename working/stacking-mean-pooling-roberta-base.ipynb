{
 "cells": [
  {
   "cell_type": "code",
   "execution_count": 1,
   "id": "wrong-version",
   "metadata": {
    "_cell_guid": "0370cb58-b86e-4c5e-818e-02d66259e073",
    "_uuid": "15c381cd-2a31-4ed7-8d5c-658a46471a46",
    "collapsed": false,
    "execution": {
     "iopub.execute_input": "2021-07-30T01:31:05.288490Z",
     "iopub.status.busy": "2021-07-30T01:31:05.286569Z",
     "iopub.status.idle": "2021-07-30T01:31:05.290321Z",
     "shell.execute_reply": "2021-07-30T01:31:05.289378Z",
     "shell.execute_reply.started": "2021-07-29T12:20:15.201842Z"
    },
    "jupyter": {
     "outputs_hidden": false
    },
    "papermill": {
     "duration": 0.034943,
     "end_time": "2021-07-30T01:31:05.290531",
     "exception": false,
     "start_time": "2021-07-30T01:31:05.255588",
     "status": "completed"
    },
    "tags": []
   },
   "outputs": [],
   "source": [
    "# !pip uninstall fsspec -y\n",
    "# !pip install --upgrade fsspec\n",
    "# !pip install transformers accelerate datasets"
   ]
  },
  {
   "cell_type": "markdown",
   "id": "loved-lodging",
   "metadata": {
    "papermill": {
     "duration": 0.02039,
     "end_time": "2021-07-30T01:31:05.329097",
     "exception": false,
     "start_time": "2021-07-30T01:31:05.308707",
     "status": "completed"
    },
    "tags": []
   },
   "source": [
    "train note\n",
    "<br>https://www.kaggle.com/takeshikobayashi/meanpooling-roberta-base-representation-technique"
   ]
  },
  {
   "cell_type": "markdown",
   "id": "fabulous-throat",
   "metadata": {
    "papermill": {
     "duration": 0.01965,
     "end_time": "2021-07-30T01:31:05.366562",
     "exception": false,
     "start_time": "2021-07-30T01:31:05.346912",
     "status": "completed"
    },
    "tags": []
   },
   "source": [
    "# Define"
   ]
  },
  {
   "cell_type": "code",
   "execution_count": 2,
   "id": "theoretical-humanity",
   "metadata": {
    "execution": {
     "iopub.execute_input": "2021-07-30T01:31:05.409348Z",
     "iopub.status.busy": "2021-07-30T01:31:05.408413Z",
     "iopub.status.idle": "2021-07-30T01:31:12.936150Z",
     "shell.execute_reply": "2021-07-30T01:31:12.935262Z",
     "shell.execute_reply.started": "2021-07-30T01:25:20.358683Z"
    },
    "papermill": {
     "duration": 7.553893,
     "end_time": "2021-07-30T01:31:12.936286",
     "exception": false,
     "start_time": "2021-07-30T01:31:05.382393",
     "status": "completed"
    },
    "tags": []
   },
   "outputs": [],
   "source": [
    "\n",
    "import os\n",
    "import gc\n",
    "import sys\n",
    "import math\n",
    "import time\n",
    "import tqdm\n",
    "import random\n",
    "import numpy as np\n",
    "import pandas as pd\n",
    "import seaborn as sns\n",
    "from tqdm import tqdm\n",
    "import matplotlib.pyplot as plt\n",
    "\n",
    "import warnings\n",
    "warnings.filterwarnings('ignore')\n",
    "\n",
    "from sklearn.metrics import mean_squared_error\n",
    "from sklearn.model_selection import StratifiedKFold\n",
    "\n",
    "import torch\n",
    "import torch.nn as nn\n",
    "import torch.optim as optim\n",
    "import torch.nn.functional as F\n",
    "from torch.utils.data import Dataset, DataLoader\n",
    "\n",
    "# from accelerate import Accelerator\n",
    "from transformers import (AutoModel,AutoConfig,\n",
    "                          AutoTokenizer,get_cosine_schedule_with_warmup)\n",
    "\n",
    "from colorama import Fore, Back, Style\n",
    "r_ = Fore.RED\n",
    "b_ = Fore.BLUE\n",
    "c_ = Fore.CYAN\n",
    "g_ = Fore.GREEN\n",
    "y_ = Fore.YELLOW\n",
    "m_ = Fore.MAGENTA\n",
    "sr_ = Style.RESET_ALL\n",
    "\n",
    "\n",
    "# import os\n",
    "# import math\n",
    "# import random\n",
    "# import time\n",
    "\n",
    "# import numpy as np\n",
    "# import pandas as pd\n",
    "\n",
    "# import torch\n",
    "# import torch.nn as nn\n",
    "# from torch.utils.data import Dataset\n",
    "# from torch.utils.data import DataLoader\n",
    "\n",
    "# from transformers import AdamW\n",
    "# from transformers import AutoTokenizer\n",
    "# from transformers import AutoModel\n",
    "# from transformers import AutoConfig\n",
    "# from transformers import get_cosine_schedule_with_warmup\n",
    "\n",
    "# from sklearn.model_selection import KFold\n",
    "\n",
    "# import gc\n",
    "# gc.enable()"
   ]
  },
  {
   "cell_type": "code",
   "execution_count": 3,
   "id": "specialized-mechanics",
   "metadata": {
    "execution": {
     "iopub.execute_input": "2021-07-30T01:31:12.976880Z",
     "iopub.status.busy": "2021-07-30T01:31:12.976331Z",
     "iopub.status.idle": "2021-07-30T01:31:13.125520Z",
     "shell.execute_reply": "2021-07-30T01:31:13.124586Z",
     "shell.execute_reply.started": "2021-07-30T01:25:27.488956Z"
    },
    "papermill": {
     "duration": 0.176236,
     "end_time": "2021-07-30T01:31:13.125660",
     "exception": false,
     "start_time": "2021-07-30T01:31:12.949424",
     "status": "completed"
    },
    "tags": []
   },
   "outputs": [],
   "source": [
    "train_data = pd.read_csv('../input/commonlitreadabilityprize/train.csv')\n",
    "test_data = pd.read_csv('../input/commonlitreadabilityprize/test.csv')\n",
    "sample = pd.read_csv('../input/commonlitreadabilityprize/sample_submission.csv')\n",
    "\n",
    "train_data['excerpt'] = train_data['excerpt'].apply(lambda x: x.replace('\\n',''))\n",
    "\n",
    "\n",
    "##イランデータdrop\n",
    "train_data.drop(train_data[(train_data.target == 0) & (train_data.standard_error == 0)].index,\n",
    "              inplace=True)\n",
    "train_data.reset_index(drop=True, inplace=True)\n",
    "\n",
    "\n",
    "num_bins = int(np.floor(1 + np.log2(len(train_data))))\n",
    "train_data.loc[:,'bins'] = pd.cut(train_data['target'],bins=num_bins,labels=False)\n",
    "\n",
    "bins = train_data.bins.to_numpy()\n",
    "target = train_data.target.to_numpy()\n",
    "\n",
    "def rmse_score(y_true,y_pred):\n",
    "    return np.sqrt(mean_squared_error(y_true,y_pred))\n",
    "\n",
    "\n",
    "DEVICE = \"cuda\" if torch.cuda.is_available() else \"cpu\"\n",
    "\n",
    "config = {\n",
    "    'lr': 2e-5,\n",
    "    'wd':0.01,\n",
    "    'batch_size':16,\n",
    "    'valid_step':10,\n",
    "    'max_len':256,\n",
    "    'epochs':3,\n",
    "    'nfolds':5,\n",
    "    'seed':42,\n",
    "    'model_path':'../input/clrp-roberta-base/clrp_roberta_base',\n",
    "}\n",
    "\n",
    "for i in range(config['nfolds']):\n",
    "    os.makedirs(f'model{i}',exist_ok=True)\n",
    "\n",
    "def seed_everything(seed=42):\n",
    "    random.seed(seed)\n",
    "    os.environ['PYTHONASSEED'] = str(seed)\n",
    "    np.random.seed(seed)\n",
    "    torch.manual_seed(seed)\n",
    "    torch.cuda.manual_seed(seed)\n",
    "    torch.backends.cudnn.deterministic = True\n",
    "    torch.backends.cudnn.benchmark = True\n",
    "\n",
    "seed_everything(seed=config['seed'])\n",
    "\n",
    "train_data['Fold'] = -1\n",
    "kfold = StratifiedKFold(n_splits=config['nfolds'],shuffle=True,random_state=config['seed'])\n",
    "for k , (train_idx,valid_idx) in enumerate(kfold.split(X=train_data,y=bins)):\n",
    "    train_data.loc[valid_idx,'Fold'] = k"
   ]
  },
  {
   "cell_type": "code",
   "execution_count": 4,
   "id": "suitable-crystal",
   "metadata": {
    "execution": {
     "iopub.execute_input": "2021-07-30T01:31:13.164447Z",
     "iopub.status.busy": "2021-07-30T01:31:13.163402Z",
     "iopub.status.idle": "2021-07-30T01:31:13.175972Z",
     "shell.execute_reply": "2021-07-30T01:31:13.176462Z",
     "shell.execute_reply.started": "2021-07-30T01:25:27.681010Z"
    },
    "papermill": {
     "duration": 0.038601,
     "end_time": "2021-07-30T01:31:13.176641",
     "exception": false,
     "start_time": "2021-07-30T01:31:13.138040",
     "status": "completed"
    },
    "tags": []
   },
   "outputs": [
    {
     "data": {
      "text/html": [
       "<div>\n",
       "<style scoped>\n",
       "    .dataframe tbody tr th:only-of-type {\n",
       "        vertical-align: middle;\n",
       "    }\n",
       "\n",
       "    .dataframe tbody tr th {\n",
       "        vertical-align: top;\n",
       "    }\n",
       "\n",
       "    .dataframe thead th {\n",
       "        text-align: right;\n",
       "    }\n",
       "</style>\n",
       "<table border=\"1\" class=\"dataframe\">\n",
       "  <thead>\n",
       "    <tr style=\"text-align: right;\">\n",
       "      <th></th>\n",
       "      <th>id</th>\n",
       "      <th>url_legal</th>\n",
       "      <th>license</th>\n",
       "      <th>excerpt</th>\n",
       "      <th>target</th>\n",
       "      <th>standard_error</th>\n",
       "      <th>bins</th>\n",
       "      <th>Fold</th>\n",
       "    </tr>\n",
       "  </thead>\n",
       "  <tbody>\n",
       "    <tr>\n",
       "      <th>0</th>\n",
       "      <td>c12129c31</td>\n",
       "      <td>NaN</td>\n",
       "      <td>NaN</td>\n",
       "      <td>When the young people returned to the ballroom...</td>\n",
       "      <td>-0.340259</td>\n",
       "      <td>0.464009</td>\n",
       "      <td>7</td>\n",
       "      <td>0</td>\n",
       "    </tr>\n",
       "    <tr>\n",
       "      <th>1</th>\n",
       "      <td>85aa80a4c</td>\n",
       "      <td>NaN</td>\n",
       "      <td>NaN</td>\n",
       "      <td>All through dinner time, Mrs. Fayre was somewh...</td>\n",
       "      <td>-0.315372</td>\n",
       "      <td>0.480805</td>\n",
       "      <td>7</td>\n",
       "      <td>2</td>\n",
       "    </tr>\n",
       "    <tr>\n",
       "      <th>2</th>\n",
       "      <td>b69ac6792</td>\n",
       "      <td>NaN</td>\n",
       "      <td>NaN</td>\n",
       "      <td>As Roger had predicted, the snow departed as q...</td>\n",
       "      <td>-0.580118</td>\n",
       "      <td>0.476676</td>\n",
       "      <td>6</td>\n",
       "      <td>3</td>\n",
       "    </tr>\n",
       "    <tr>\n",
       "      <th>3</th>\n",
       "      <td>dd1000b26</td>\n",
       "      <td>NaN</td>\n",
       "      <td>NaN</td>\n",
       "      <td>And outside before the palace a great garden w...</td>\n",
       "      <td>-1.054013</td>\n",
       "      <td>0.450007</td>\n",
       "      <td>5</td>\n",
       "      <td>2</td>\n",
       "    </tr>\n",
       "    <tr>\n",
       "      <th>4</th>\n",
       "      <td>37c1b32fb</td>\n",
       "      <td>NaN</td>\n",
       "      <td>NaN</td>\n",
       "      <td>Once upon a time there were Three Bears who li...</td>\n",
       "      <td>0.247197</td>\n",
       "      <td>0.510845</td>\n",
       "      <td>8</td>\n",
       "      <td>0</td>\n",
       "    </tr>\n",
       "    <tr>\n",
       "      <th>...</th>\n",
       "      <td>...</td>\n",
       "      <td>...</td>\n",
       "      <td>...</td>\n",
       "      <td>...</td>\n",
       "      <td>...</td>\n",
       "      <td>...</td>\n",
       "      <td>...</td>\n",
       "      <td>...</td>\n",
       "    </tr>\n",
       "    <tr>\n",
       "      <th>2828</th>\n",
       "      <td>25ca8f498</td>\n",
       "      <td>https://sites.ehe.osu.edu/beyondpenguins/files...</td>\n",
       "      <td>CC BY-SA 3.0</td>\n",
       "      <td>When you think of dinosaurs and where they liv...</td>\n",
       "      <td>1.711390</td>\n",
       "      <td>0.646900</td>\n",
       "      <td>11</td>\n",
       "      <td>3</td>\n",
       "    </tr>\n",
       "    <tr>\n",
       "      <th>2829</th>\n",
       "      <td>2c26db523</td>\n",
       "      <td>https://en.wikibooks.org/wiki/Wikijunior:The_E...</td>\n",
       "      <td>CC BY-SA 3.0</td>\n",
       "      <td>So what is a solid? Solids are usually hard be...</td>\n",
       "      <td>0.189476</td>\n",
       "      <td>0.535648</td>\n",
       "      <td>8</td>\n",
       "      <td>2</td>\n",
       "    </tr>\n",
       "    <tr>\n",
       "      <th>2830</th>\n",
       "      <td>cd19e2350</td>\n",
       "      <td>https://en.wikibooks.org/wiki/Wikijunior:The_E...</td>\n",
       "      <td>CC BY-SA 3.0</td>\n",
       "      <td>The second state of matter we will discuss is ...</td>\n",
       "      <td>0.255209</td>\n",
       "      <td>0.483866</td>\n",
       "      <td>8</td>\n",
       "      <td>4</td>\n",
       "    </tr>\n",
       "    <tr>\n",
       "      <th>2831</th>\n",
       "      <td>15e2e9e7a</td>\n",
       "      <td>https://en.wikibooks.org/wiki/Geometry_for_Ele...</td>\n",
       "      <td>CC BY-SA 3.0</td>\n",
       "      <td>Solids are shapes that you can actually touch....</td>\n",
       "      <td>-0.215279</td>\n",
       "      <td>0.514128</td>\n",
       "      <td>7</td>\n",
       "      <td>1</td>\n",
       "    </tr>\n",
       "    <tr>\n",
       "      <th>2832</th>\n",
       "      <td>5b990ba77</td>\n",
       "      <td>https://en.wikibooks.org/wiki/Wikijunior:Biolo...</td>\n",
       "      <td>CC BY-SA 3.0</td>\n",
       "      <td>Animals are made of many cells. They eat thing...</td>\n",
       "      <td>0.300779</td>\n",
       "      <td>0.512379</td>\n",
       "      <td>8</td>\n",
       "      <td>0</td>\n",
       "    </tr>\n",
       "  </tbody>\n",
       "</table>\n",
       "<p>2833 rows × 8 columns</p>\n",
       "</div>"
      ],
      "text/plain": [
       "             id                                          url_legal  \\\n",
       "0     c12129c31                                                NaN   \n",
       "1     85aa80a4c                                                NaN   \n",
       "2     b69ac6792                                                NaN   \n",
       "3     dd1000b26                                                NaN   \n",
       "4     37c1b32fb                                                NaN   \n",
       "...         ...                                                ...   \n",
       "2828  25ca8f498  https://sites.ehe.osu.edu/beyondpenguins/files...   \n",
       "2829  2c26db523  https://en.wikibooks.org/wiki/Wikijunior:The_E...   \n",
       "2830  cd19e2350  https://en.wikibooks.org/wiki/Wikijunior:The_E...   \n",
       "2831  15e2e9e7a  https://en.wikibooks.org/wiki/Geometry_for_Ele...   \n",
       "2832  5b990ba77  https://en.wikibooks.org/wiki/Wikijunior:Biolo...   \n",
       "\n",
       "           license                                            excerpt  \\\n",
       "0              NaN  When the young people returned to the ballroom...   \n",
       "1              NaN  All through dinner time, Mrs. Fayre was somewh...   \n",
       "2              NaN  As Roger had predicted, the snow departed as q...   \n",
       "3              NaN  And outside before the palace a great garden w...   \n",
       "4              NaN  Once upon a time there were Three Bears who li...   \n",
       "...            ...                                                ...   \n",
       "2828  CC BY-SA 3.0  When you think of dinosaurs and where they liv...   \n",
       "2829  CC BY-SA 3.0  So what is a solid? Solids are usually hard be...   \n",
       "2830  CC BY-SA 3.0  The second state of matter we will discuss is ...   \n",
       "2831  CC BY-SA 3.0  Solids are shapes that you can actually touch....   \n",
       "2832  CC BY-SA 3.0  Animals are made of many cells. They eat thing...   \n",
       "\n",
       "        target  standard_error  bins  Fold  \n",
       "0    -0.340259        0.464009     7     0  \n",
       "1    -0.315372        0.480805     7     2  \n",
       "2    -0.580118        0.476676     6     3  \n",
       "3    -1.054013        0.450007     5     2  \n",
       "4     0.247197        0.510845     8     0  \n",
       "...        ...             ...   ...   ...  \n",
       "2828  1.711390        0.646900    11     3  \n",
       "2829  0.189476        0.535648     8     2  \n",
       "2830  0.255209        0.483866     8     4  \n",
       "2831 -0.215279        0.514128     7     1  \n",
       "2832  0.300779        0.512379     8     0  \n",
       "\n",
       "[2833 rows x 8 columns]"
      ]
     },
     "execution_count": 4,
     "metadata": {},
     "output_type": "execute_result"
    }
   ],
   "source": [
    "train_data"
   ]
  },
  {
   "cell_type": "code",
   "execution_count": 5,
   "id": "adverse-corner",
   "metadata": {
    "execution": {
     "iopub.execute_input": "2021-07-30T01:31:13.217773Z",
     "iopub.status.busy": "2021-07-30T01:31:13.216834Z",
     "iopub.status.idle": "2021-07-30T01:31:13.219156Z",
     "shell.execute_reply": "2021-07-30T01:31:13.219529Z",
     "shell.execute_reply.started": "2021-07-30T01:25:35.236736Z"
    },
    "papermill": {
     "duration": 0.028725,
     "end_time": "2021-07-30T01:31:13.219665",
     "exception": false,
     "start_time": "2021-07-30T01:31:13.190940",
     "status": "completed"
    },
    "tags": []
   },
   "outputs": [],
   "source": [
    "# class CLRPDataset(Dataset):\n",
    "#     def __init__(self,df,tokenizer,max_len=128):\n",
    "#         self.excerpt = df['excerpt'].to_numpy()\n",
    "#         self.targets = df['target'].to_numpy()\n",
    "#         self.max_len = max_len\n",
    "#         self.tokenizer = tokenizer\n",
    "    \n",
    "#     def __getitem__(self,idx):\n",
    "#         encode = self.tokenizer(self.excerpt[idx],\n",
    "#                                 return_tensors='pt',\n",
    "#                                 max_length=self.max_len,\n",
    "#                                 padding='max_length',\n",
    "#                                 truncation=True)\n",
    "        \n",
    "#         target = torch.tensor(self.targets[idx],dtype=torch.float)\n",
    "#         return encode, target\n",
    "    \n",
    "#     def __len__(self):\n",
    "#         return len(self.excerpt)\n",
    "    \n",
    "    \n",
    "\n",
    "class CLRPDataset(Dataset):\n",
    "    def __init__(self,df,tokenizer):\n",
    "        self.excerpt = df['excerpt'].to_numpy()\n",
    "        self.tokenizer = tokenizer\n",
    "    \n",
    "    def __getitem__(self,idx):\n",
    "        encode = self.tokenizer(self.excerpt[idx],return_tensors='pt',\n",
    "                                max_length=config['max_len'],\n",
    "                                padding='max_length',truncation=True)\n",
    "        return encode\n",
    "    \n",
    "    def __len__(self):\n",
    "        return len(self.excerpt)\n",
    "    \n",
    "    \n",
    "    \n",
    "### mean pooling \n",
    "class Model(nn.Module):\n",
    "    def __init__(self,path):\n",
    "        super(Model,self).__init__()\n",
    "        self.config = AutoConfig.from_pretrained(path)\n",
    "        self.config.update({'output_hidden_states':True,\"hidden_dropout_prob\": 0.0})\n",
    "        self.roberta = AutoModel.from_pretrained(path,config=self.config)  \n",
    "#         self.linear = nn.Linear(self.config.hidden_size*4, 1, 1)\n",
    "        self.linear = nn.Linear(self.config.hidden_size, 1)\n",
    "        self.layer_norm = nn.LayerNorm(self.config.hidden_size)\n",
    "\n",
    "    def forward(self,**xb):\n",
    "        attention_mask = xb['attention_mask']\n",
    "        outputs = self.roberta(**xb)\n",
    "        last_hidden_state = outputs[0]\n",
    "        input_mask_expanded = attention_mask.unsqueeze(-1).expand(last_hidden_state.size()).float()\n",
    "        sum_embeddings = torch.sum(last_hidden_state * input_mask_expanded, 1)\n",
    "        sum_mask = input_mask_expanded.sum(1)\n",
    "        sum_mask = torch.clamp(sum_mask, min=1e-9)\n",
    "        mean_embeddings = sum_embeddings / sum_mask\n",
    "        norm_mean_embeddings = self.layer_norm(mean_embeddings)\n",
    "        logits = self.linear(norm_mean_embeddings)\n",
    "        \n",
    "        preds = logits.squeeze(-1).squeeze(-1)\n",
    "        return preds.view(-1).float()"
   ]
  },
  {
   "cell_type": "code",
   "execution_count": null,
   "id": "spatial-links",
   "metadata": {
    "papermill": {
     "duration": 0.013012,
     "end_time": "2021-07-30T01:31:13.245723",
     "exception": false,
     "start_time": "2021-07-30T01:31:13.232711",
     "status": "completed"
    },
    "tags": []
   },
   "outputs": [],
   "source": []
  },
  {
   "cell_type": "markdown",
   "id": "handmade-feelings",
   "metadata": {
    "papermill": {
     "duration": 0.0124,
     "end_time": "2021-07-30T01:31:13.271621",
     "exception": false,
     "start_time": "2021-07-30T01:31:13.259221",
     "status": "completed"
    },
    "tags": []
   },
   "source": [
    "# stacking"
   ]
  },
  {
   "cell_type": "code",
   "execution_count": 6,
   "id": "southwest-garbage",
   "metadata": {
    "execution": {
     "iopub.execute_input": "2021-07-30T01:31:13.322925Z",
     "iopub.status.busy": "2021-07-30T01:31:13.315592Z",
     "iopub.status.idle": "2021-07-30T01:32:41.235798Z",
     "shell.execute_reply": "2021-07-30T01:32:41.236395Z",
     "shell.execute_reply.started": "2021-07-30T01:26:29.279658Z"
    },
    "papermill": {
     "duration": 87.952201,
     "end_time": "2021-07-30T01:32:41.236618",
     "exception": false,
     "start_time": "2021-07-30T01:31:13.284417",
     "status": "completed"
    },
    "tags": []
   },
   "outputs": [
    {
     "name": "stdout",
     "output_type": "stream",
     "text": [
      "*** fold = 0 ***\n",
      "\n",
      "Using ../input/robertabasemeanpooling/model0/model0.bin\n"
     ]
    },
    {
     "name": "stderr",
     "output_type": "stream",
     "text": [
      "Some weights of RobertaModel were not initialized from the model checkpoint at ../input/clrp-roberta-base/clrp_roberta_base and are newly initialized: ['roberta.pooler.dense.weight', 'roberta.pooler.dense.bias']\n",
      "You should probably TRAIN this model on a down-stream task to be able to use it for predictions and inference.\n",
      "36it [00:06,  5.99it/s]\n"
     ]
    },
    {
     "name": "stdout",
     "output_type": "stream",
     "text": [
      "*** fold = 1 ***\n",
      "\n",
      "Using ../input/robertabasemeanpooling/model1/model1.bin\n"
     ]
    },
    {
     "name": "stderr",
     "output_type": "stream",
     "text": [
      "Some weights of RobertaModel were not initialized from the model checkpoint at ../input/clrp-roberta-base/clrp_roberta_base and are newly initialized: ['roberta.pooler.dense.weight', 'roberta.pooler.dense.bias']\n",
      "You should probably TRAIN this model on a down-stream task to be able to use it for predictions and inference.\n",
      "36it [00:05,  7.17it/s]\n"
     ]
    },
    {
     "name": "stdout",
     "output_type": "stream",
     "text": [
      "*** fold = 2 ***\n",
      "\n",
      "Using ../input/robertabasemeanpooling/model2/model2.bin\n"
     ]
    },
    {
     "name": "stderr",
     "output_type": "stream",
     "text": [
      "Some weights of RobertaModel were not initialized from the model checkpoint at ../input/clrp-roberta-base/clrp_roberta_base and are newly initialized: ['roberta.pooler.dense.weight', 'roberta.pooler.dense.bias']\n",
      "You should probably TRAIN this model on a down-stream task to be able to use it for predictions and inference.\n",
      "36it [00:04,  7.31it/s]\n"
     ]
    },
    {
     "name": "stdout",
     "output_type": "stream",
     "text": [
      "*** fold = 3 ***\n",
      "\n",
      "Using ../input/robertabasemeanpooling/model3/model3.bin\n"
     ]
    },
    {
     "name": "stderr",
     "output_type": "stream",
     "text": [
      "Some weights of RobertaModel were not initialized from the model checkpoint at ../input/clrp-roberta-base/clrp_roberta_base and are newly initialized: ['roberta.pooler.dense.weight', 'roberta.pooler.dense.bias']\n",
      "You should probably TRAIN this model on a down-stream task to be able to use it for predictions and inference.\n",
      "36it [00:04,  7.31it/s]\n"
     ]
    },
    {
     "name": "stdout",
     "output_type": "stream",
     "text": [
      "*** fold = 4 ***\n",
      "\n",
      "Using ../input/robertabasemeanpooling/model4/model4.bin\n"
     ]
    },
    {
     "name": "stderr",
     "output_type": "stream",
     "text": [
      "Some weights of RobertaModel were not initialized from the model checkpoint at ../input/clrp-roberta-base/clrp_roberta_base and are newly initialized: ['roberta.pooler.dense.weight', 'roberta.pooler.dense.bias']\n",
      "You should probably TRAIN this model on a down-stream task to be able to use it for predictions and inference.\n",
      "36it [00:04,  7.26it/s]\n"
     ]
    }
   ],
   "source": [
    "pred = []\n",
    "pred0 = []\n",
    "pred1 = []\n",
    "pred2 = []\n",
    "pred3 = []\n",
    "pred4 = []\n",
    "\n",
    "FOLDS = 5\n",
    "EPOCHS = 3\n",
    "BATCH = 8\n",
    "MAX_LEN = 248\n",
    "# TOKENIZER_PATH = \"../input/roberta-large-20210712191259-mlm/clrp_roberta_large\"\n",
    "\n",
    "# all_predictions = np.zeros((5, len(x_val)))\n",
    "\n",
    "# tokenizer = AutoTokenizer.from_pretrained(TOKENIZER_PATH)\n",
    "\n",
    "for fold in range(FOLDS):\n",
    "\n",
    "    x_train = train_data.loc[train_data.Fold != fold, 'excerpt'].tolist()\n",
    "    y_train = train_data.loc[train_data.Fold != fold, 'target'].values\n",
    "#     x_val = train_data[['id','excerpt']].loc[train_data.Fold == fold]\n",
    "#     y_val = train_data.loc[train_data.Fold == fold, 'target'].values\n",
    "    \n",
    "    x_val = train_data[train_data['Fold'] == fold]\n",
    "    y_val = train_data.loc[train_data.Fold == fold, 'target'].values\n",
    "    \n",
    "    tokenizer = AutoTokenizer.from_pretrained('../input/clrp-roberta-base/clrp_roberta_base')\n",
    "    \n",
    "    test_ds = CLRPDataset(x_val,tokenizer)\n",
    "    test_dl = DataLoader(test_ds,\n",
    "                        batch_size = config[\"batch_size\"],\n",
    "                        shuffle=False,\n",
    "                        num_workers = 4,\n",
    "                        pin_memory=True)\n",
    "    \n",
    "#     test_dataset = CLRPDataset(x_val, inference_only=True)\n",
    "#     test_loader = DataLoader(test_dataset, batch_size=BATCH,\n",
    "#                          drop_last=False, shuffle=False, num_workers=2)\n",
    "\n",
    "    print(f'*** fold = {fold} ***')\n",
    "\n",
    "    #CHANGEME\n",
    "    model_path = f\"../input/robertabasemeanpooling/model{fold}/model{fold}.bin\"\n",
    "    print(f\"\\nUsing {model_path}\")\n",
    "    \n",
    "    device='cuda'\n",
    "    model = Model('../input/clrp-roberta-base/clrp_roberta_base')\n",
    "#     model = MeanPoolingModel(MODEL_NAME)\n",
    "    model.load_state_dict(torch.load(model_path))  \n",
    "    model.to(device)\n",
    "    model.eval()\n",
    "    \n",
    "    if fold == 0:\n",
    "        \n",
    "        pred = []\n",
    "        x_fold0 = x_val.copy().drop(['url_legal','license','standard_error','Fold','excerpt','bins'],axis = 1)\n",
    "        \n",
    "        for i, (inputs) in tqdm(enumerate(test_dl)):\n",
    "#             print(inputs)\n",
    "            inputs = {key:val.reshape(val.shape[0],-1).to(device) for key,val in inputs.items()}\n",
    "            outputs = model(**inputs)\n",
    "            outputs = outputs.cpu().detach().numpy().ravel().tolist()\n",
    "            pred.extend(outputs)\n",
    "            \n",
    "        x_fold0['meanpooling roberta pred'] = pred\n",
    "        \n",
    "        \n",
    "    if fold == 1:\n",
    "        \n",
    "        pred = []\n",
    "        x_fold1 = x_val.copy().drop(['url_legal','license','standard_error','Fold','excerpt','bins'],axis = 1)\n",
    "        \n",
    "        for i, (inputs) in tqdm(enumerate(test_dl)):\n",
    "            inputs = {key:val.reshape(val.shape[0],-1).to(device) for key,val in inputs.items()}\n",
    "            outputs = model(**inputs)\n",
    "            outputs = outputs.cpu().detach().numpy().ravel().tolist()\n",
    "            pred.extend(outputs)\n",
    "            \n",
    "        x_fold1['meanpooling roberta pred'] = pred\n",
    "        \n",
    "        \n",
    "    if fold == 2:\n",
    "        \n",
    "        pred = []\n",
    "        x_fold2 = x_val.copy().drop(['url_legal','license','standard_error','Fold','excerpt','bins'],axis = 1)\n",
    "        \n",
    "        for i, (inputs) in tqdm(enumerate(test_dl)):\n",
    "            inputs = {key:val.reshape(val.shape[0],-1).to(device) for key,val in inputs.items()}\n",
    "            outputs = model(**inputs)\n",
    "            outputs = outputs.cpu().detach().numpy().ravel().tolist()\n",
    "            pred.extend(outputs)\n",
    "            \n",
    "        x_fold2['meanpooling roberta pred'] = pred\n",
    "    \n",
    "    \n",
    "    if fold == 3:\n",
    "        \n",
    "        pred = []\n",
    "        x_fold3 = x_val.copy().drop(['url_legal','license','standard_error','Fold','excerpt','bins'],axis = 1)\n",
    "        \n",
    "        for i, (inputs) in tqdm(enumerate(test_dl)):\n",
    "            inputs = {key:val.reshape(val.shape[0],-1).to(device) for key,val in inputs.items()}\n",
    "            outputs = model(**inputs)\n",
    "            outputs = outputs.cpu().detach().numpy().ravel().tolist()\n",
    "            pred.extend(outputs)\n",
    "            \n",
    "        x_fold3['meanpooling roberta pred'] = pred\n",
    "        \n",
    "        \n",
    "        \n",
    "    if fold == 4:\n",
    "        \n",
    "        pred = []\n",
    "        x_fold4 = x_val.copy().drop(['url_legal','license','standard_error','Fold','excerpt','bins'],axis = 1)\n",
    "        \n",
    "        for i, (inputs) in tqdm(enumerate(test_dl)):\n",
    "            inputs = {key:val.reshape(val.shape[0],-1).to(device) for key,val in inputs.items()}\n",
    "            outputs = model(**inputs)\n",
    "            outputs = outputs.cpu().detach().numpy().ravel().tolist()\n",
    "            pred.extend(outputs)\n",
    "            \n",
    "        x_fold4['meanpooling roberta pred'] = pred\n",
    "    \n",
    "    del model\n",
    "    gc.collect()\n",
    "    "
   ]
  },
  {
   "cell_type": "markdown",
   "id": "laughing-clarity",
   "metadata": {
    "papermill": {
     "duration": 0.063879,
     "end_time": "2021-07-30T01:32:41.366637",
     "exception": false,
     "start_time": "2021-07-30T01:32:41.302758",
     "status": "completed"
    },
    "tags": []
   },
   "source": [
    "## concat"
   ]
  },
  {
   "cell_type": "code",
   "execution_count": 7,
   "id": "decreased-indian",
   "metadata": {
    "execution": {
     "iopub.execute_input": "2021-07-30T01:32:41.508972Z",
     "iopub.status.busy": "2021-07-30T01:32:41.508121Z",
     "iopub.status.idle": "2021-07-30T01:32:41.550262Z",
     "shell.execute_reply": "2021-07-30T01:32:41.550711Z",
     "shell.execute_reply.started": "2021-07-30T01:28:47.148949Z"
    },
    "papermill": {
     "duration": 0.120134,
     "end_time": "2021-07-30T01:32:41.550869",
     "exception": false,
     "start_time": "2021-07-30T01:32:41.430735",
     "status": "completed"
    },
    "tags": []
   },
   "outputs": [
    {
     "data": {
      "text/html": [
       "<div>\n",
       "<style scoped>\n",
       "    .dataframe tbody tr th:only-of-type {\n",
       "        vertical-align: middle;\n",
       "    }\n",
       "\n",
       "    .dataframe tbody tr th {\n",
       "        vertical-align: top;\n",
       "    }\n",
       "\n",
       "    .dataframe thead th {\n",
       "        text-align: right;\n",
       "    }\n",
       "</style>\n",
       "<table border=\"1\" class=\"dataframe\">\n",
       "  <thead>\n",
       "    <tr style=\"text-align: right;\">\n",
       "      <th></th>\n",
       "      <th>id</th>\n",
       "      <th>excerpt</th>\n",
       "      <th>target</th>\n",
       "      <th>meanpooling roberta pred</th>\n",
       "    </tr>\n",
       "  </thead>\n",
       "  <tbody>\n",
       "    <tr>\n",
       "      <th>0</th>\n",
       "      <td>c12129c31</td>\n",
       "      <td>When the young people returned to the ballroom...</td>\n",
       "      <td>-0.340259</td>\n",
       "      <td>0.118261</td>\n",
       "    </tr>\n",
       "    <tr>\n",
       "      <th>1</th>\n",
       "      <td>85aa80a4c</td>\n",
       "      <td>All through dinner time, Mrs. Fayre was somewh...</td>\n",
       "      <td>-0.315372</td>\n",
       "      <td>-0.168872</td>\n",
       "    </tr>\n",
       "    <tr>\n",
       "      <th>2</th>\n",
       "      <td>b69ac6792</td>\n",
       "      <td>As Roger had predicted, the snow departed as q...</td>\n",
       "      <td>-0.580118</td>\n",
       "      <td>-0.783466</td>\n",
       "    </tr>\n",
       "    <tr>\n",
       "      <th>3</th>\n",
       "      <td>dd1000b26</td>\n",
       "      <td>And outside before the palace a great garden w...</td>\n",
       "      <td>-1.054013</td>\n",
       "      <td>-1.539442</td>\n",
       "    </tr>\n",
       "    <tr>\n",
       "      <th>4</th>\n",
       "      <td>37c1b32fb</td>\n",
       "      <td>Once upon a time there were Three Bears who li...</td>\n",
       "      <td>0.247197</td>\n",
       "      <td>0.339032</td>\n",
       "    </tr>\n",
       "    <tr>\n",
       "      <th>...</th>\n",
       "      <td>...</td>\n",
       "      <td>...</td>\n",
       "      <td>...</td>\n",
       "      <td>...</td>\n",
       "    </tr>\n",
       "    <tr>\n",
       "      <th>2828</th>\n",
       "      <td>25ca8f498</td>\n",
       "      <td>When you think of dinosaurs and where they liv...</td>\n",
       "      <td>1.711390</td>\n",
       "      <td>0.557733</td>\n",
       "    </tr>\n",
       "    <tr>\n",
       "      <th>2829</th>\n",
       "      <td>2c26db523</td>\n",
       "      <td>So what is a solid? Solids are usually hard be...</td>\n",
       "      <td>0.189476</td>\n",
       "      <td>0.266811</td>\n",
       "    </tr>\n",
       "    <tr>\n",
       "      <th>2830</th>\n",
       "      <td>cd19e2350</td>\n",
       "      <td>The second state of matter we will discuss is ...</td>\n",
       "      <td>0.255209</td>\n",
       "      <td>-0.661112</td>\n",
       "    </tr>\n",
       "    <tr>\n",
       "      <th>2831</th>\n",
       "      <td>15e2e9e7a</td>\n",
       "      <td>Solids are shapes that you can actually touch....</td>\n",
       "      <td>-0.215279</td>\n",
       "      <td>-0.752624</td>\n",
       "    </tr>\n",
       "    <tr>\n",
       "      <th>2832</th>\n",
       "      <td>5b990ba77</td>\n",
       "      <td>Animals are made of many cells. They eat thing...</td>\n",
       "      <td>0.300779</td>\n",
       "      <td>0.252153</td>\n",
       "    </tr>\n",
       "  </tbody>\n",
       "</table>\n",
       "<p>2833 rows × 4 columns</p>\n",
       "</div>"
      ],
      "text/plain": [
       "             id                                            excerpt    target  \\\n",
       "0     c12129c31  When the young people returned to the ballroom... -0.340259   \n",
       "1     85aa80a4c  All through dinner time, Mrs. Fayre was somewh... -0.315372   \n",
       "2     b69ac6792  As Roger had predicted, the snow departed as q... -0.580118   \n",
       "3     dd1000b26  And outside before the palace a great garden w... -1.054013   \n",
       "4     37c1b32fb  Once upon a time there were Three Bears who li...  0.247197   \n",
       "...         ...                                                ...       ...   \n",
       "2828  25ca8f498  When you think of dinosaurs and where they liv...  1.711390   \n",
       "2829  2c26db523  So what is a solid? Solids are usually hard be...  0.189476   \n",
       "2830  cd19e2350  The second state of matter we will discuss is ...  0.255209   \n",
       "2831  15e2e9e7a  Solids are shapes that you can actually touch.... -0.215279   \n",
       "2832  5b990ba77  Animals are made of many cells. They eat thing...  0.300779   \n",
       "\n",
       "      meanpooling roberta pred  \n",
       "0                     0.118261  \n",
       "1                    -0.168872  \n",
       "2                    -0.783466  \n",
       "3                    -1.539442  \n",
       "4                     0.339032  \n",
       "...                        ...  \n",
       "2828                  0.557733  \n",
       "2829                  0.266811  \n",
       "2830                 -0.661112  \n",
       "2831                 -0.752624  \n",
       "2832                  0.252153  \n",
       "\n",
       "[2833 rows x 4 columns]"
      ]
     },
     "execution_count": 7,
     "metadata": {},
     "output_type": "execute_result"
    }
   ],
   "source": [
    "df_concat = pd.concat([x_fold0, x_fold1, x_fold2, x_fold3, x_fold4])\n",
    "df_meanpooling = pd.merge(train_data, df_concat, on='id')\n",
    "\n",
    "df_meanpooling = df_meanpooling.drop(['url_legal','license','standard_error','Fold','target_x','bins'],axis = 1).rename({'excerpt_x':'excerpt','target_y':'target'},axis=1)\n",
    "df_meanpooling"
   ]
  },
  {
   "cell_type": "code",
   "execution_count": 8,
   "id": "religious-dictionary",
   "metadata": {
    "execution": {
     "iopub.execute_input": "2021-07-30T01:32:41.710863Z",
     "iopub.status.busy": "2021-07-30T01:32:41.696471Z",
     "iopub.status.idle": "2021-07-30T01:32:41.883824Z",
     "shell.execute_reply": "2021-07-30T01:32:41.884292Z",
     "shell.execute_reply.started": "2021-07-30T01:28:52.411168Z"
    },
    "papermill": {
     "duration": 0.265688,
     "end_time": "2021-07-30T01:32:41.884441",
     "exception": false,
     "start_time": "2021-07-30T01:32:41.618753",
     "status": "completed"
    },
    "tags": []
   },
   "outputs": [
    {
     "data": {
      "text/plain": [
       "<AxesSubplot:xlabel='meanpooling roberta pred', ylabel='target'>"
      ]
     },
     "execution_count": 8,
     "metadata": {},
     "output_type": "execute_result"
    },
    {
     "data": {
      "image/png": "[encoded data removed]",
      "text/plain": [
       "<Figure size 432x288 with 1 Axes>"
      ]
     },
     "metadata": {
      "needs_background": "light"
     },
     "output_type": "display_data"
    }
   ],
   "source": [
    "import seaborn as sns\n",
    "\n",
    "sns.scatterplot(data=df_meanpooling, x='meanpooling roberta pred', y='target')"
   ]
  },
  {
   "cell_type": "code",
   "execution_count": 9,
   "id": "promotional-skirt",
   "metadata": {
    "execution": {
     "iopub.execute_input": "2021-07-30T01:32:42.028485Z",
     "iopub.status.busy": "2021-07-30T01:32:42.027521Z",
     "iopub.status.idle": "2021-07-30T01:32:42.032428Z",
     "shell.execute_reply": "2021-07-30T01:32:42.031959Z",
     "shell.execute_reply.started": "2021-07-30T01:30:31.090781Z"
    },
    "papermill": {
     "duration": 0.081094,
     "end_time": "2021-07-30T01:32:42.032554",
     "exception": false,
     "start_time": "2021-07-30T01:32:41.951460",
     "status": "completed"
    },
    "tags": []
   },
   "outputs": [
    {
     "name": "stdout",
     "output_type": "stream",
     "text": [
      "roberta base meanpooling RMSE is :  0.4728365400916134\n"
     ]
    }
   ],
   "source": [
    "import numpy as np\n",
    "from sklearn.metrics import mean_squared_error\n",
    "\n",
    "print('roberta base meanpooling RMSE is : ',np.sqrt(mean_squared_error(df_meanpooling['target'], df_meanpooling['meanpooling roberta pred'])))"
   ]
  },
  {
   "cell_type": "code",
   "execution_count": 10,
   "id": "ultimate-tobago",
   "metadata": {
    "execution": {
     "iopub.execute_input": "2021-07-30T01:32:42.175289Z",
     "iopub.status.busy": "2021-07-30T01:32:42.174386Z",
     "iopub.status.idle": "2021-07-30T01:32:42.419319Z",
     "shell.execute_reply": "2021-07-30T01:32:42.418822Z",
     "shell.execute_reply.started": "2021-07-30T01:30:46.474869Z"
    },
    "papermill": {
     "duration": 0.315542,
     "end_time": "2021-07-30T01:32:42.419457",
     "exception": false,
     "start_time": "2021-07-30T01:32:42.103915",
     "status": "completed"
    },
    "tags": []
   },
   "outputs": [],
   "source": [
    "df_meanpooling.to_csv('meanpooling_roberta_stacking.csv',index=False)"
   ]
  },
  {
   "cell_type": "code",
   "execution_count": null,
   "id": "moderate-bible",
   "metadata": {
    "papermill": {
     "duration": 0.066476,
     "end_time": "2021-07-30T01:32:42.553022",
     "exception": false,
     "start_time": "2021-07-30T01:32:42.486546",
     "status": "completed"
    },
    "tags": []
   },
   "outputs": [],
   "source": []
  },
  {
   "cell_type": "code",
   "execution_count": null,
   "id": "employed-parallel",
   "metadata": {
    "papermill": {
     "duration": 0.066945,
     "end_time": "2021-07-30T01:32:42.687445",
     "exception": false,
     "start_time": "2021-07-30T01:32:42.620500",
     "status": "completed"
    },
    "tags": []
   },
   "outputs": [],
   "source": []
  },
  {
   "cell_type": "code",
   "execution_count": null,
   "id": "informative-parent",
   "metadata": {
    "papermill": {
     "duration": 0.067844,
     "end_time": "2021-07-30T01:32:42.821521",
     "exception": false,
     "start_time": "2021-07-30T01:32:42.753677",
     "status": "completed"
    },
    "tags": []
   },
   "outputs": [],
   "source": []
  }
 ],
 "metadata": {
  "kernelspec": {
   "display_name": "Python 3",
   "language": "python",
   "name": "python3"
  },
  "language_info": {
   "codemirror_mode": {
    "name": "ipython",
    "version": 3
   },
   "file_extension": ".py",
   "mimetype": "text/x-python",
   "name": "python",
   "nbconvert_exporter": "python",
   "pygments_lexer": "ipython3",
   "version": "3.7.10"
  },
  "papermill": {
   "default_parameters": {},
   "duration": 107.76816,
   "end_time": "2021-07-30T01:32:45.871850",
   "environment_variables": {},
   "exception": null,
   "input_path": "__notebook__.ipynb",
   "output_path": "__notebook__.ipynb",
   "parameters": {},
   "start_time": "2021-07-30T01:30:58.103690",
   "version": "2.3.3"
  }
 },
 "nbformat": 4,
 "nbformat_minor": 5
}
